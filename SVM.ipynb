{
 "cells": [
  {
   "cell_type": "code",
   "execution_count": 148,
   "metadata": {
    "executionInfo": {
     "elapsed": 510,
     "status": "ok",
     "timestamp": 1653657443534,
     "user": {
      "displayName": "Aditya Choudhari",
      "userId": "07226314186364651672"
     },
     "user_tz": -330
    },
    "id": "xacLV5dlid4G"
   },
   "outputs": [],
   "source": [
    "import numpy as np\n",
    "import pandas as pd\n",
    "import matplotlib.pyplot as plt\n",
    "import seaborn as sns \n",
    "from hyperopt import STATUS_OK, Trials, fmin, hp, tpe"
   ]
  },
  {
   "cell_type": "code",
   "execution_count": 149,
   "metadata": {
    "executionInfo": {
     "elapsed": 605,
     "status": "ok",
     "timestamp": 1653657444653,
     "user": {
      "displayName": "Aditya Choudhari",
      "userId": "07226314186364651672"
     },
     "user_tz": -330
    },
    "id": "MNuOcy0mjkZe"
   },
   "outputs": [],
   "source": [
    "NucliData_df = pd.read_csv('data.csv'); "
   ]
  },
  {
   "cell_type": "code",
   "execution_count": 150,
   "metadata": {
    "colab": {
     "base_uri": "https://localhost:8080/",
     "height": 317
    },
    "executionInfo": {
     "elapsed": 94,
     "status": "ok",
     "timestamp": 1653657444654,
     "user": {
      "displayName": "Aditya Choudhari",
      "userId": "07226314186364651672"
     },
     "user_tz": -330
    },
    "id": "wTbXVA27jqrT",
    "outputId": "d9fe8c6d-a15c-468e-981f-286578763a35"
   },
   "outputs": [
    {
     "data": {
      "text/html": [
       "<div>\n",
       "<style scoped>\n",
       "    .dataframe tbody tr th:only-of-type {\n",
       "        vertical-align: middle;\n",
       "    }\n",
       "\n",
       "    .dataframe tbody tr th {\n",
       "        vertical-align: top;\n",
       "    }\n",
       "\n",
       "    .dataframe thead th {\n",
       "        text-align: right;\n",
       "    }\n",
       "</style>\n",
       "<table border=\"1\" class=\"dataframe\">\n",
       "  <thead>\n",
       "    <tr style=\"text-align: right;\">\n",
       "      <th></th>\n",
       "      <th>id</th>\n",
       "      <th>diagnostics</th>\n",
       "      <th>radius_mean</th>\n",
       "      <th>texture_mean</th>\n",
       "      <th>perimeter_mean</th>\n",
       "      <th>area_mean</th>\n",
       "      <th>smoothness_mean</th>\n",
       "      <th>compactness_mean</th>\n",
       "      <th>concavity_mean</th>\n",
       "      <th>concave points_mean</th>\n",
       "      <th>...</th>\n",
       "      <th>texture_worst</th>\n",
       "      <th>perimeter_worst</th>\n",
       "      <th>area_worst</th>\n",
       "      <th>smoothness_worst</th>\n",
       "      <th>compactness_worst</th>\n",
       "      <th>concavity_worst</th>\n",
       "      <th>concave points_worst</th>\n",
       "      <th>symmetry_worst</th>\n",
       "      <th>fractal_dimension_worst</th>\n",
       "      <th>Unnamed: 32</th>\n",
       "    </tr>\n",
       "  </thead>\n",
       "  <tbody>\n",
       "    <tr>\n",
       "      <th>0</th>\n",
       "      <td>842302</td>\n",
       "      <td>M</td>\n",
       "      <td>17.99</td>\n",
       "      <td>10.38</td>\n",
       "      <td>122.80</td>\n",
       "      <td>1001.0</td>\n",
       "      <td>0.11840</td>\n",
       "      <td>0.27760</td>\n",
       "      <td>0.3001</td>\n",
       "      <td>0.14710</td>\n",
       "      <td>...</td>\n",
       "      <td>17.33</td>\n",
       "      <td>184.60</td>\n",
       "      <td>2019.0</td>\n",
       "      <td>0.1622</td>\n",
       "      <td>0.6656</td>\n",
       "      <td>0.7119</td>\n",
       "      <td>0.2654</td>\n",
       "      <td>0.4601</td>\n",
       "      <td>0.11890</td>\n",
       "      <td>NaN</td>\n",
       "    </tr>\n",
       "    <tr>\n",
       "      <th>1</th>\n",
       "      <td>842517</td>\n",
       "      <td>M</td>\n",
       "      <td>20.57</td>\n",
       "      <td>17.77</td>\n",
       "      <td>132.90</td>\n",
       "      <td>1326.0</td>\n",
       "      <td>0.08474</td>\n",
       "      <td>0.07864</td>\n",
       "      <td>0.0869</td>\n",
       "      <td>0.07017</td>\n",
       "      <td>...</td>\n",
       "      <td>23.41</td>\n",
       "      <td>158.80</td>\n",
       "      <td>1956.0</td>\n",
       "      <td>0.1238</td>\n",
       "      <td>0.1866</td>\n",
       "      <td>0.2416</td>\n",
       "      <td>0.1860</td>\n",
       "      <td>0.2750</td>\n",
       "      <td>0.08902</td>\n",
       "      <td>NaN</td>\n",
       "    </tr>\n",
       "    <tr>\n",
       "      <th>2</th>\n",
       "      <td>84300903</td>\n",
       "      <td>M</td>\n",
       "      <td>19.69</td>\n",
       "      <td>21.25</td>\n",
       "      <td>130.00</td>\n",
       "      <td>1203.0</td>\n",
       "      <td>0.10960</td>\n",
       "      <td>0.15990</td>\n",
       "      <td>0.1974</td>\n",
       "      <td>0.12790</td>\n",
       "      <td>...</td>\n",
       "      <td>25.53</td>\n",
       "      <td>152.50</td>\n",
       "      <td>1709.0</td>\n",
       "      <td>0.1444</td>\n",
       "      <td>0.4245</td>\n",
       "      <td>0.4504</td>\n",
       "      <td>0.2430</td>\n",
       "      <td>0.3613</td>\n",
       "      <td>0.08758</td>\n",
       "      <td>NaN</td>\n",
       "    </tr>\n",
       "    <tr>\n",
       "      <th>3</th>\n",
       "      <td>84348301</td>\n",
       "      <td>M</td>\n",
       "      <td>11.42</td>\n",
       "      <td>20.38</td>\n",
       "      <td>77.58</td>\n",
       "      <td>386.1</td>\n",
       "      <td>0.14250</td>\n",
       "      <td>0.28390</td>\n",
       "      <td>0.2414</td>\n",
       "      <td>0.10520</td>\n",
       "      <td>...</td>\n",
       "      <td>26.50</td>\n",
       "      <td>98.87</td>\n",
       "      <td>567.7</td>\n",
       "      <td>0.2098</td>\n",
       "      <td>0.8663</td>\n",
       "      <td>0.6869</td>\n",
       "      <td>0.2575</td>\n",
       "      <td>0.6638</td>\n",
       "      <td>0.17300</td>\n",
       "      <td>NaN</td>\n",
       "    </tr>\n",
       "    <tr>\n",
       "      <th>4</th>\n",
       "      <td>84358402</td>\n",
       "      <td>M</td>\n",
       "      <td>20.29</td>\n",
       "      <td>14.34</td>\n",
       "      <td>135.10</td>\n",
       "      <td>1297.0</td>\n",
       "      <td>0.10030</td>\n",
       "      <td>0.13280</td>\n",
       "      <td>0.1980</td>\n",
       "      <td>0.10430</td>\n",
       "      <td>...</td>\n",
       "      <td>16.67</td>\n",
       "      <td>152.20</td>\n",
       "      <td>1575.0</td>\n",
       "      <td>0.1374</td>\n",
       "      <td>0.2050</td>\n",
       "      <td>0.4000</td>\n",
       "      <td>0.1625</td>\n",
       "      <td>0.2364</td>\n",
       "      <td>0.07678</td>\n",
       "      <td>NaN</td>\n",
       "    </tr>\n",
       "  </tbody>\n",
       "</table>\n",
       "<p>5 rows × 33 columns</p>\n",
       "</div>"
      ],
      "text/plain": [
       "         id diagnostics  radius_mean  texture_mean  perimeter_mean  area_mean  \\\n",
       "0    842302           M        17.99         10.38          122.80     1001.0   \n",
       "1    842517           M        20.57         17.77          132.90     1326.0   \n",
       "2  84300903           M        19.69         21.25          130.00     1203.0   \n",
       "3  84348301           M        11.42         20.38           77.58      386.1   \n",
       "4  84358402           M        20.29         14.34          135.10     1297.0   \n",
       "\n",
       "   smoothness_mean  compactness_mean  concavity_mean  concave points_mean  \\\n",
       "0          0.11840           0.27760          0.3001              0.14710   \n",
       "1          0.08474           0.07864          0.0869              0.07017   \n",
       "2          0.10960           0.15990          0.1974              0.12790   \n",
       "3          0.14250           0.28390          0.2414              0.10520   \n",
       "4          0.10030           0.13280          0.1980              0.10430   \n",
       "\n",
       "   ...  texture_worst  perimeter_worst  area_worst  smoothness_worst  \\\n",
       "0  ...          17.33           184.60      2019.0            0.1622   \n",
       "1  ...          23.41           158.80      1956.0            0.1238   \n",
       "2  ...          25.53           152.50      1709.0            0.1444   \n",
       "3  ...          26.50            98.87       567.7            0.2098   \n",
       "4  ...          16.67           152.20      1575.0            0.1374   \n",
       "\n",
       "   compactness_worst  concavity_worst  concave points_worst  symmetry_worst  \\\n",
       "0             0.6656           0.7119                0.2654          0.4601   \n",
       "1             0.1866           0.2416                0.1860          0.2750   \n",
       "2             0.4245           0.4504                0.2430          0.3613   \n",
       "3             0.8663           0.6869                0.2575          0.6638   \n",
       "4             0.2050           0.4000                0.1625          0.2364   \n",
       "\n",
       "   fractal_dimension_worst  Unnamed: 32  \n",
       "0                  0.11890          NaN  \n",
       "1                  0.08902          NaN  \n",
       "2                  0.08758          NaN  \n",
       "3                  0.17300          NaN  \n",
       "4                  0.07678          NaN  \n",
       "\n",
       "[5 rows x 33 columns]"
      ]
     },
     "execution_count": 150,
     "metadata": {},
     "output_type": "execute_result"
    }
   ],
   "source": [
    "NucliData_df.head()\n",
    "# viewing first 5 entries"
   ]
  },
  {
   "cell_type": "code",
   "execution_count": 151,
   "metadata": {
    "colab": {
     "base_uri": "https://localhost:8080/"
    },
    "executionInfo": {
     "elapsed": 89,
     "status": "ok",
     "timestamp": 1653657444655,
     "user": {
      "displayName": "Aditya Choudhari",
      "userId": "07226314186364651672"
     },
     "user_tz": -330
    },
    "id": "pJCALy6ajts8",
    "outputId": "32ad71cf-60c6-4bfa-b203-bdc89692ee05"
   },
   "outputs": [
    {
     "data": {
      "text/plain": [
       "pandas.core.frame.DataFrame"
      ]
     },
     "execution_count": 151,
     "metadata": {},
     "output_type": "execute_result"
    }
   ],
   "source": [
    "type(NucliData_df)"
   ]
  },
  {
   "cell_type": "code",
   "execution_count": 152,
   "metadata": {
    "colab": {
     "base_uri": "https://localhost:8080/"
    },
    "executionInfo": {
     "elapsed": 79,
     "status": "ok",
     "timestamp": 1653657444656,
     "user": {
      "displayName": "Aditya Choudhari",
      "userId": "07226314186364651672"
     },
     "user_tz": -330
    },
    "id": "XbkSwdT_yAuN",
    "outputId": "6a60f98d-c249-4004-fa67-24a11424cf0b"
   },
   "outputs": [
    {
     "data": {
      "text/plain": [
       "(569, 33)"
      ]
     },
     "execution_count": 152,
     "metadata": {},
     "output_type": "execute_result"
    }
   ],
   "source": [
    "NucliData_df.shape"
   ]
  },
  {
   "cell_type": "code",
   "execution_count": 153,
   "metadata": {
    "colab": {
     "base_uri": "https://localhost:8080/"
    },
    "executionInfo": {
     "elapsed": 72,
     "status": "ok",
     "timestamp": 1653657444657,
     "user": {
      "displayName": "Aditya Choudhari",
      "userId": "07226314186364651672"
     },
     "user_tz": -330
    },
    "id": "k0gqP0bWyTeS",
    "outputId": "f0de7427-4d9e-4323-88ab-d0ca51d12d3a"
   },
   "outputs": [
    {
     "data": {
      "text/plain": [
       "18777"
      ]
     },
     "execution_count": 153,
     "metadata": {},
     "output_type": "execute_result"
    }
   ],
   "source": [
    "NucliData_df.size"
   ]
  },
  {
   "cell_type": "code",
   "execution_count": 154,
   "metadata": {
    "colab": {
     "base_uri": "https://localhost:8080/"
    },
    "executionInfo": {
     "elapsed": 65,
     "status": "ok",
     "timestamp": 1653657444658,
     "user": {
      "displayName": "Aditya Choudhari",
      "userId": "07226314186364651672"
     },
     "user_tz": -330
    },
    "id": "MFYZlAZlyYUu",
    "outputId": "84e5968b-24c7-4fc8-8e2f-c5365cfca986"
   },
   "outputs": [
    {
     "data": {
      "text/plain": [
       "id                         569\n",
       "diagnostics                569\n",
       "radius_mean                569\n",
       "texture_mean               569\n",
       "perimeter_mean             569\n",
       "area_mean                  569\n",
       "smoothness_mean            569\n",
       "compactness_mean           569\n",
       "concavity_mean             569\n",
       "concave points_mean        569\n",
       "symmetry_mean              569\n",
       "fractal_dimension_mean     569\n",
       "radius_se                  569\n",
       "texture_se                 569\n",
       "perimeter_se               569\n",
       "area_se                    569\n",
       "smoothness_se              569\n",
       "compactness_se             569\n",
       "concavity_se               569\n",
       "concave points_se          569\n",
       "symmetry_se                569\n",
       "fractal_dimension_se       569\n",
       "radius_worst               569\n",
       "texture_worst              569\n",
       "perimeter_worst            569\n",
       "area_worst                 569\n",
       "smoothness_worst           569\n",
       "compactness_worst          569\n",
       "concavity_worst            569\n",
       "concave points_worst       569\n",
       "symmetry_worst             569\n",
       "fractal_dimension_worst    569\n",
       "Unnamed: 32                  0\n",
       "dtype: int64"
      ]
     },
     "execution_count": 154,
     "metadata": {},
     "output_type": "execute_result"
    }
   ],
   "source": [
    "NucliData_df.count()"
   ]
  },
  {
   "cell_type": "code",
   "execution_count": 155,
   "metadata": {
    "colab": {
     "base_uri": "https://localhost:8080/",
     "height": 505
    },
    "executionInfo": {
     "elapsed": 58,
     "status": "ok",
     "timestamp": 1653657444658,
     "user": {
      "displayName": "Aditya Choudhari",
      "userId": "07226314186364651672"
     },
     "user_tz": -330
    },
    "id": "SOMJZt52yc6W",
    "outputId": "10ddfcfc-2c34-49ae-e583-03fd8c9a7f68"
   },
   "outputs": [
    {
     "data": {
      "text/html": [
       "<div>\n",
       "<style scoped>\n",
       "    .dataframe tbody tr th:only-of-type {\n",
       "        vertical-align: middle;\n",
       "    }\n",
       "\n",
       "    .dataframe tbody tr th {\n",
       "        vertical-align: top;\n",
       "    }\n",
       "\n",
       "    .dataframe thead th {\n",
       "        text-align: right;\n",
       "    }\n",
       "</style>\n",
       "<table border=\"1\" class=\"dataframe\">\n",
       "  <thead>\n",
       "    <tr style=\"text-align: right;\">\n",
       "      <th></th>\n",
       "      <th>id</th>\n",
       "      <th>diagnostics</th>\n",
       "      <th>radius_mean</th>\n",
       "      <th>texture_mean</th>\n",
       "      <th>perimeter_mean</th>\n",
       "      <th>area_mean</th>\n",
       "      <th>smoothness_mean</th>\n",
       "      <th>compactness_mean</th>\n",
       "      <th>concavity_mean</th>\n",
       "      <th>concave points_mean</th>\n",
       "      <th>...</th>\n",
       "      <th>texture_worst</th>\n",
       "      <th>perimeter_worst</th>\n",
       "      <th>area_worst</th>\n",
       "      <th>smoothness_worst</th>\n",
       "      <th>compactness_worst</th>\n",
       "      <th>concavity_worst</th>\n",
       "      <th>concave points_worst</th>\n",
       "      <th>symmetry_worst</th>\n",
       "      <th>fractal_dimension_worst</th>\n",
       "      <th>Unnamed: 32</th>\n",
       "    </tr>\n",
       "  </thead>\n",
       "  <tbody>\n",
       "    <tr>\n",
       "      <th>0</th>\n",
       "      <td>False</td>\n",
       "      <td>False</td>\n",
       "      <td>False</td>\n",
       "      <td>False</td>\n",
       "      <td>False</td>\n",
       "      <td>False</td>\n",
       "      <td>False</td>\n",
       "      <td>False</td>\n",
       "      <td>False</td>\n",
       "      <td>False</td>\n",
       "      <td>...</td>\n",
       "      <td>False</td>\n",
       "      <td>False</td>\n",
       "      <td>False</td>\n",
       "      <td>False</td>\n",
       "      <td>False</td>\n",
       "      <td>False</td>\n",
       "      <td>False</td>\n",
       "      <td>False</td>\n",
       "      <td>False</td>\n",
       "      <td>True</td>\n",
       "    </tr>\n",
       "    <tr>\n",
       "      <th>1</th>\n",
       "      <td>False</td>\n",
       "      <td>False</td>\n",
       "      <td>False</td>\n",
       "      <td>False</td>\n",
       "      <td>False</td>\n",
       "      <td>False</td>\n",
       "      <td>False</td>\n",
       "      <td>False</td>\n",
       "      <td>False</td>\n",
       "      <td>False</td>\n",
       "      <td>...</td>\n",
       "      <td>False</td>\n",
       "      <td>False</td>\n",
       "      <td>False</td>\n",
       "      <td>False</td>\n",
       "      <td>False</td>\n",
       "      <td>False</td>\n",
       "      <td>False</td>\n",
       "      <td>False</td>\n",
       "      <td>False</td>\n",
       "      <td>True</td>\n",
       "    </tr>\n",
       "    <tr>\n",
       "      <th>2</th>\n",
       "      <td>False</td>\n",
       "      <td>False</td>\n",
       "      <td>False</td>\n",
       "      <td>False</td>\n",
       "      <td>False</td>\n",
       "      <td>False</td>\n",
       "      <td>False</td>\n",
       "      <td>False</td>\n",
       "      <td>False</td>\n",
       "      <td>False</td>\n",
       "      <td>...</td>\n",
       "      <td>False</td>\n",
       "      <td>False</td>\n",
       "      <td>False</td>\n",
       "      <td>False</td>\n",
       "      <td>False</td>\n",
       "      <td>False</td>\n",
       "      <td>False</td>\n",
       "      <td>False</td>\n",
       "      <td>False</td>\n",
       "      <td>True</td>\n",
       "    </tr>\n",
       "    <tr>\n",
       "      <th>3</th>\n",
       "      <td>False</td>\n",
       "      <td>False</td>\n",
       "      <td>False</td>\n",
       "      <td>False</td>\n",
       "      <td>False</td>\n",
       "      <td>False</td>\n",
       "      <td>False</td>\n",
       "      <td>False</td>\n",
       "      <td>False</td>\n",
       "      <td>False</td>\n",
       "      <td>...</td>\n",
       "      <td>False</td>\n",
       "      <td>False</td>\n",
       "      <td>False</td>\n",
       "      <td>False</td>\n",
       "      <td>False</td>\n",
       "      <td>False</td>\n",
       "      <td>False</td>\n",
       "      <td>False</td>\n",
       "      <td>False</td>\n",
       "      <td>True</td>\n",
       "    </tr>\n",
       "    <tr>\n",
       "      <th>4</th>\n",
       "      <td>False</td>\n",
       "      <td>False</td>\n",
       "      <td>False</td>\n",
       "      <td>False</td>\n",
       "      <td>False</td>\n",
       "      <td>False</td>\n",
       "      <td>False</td>\n",
       "      <td>False</td>\n",
       "      <td>False</td>\n",
       "      <td>False</td>\n",
       "      <td>...</td>\n",
       "      <td>False</td>\n",
       "      <td>False</td>\n",
       "      <td>False</td>\n",
       "      <td>False</td>\n",
       "      <td>False</td>\n",
       "      <td>False</td>\n",
       "      <td>False</td>\n",
       "      <td>False</td>\n",
       "      <td>False</td>\n",
       "      <td>True</td>\n",
       "    </tr>\n",
       "    <tr>\n",
       "      <th>...</th>\n",
       "      <td>...</td>\n",
       "      <td>...</td>\n",
       "      <td>...</td>\n",
       "      <td>...</td>\n",
       "      <td>...</td>\n",
       "      <td>...</td>\n",
       "      <td>...</td>\n",
       "      <td>...</td>\n",
       "      <td>...</td>\n",
       "      <td>...</td>\n",
       "      <td>...</td>\n",
       "      <td>...</td>\n",
       "      <td>...</td>\n",
       "      <td>...</td>\n",
       "      <td>...</td>\n",
       "      <td>...</td>\n",
       "      <td>...</td>\n",
       "      <td>...</td>\n",
       "      <td>...</td>\n",
       "      <td>...</td>\n",
       "      <td>...</td>\n",
       "    </tr>\n",
       "    <tr>\n",
       "      <th>564</th>\n",
       "      <td>False</td>\n",
       "      <td>False</td>\n",
       "      <td>False</td>\n",
       "      <td>False</td>\n",
       "      <td>False</td>\n",
       "      <td>False</td>\n",
       "      <td>False</td>\n",
       "      <td>False</td>\n",
       "      <td>False</td>\n",
       "      <td>False</td>\n",
       "      <td>...</td>\n",
       "      <td>False</td>\n",
       "      <td>False</td>\n",
       "      <td>False</td>\n",
       "      <td>False</td>\n",
       "      <td>False</td>\n",
       "      <td>False</td>\n",
       "      <td>False</td>\n",
       "      <td>False</td>\n",
       "      <td>False</td>\n",
       "      <td>True</td>\n",
       "    </tr>\n",
       "    <tr>\n",
       "      <th>565</th>\n",
       "      <td>False</td>\n",
       "      <td>False</td>\n",
       "      <td>False</td>\n",
       "      <td>False</td>\n",
       "      <td>False</td>\n",
       "      <td>False</td>\n",
       "      <td>False</td>\n",
       "      <td>False</td>\n",
       "      <td>False</td>\n",
       "      <td>False</td>\n",
       "      <td>...</td>\n",
       "      <td>False</td>\n",
       "      <td>False</td>\n",
       "      <td>False</td>\n",
       "      <td>False</td>\n",
       "      <td>False</td>\n",
       "      <td>False</td>\n",
       "      <td>False</td>\n",
       "      <td>False</td>\n",
       "      <td>False</td>\n",
       "      <td>True</td>\n",
       "    </tr>\n",
       "    <tr>\n",
       "      <th>566</th>\n",
       "      <td>False</td>\n",
       "      <td>False</td>\n",
       "      <td>False</td>\n",
       "      <td>False</td>\n",
       "      <td>False</td>\n",
       "      <td>False</td>\n",
       "      <td>False</td>\n",
       "      <td>False</td>\n",
       "      <td>False</td>\n",
       "      <td>False</td>\n",
       "      <td>...</td>\n",
       "      <td>False</td>\n",
       "      <td>False</td>\n",
       "      <td>False</td>\n",
       "      <td>False</td>\n",
       "      <td>False</td>\n",
       "      <td>False</td>\n",
       "      <td>False</td>\n",
       "      <td>False</td>\n",
       "      <td>False</td>\n",
       "      <td>True</td>\n",
       "    </tr>\n",
       "    <tr>\n",
       "      <th>567</th>\n",
       "      <td>False</td>\n",
       "      <td>False</td>\n",
       "      <td>False</td>\n",
       "      <td>False</td>\n",
       "      <td>False</td>\n",
       "      <td>False</td>\n",
       "      <td>False</td>\n",
       "      <td>False</td>\n",
       "      <td>False</td>\n",
       "      <td>False</td>\n",
       "      <td>...</td>\n",
       "      <td>False</td>\n",
       "      <td>False</td>\n",
       "      <td>False</td>\n",
       "      <td>False</td>\n",
       "      <td>False</td>\n",
       "      <td>False</td>\n",
       "      <td>False</td>\n",
       "      <td>False</td>\n",
       "      <td>False</td>\n",
       "      <td>True</td>\n",
       "    </tr>\n",
       "    <tr>\n",
       "      <th>568</th>\n",
       "      <td>False</td>\n",
       "      <td>False</td>\n",
       "      <td>False</td>\n",
       "      <td>False</td>\n",
       "      <td>False</td>\n",
       "      <td>False</td>\n",
       "      <td>False</td>\n",
       "      <td>False</td>\n",
       "      <td>False</td>\n",
       "      <td>False</td>\n",
       "      <td>...</td>\n",
       "      <td>False</td>\n",
       "      <td>False</td>\n",
       "      <td>False</td>\n",
       "      <td>False</td>\n",
       "      <td>False</td>\n",
       "      <td>False</td>\n",
       "      <td>False</td>\n",
       "      <td>False</td>\n",
       "      <td>False</td>\n",
       "      <td>True</td>\n",
       "    </tr>\n",
       "  </tbody>\n",
       "</table>\n",
       "<p>569 rows × 33 columns</p>\n",
       "</div>"
      ],
      "text/plain": [
       "        id  diagnostics  radius_mean  texture_mean  perimeter_mean  area_mean  \\\n",
       "0    False        False        False         False           False      False   \n",
       "1    False        False        False         False           False      False   \n",
       "2    False        False        False         False           False      False   \n",
       "3    False        False        False         False           False      False   \n",
       "4    False        False        False         False           False      False   \n",
       "..     ...          ...          ...           ...             ...        ...   \n",
       "564  False        False        False         False           False      False   \n",
       "565  False        False        False         False           False      False   \n",
       "566  False        False        False         False           False      False   \n",
       "567  False        False        False         False           False      False   \n",
       "568  False        False        False         False           False      False   \n",
       "\n",
       "     smoothness_mean  compactness_mean  concavity_mean  concave points_mean  \\\n",
       "0              False             False           False                False   \n",
       "1              False             False           False                False   \n",
       "2              False             False           False                False   \n",
       "3              False             False           False                False   \n",
       "4              False             False           False                False   \n",
       "..               ...               ...             ...                  ...   \n",
       "564            False             False           False                False   \n",
       "565            False             False           False                False   \n",
       "566            False             False           False                False   \n",
       "567            False             False           False                False   \n",
       "568            False             False           False                False   \n",
       "\n",
       "     ...  texture_worst  perimeter_worst  area_worst  smoothness_worst  \\\n",
       "0    ...          False            False       False             False   \n",
       "1    ...          False            False       False             False   \n",
       "2    ...          False            False       False             False   \n",
       "3    ...          False            False       False             False   \n",
       "4    ...          False            False       False             False   \n",
       "..   ...            ...              ...         ...               ...   \n",
       "564  ...          False            False       False             False   \n",
       "565  ...          False            False       False             False   \n",
       "566  ...          False            False       False             False   \n",
       "567  ...          False            False       False             False   \n",
       "568  ...          False            False       False             False   \n",
       "\n",
       "     compactness_worst  concavity_worst  concave points_worst  symmetry_worst  \\\n",
       "0                False            False                 False           False   \n",
       "1                False            False                 False           False   \n",
       "2                False            False                 False           False   \n",
       "3                False            False                 False           False   \n",
       "4                False            False                 False           False   \n",
       "..                 ...              ...                   ...             ...   \n",
       "564              False            False                 False           False   \n",
       "565              False            False                 False           False   \n",
       "566              False            False                 False           False   \n",
       "567              False            False                 False           False   \n",
       "568              False            False                 False           False   \n",
       "\n",
       "     fractal_dimension_worst  Unnamed: 32  \n",
       "0                      False         True  \n",
       "1                      False         True  \n",
       "2                      False         True  \n",
       "3                      False         True  \n",
       "4                      False         True  \n",
       "..                       ...          ...  \n",
       "564                    False         True  \n",
       "565                    False         True  \n",
       "566                    False         True  \n",
       "567                    False         True  \n",
       "568                    False         True  \n",
       "\n",
       "[569 rows x 33 columns]"
      ]
     },
     "execution_count": 155,
     "metadata": {},
     "output_type": "execute_result"
    }
   ],
   "source": [
    "NucliData_df.isna()"
   ]
  },
  {
   "cell_type": "code",
   "execution_count": 156,
   "metadata": {
    "colab": {
     "base_uri": "https://localhost:8080/"
    },
    "executionInfo": {
     "elapsed": 54,
     "status": "ok",
     "timestamp": 1653657444659,
     "user": {
      "displayName": "Aditya Choudhari",
      "userId": "07226314186364651672"
     },
     "user_tz": -330
    },
    "id": "y_mlwwrsLXFM",
    "outputId": "3a060217-0c5a-4ab1-e364-e29354878872"
   },
   "outputs": [
    {
     "data": {
      "text/plain": [
       "id                           0\n",
       "diagnostics                  0\n",
       "radius_mean                  0\n",
       "texture_mean                 0\n",
       "perimeter_mean               0\n",
       "area_mean                    0\n",
       "smoothness_mean              0\n",
       "compactness_mean             0\n",
       "concavity_mean               0\n",
       "concave points_mean          0\n",
       "symmetry_mean                0\n",
       "fractal_dimension_mean       0\n",
       "radius_se                    0\n",
       "texture_se                   0\n",
       "perimeter_se                 0\n",
       "area_se                      0\n",
       "smoothness_se                0\n",
       "compactness_se               0\n",
       "concavity_se                 0\n",
       "concave points_se            0\n",
       "symmetry_se                  0\n",
       "fractal_dimension_se         0\n",
       "radius_worst                 0\n",
       "texture_worst                0\n",
       "perimeter_worst              0\n",
       "area_worst                   0\n",
       "smoothness_worst             0\n",
       "compactness_worst            0\n",
       "concavity_worst              0\n",
       "concave points_worst         0\n",
       "symmetry_worst               0\n",
       "fractal_dimension_worst      0\n",
       "Unnamed: 32                569\n",
       "dtype: int64"
      ]
     },
     "execution_count": 156,
     "metadata": {},
     "output_type": "execute_result"
    }
   ],
   "source": [
    "NucliData_df.isna().sum()"
   ]
  },
  {
   "cell_type": "code",
   "execution_count": 157,
   "metadata": {
    "executionInfo": {
     "elapsed": 45,
     "status": "ok",
     "timestamp": 1653657444660,
     "user": {
      "displayName": "Aditya Choudhari",
      "userId": "07226314186364651672"
     },
     "user_tz": -330
    },
    "id": "m2e198Aryjnx"
   },
   "outputs": [],
   "source": [
    "NucliData_df = NucliData_df.dropna(axis=1)"
   ]
  },
  {
   "cell_type": "code",
   "execution_count": 158,
   "metadata": {
    "colab": {
     "base_uri": "https://localhost:8080/"
    },
    "executionInfo": {
     "elapsed": 43,
     "status": "ok",
     "timestamp": 1653657444660,
     "user": {
      "displayName": "Aditya Choudhari",
      "userId": "07226314186364651672"
     },
     "user_tz": -330
    },
    "id": "XkljRnjKyq2-",
    "outputId": "8b3420ea-c933-49d6-e2b0-af9b2c15ae63"
   },
   "outputs": [
    {
     "data": {
      "text/plain": [
       "(569, 32)"
      ]
     },
     "execution_count": 158,
     "metadata": {},
     "output_type": "execute_result"
    }
   ],
   "source": [
    "NucliData_df.shape"
   ]
  },
  {
   "cell_type": "code",
   "execution_count": 159,
   "metadata": {
    "colab": {
     "base_uri": "https://localhost:8080/"
    },
    "executionInfo": {
     "elapsed": 34,
     "status": "ok",
     "timestamp": 1653657444661,
     "user": {
      "displayName": "Aditya Choudhari",
      "userId": "07226314186364651672"
     },
     "user_tz": -330
    },
    "id": "mmXLUxkmyvAB",
    "outputId": "4753bdfd-c433-4f44-bca2-a4e351ae30d5"
   },
   "outputs": [
    {
     "data": {
      "text/plain": [
       "B    357\n",
       "M    212\n",
       "Name: diagnostics, dtype: int64"
      ]
     },
     "execution_count": 159,
     "metadata": {},
     "output_type": "execute_result"
    }
   ],
   "source": [
    "NucliData_df['diagnostics'].value_counts()"
   ]
  },
  {
   "cell_type": "code",
   "execution_count": 160,
   "metadata": {
    "colab": {
     "base_uri": "https://localhost:8080/",
     "height": 351
    },
    "executionInfo": {
     "elapsed": 612,
     "status": "ok",
     "timestamp": 1653657445247,
     "user": {
      "displayName": "Aditya Choudhari",
      "userId": "07226314186364651672"
     },
     "user_tz": -330
    },
    "id": "KKpDvaS5y3Qa",
    "outputId": "fd1c510b-b7ef-488b-d42b-d64ed47e1d79"
   },
   "outputs": [
    {
     "name": "stderr",
     "output_type": "stream",
     "text": [
      "C:\\Users\\soura\\anaconda3\\lib\\site-packages\\seaborn\\_decorators.py:36: FutureWarning: Pass the following variable as a keyword arg: x. From version 0.12, the only valid positional argument will be `data`, and passing other arguments without an explicit keyword will result in an error or misinterpretation.\n",
      "  warnings.warn(\n"
     ]
    },
    {
     "data": {
      "text/plain": [
       "<AxesSubplot:xlabel='diagnostics', ylabel='count'>"
      ]
     },
     "execution_count": 160,
     "metadata": {},
     "output_type": "execute_result"
    },
    {
     "data": {
      "image/png": "[encoded data removed]",
      "text/plain": [
       "<Figure size 432x288 with 1 Axes>"
      ]
     },
     "metadata": {
      "needs_background": "light"
     },
     "output_type": "display_data"
    }
   ],
   "source": [
    "sns.countplot(NucliData_df['diagnostics'], label='count')"
   ]
  },
  {
   "cell_type": "code",
   "execution_count": 161,
   "metadata": {
    "colab": {
     "base_uri": "https://localhost:8080/"
    },
    "executionInfo": {
     "elapsed": 74,
     "status": "ok",
     "timestamp": 1653657445250,
     "user": {
      "displayName": "Aditya Choudhari",
      "userId": "07226314186364651672"
     },
     "user_tz": -330
    },
    "id": "FT_0RQQ8zDzv",
    "outputId": "8811b1f4-179a-49eb-b3c9-cd9a5b2d4ca0"
   },
   "outputs": [
    {
     "data": {
      "text/plain": [
       "(569, 32)"
      ]
     },
     "execution_count": 161,
     "metadata": {},
     "output_type": "execute_result"
    }
   ],
   "source": [
    "NucliData_df.shape"
   ]
  },
  {
   "cell_type": "code",
   "execution_count": 162,
   "metadata": {
    "colab": {
     "base_uri": "https://localhost:8080/"
    },
    "executionInfo": {
     "elapsed": 65,
     "status": "ok",
     "timestamp": 1653657445252,
     "user": {
      "displayName": "Aditya Choudhari",
      "userId": "07226314186364651672"
     },
     "user_tz": -330
    },
    "id": "W5ZP-3puzPcH",
    "outputId": "1b3c1bfe-32fc-4c04-fc22-531aa5135333"
   },
   "outputs": [
    {
     "data": {
      "text/plain": [
       "id                           int64\n",
       "diagnostics                 object\n",
       "radius_mean                float64\n",
       "texture_mean               float64\n",
       "perimeter_mean             float64\n",
       "area_mean                  float64\n",
       "smoothness_mean            float64\n",
       "compactness_mean           float64\n",
       "concavity_mean             float64\n",
       "concave points_mean        float64\n",
       "symmetry_mean              float64\n",
       "fractal_dimension_mean     float64\n",
       "radius_se                  float64\n",
       "texture_se                 float64\n",
       "perimeter_se               float64\n",
       "area_se                    float64\n",
       "smoothness_se              float64\n",
       "compactness_se             float64\n",
       "concavity_se               float64\n",
       "concave points_se          float64\n",
       "symmetry_se                float64\n",
       "fractal_dimension_se       float64\n",
       "radius_worst               float64\n",
       "texture_worst              float64\n",
       "perimeter_worst            float64\n",
       "area_worst                 float64\n",
       "smoothness_worst           float64\n",
       "compactness_worst          float64\n",
       "concavity_worst            float64\n",
       "concave points_worst       float64\n",
       "symmetry_worst             float64\n",
       "fractal_dimension_worst    float64\n",
       "dtype: object"
      ]
     },
     "execution_count": 162,
     "metadata": {},
     "output_type": "execute_result"
    }
   ],
   "source": [
    "NucliData_df.dtypes"
   ]
  },
  {
   "cell_type": "code",
   "execution_count": 163,
   "metadata": {
    "colab": {
     "base_uri": "https://localhost:8080/",
     "height": 474
    },
    "executionInfo": {
     "elapsed": 59,
     "status": "ok",
     "timestamp": 1653657445254,
     "user": {
      "displayName": "Aditya Choudhari",
      "userId": "07226314186364651672"
     },
     "user_tz": -330
    },
    "id": "vW5tMHY1zTwG",
    "outputId": "19ca01ec-e916-4cda-fb7f-09cb4fb6801d"
   },
   "outputs": [
    {
     "data": {
      "text/html": [
       "<div>\n",
       "<style scoped>\n",
       "    .dataframe tbody tr th:only-of-type {\n",
       "        vertical-align: middle;\n",
       "    }\n",
       "\n",
       "    .dataframe tbody tr th {\n",
       "        vertical-align: top;\n",
       "    }\n",
       "\n",
       "    .dataframe thead th {\n",
       "        text-align: right;\n",
       "    }\n",
       "</style>\n",
       "<table border=\"1\" class=\"dataframe\">\n",
       "  <thead>\n",
       "    <tr style=\"text-align: right;\">\n",
       "      <th></th>\n",
       "      <th>id</th>\n",
       "      <th>diagnostics</th>\n",
       "      <th>radius_mean</th>\n",
       "      <th>texture_mean</th>\n",
       "      <th>perimeter_mean</th>\n",
       "      <th>area_mean</th>\n",
       "      <th>smoothness_mean</th>\n",
       "      <th>compactness_mean</th>\n",
       "      <th>concavity_mean</th>\n",
       "      <th>concave points_mean</th>\n",
       "      <th>...</th>\n",
       "      <th>radius_worst</th>\n",
       "      <th>texture_worst</th>\n",
       "      <th>perimeter_worst</th>\n",
       "      <th>area_worst</th>\n",
       "      <th>smoothness_worst</th>\n",
       "      <th>compactness_worst</th>\n",
       "      <th>concavity_worst</th>\n",
       "      <th>concave points_worst</th>\n",
       "      <th>symmetry_worst</th>\n",
       "      <th>fractal_dimension_worst</th>\n",
       "    </tr>\n",
       "  </thead>\n",
       "  <tbody>\n",
       "    <tr>\n",
       "      <th>0</th>\n",
       "      <td>842302</td>\n",
       "      <td>M</td>\n",
       "      <td>17.99</td>\n",
       "      <td>10.38</td>\n",
       "      <td>122.80</td>\n",
       "      <td>1001.0</td>\n",
       "      <td>0.11840</td>\n",
       "      <td>0.27760</td>\n",
       "      <td>0.30010</td>\n",
       "      <td>0.14710</td>\n",
       "      <td>...</td>\n",
       "      <td>25.38</td>\n",
       "      <td>17.33</td>\n",
       "      <td>184.60</td>\n",
       "      <td>2019.0</td>\n",
       "      <td>0.1622</td>\n",
       "      <td>0.6656</td>\n",
       "      <td>0.7119</td>\n",
       "      <td>0.2654</td>\n",
       "      <td>0.4601</td>\n",
       "      <td>0.11890</td>\n",
       "    </tr>\n",
       "    <tr>\n",
       "      <th>1</th>\n",
       "      <td>842517</td>\n",
       "      <td>M</td>\n",
       "      <td>20.57</td>\n",
       "      <td>17.77</td>\n",
       "      <td>132.90</td>\n",
       "      <td>1326.0</td>\n",
       "      <td>0.08474</td>\n",
       "      <td>0.07864</td>\n",
       "      <td>0.08690</td>\n",
       "      <td>0.07017</td>\n",
       "      <td>...</td>\n",
       "      <td>24.99</td>\n",
       "      <td>23.41</td>\n",
       "      <td>158.80</td>\n",
       "      <td>1956.0</td>\n",
       "      <td>0.1238</td>\n",
       "      <td>0.1866</td>\n",
       "      <td>0.2416</td>\n",
       "      <td>0.1860</td>\n",
       "      <td>0.2750</td>\n",
       "      <td>0.08902</td>\n",
       "    </tr>\n",
       "    <tr>\n",
       "      <th>2</th>\n",
       "      <td>84300903</td>\n",
       "      <td>M</td>\n",
       "      <td>19.69</td>\n",
       "      <td>21.25</td>\n",
       "      <td>130.00</td>\n",
       "      <td>1203.0</td>\n",
       "      <td>0.10960</td>\n",
       "      <td>0.15990</td>\n",
       "      <td>0.19740</td>\n",
       "      <td>0.12790</td>\n",
       "      <td>...</td>\n",
       "      <td>23.57</td>\n",
       "      <td>25.53</td>\n",
       "      <td>152.50</td>\n",
       "      <td>1709.0</td>\n",
       "      <td>0.1444</td>\n",
       "      <td>0.4245</td>\n",
       "      <td>0.4504</td>\n",
       "      <td>0.2430</td>\n",
       "      <td>0.3613</td>\n",
       "      <td>0.08758</td>\n",
       "    </tr>\n",
       "    <tr>\n",
       "      <th>3</th>\n",
       "      <td>84348301</td>\n",
       "      <td>M</td>\n",
       "      <td>11.42</td>\n",
       "      <td>20.38</td>\n",
       "      <td>77.58</td>\n",
       "      <td>386.1</td>\n",
       "      <td>0.14250</td>\n",
       "      <td>0.28390</td>\n",
       "      <td>0.24140</td>\n",
       "      <td>0.10520</td>\n",
       "      <td>...</td>\n",
       "      <td>14.91</td>\n",
       "      <td>26.50</td>\n",
       "      <td>98.87</td>\n",
       "      <td>567.7</td>\n",
       "      <td>0.2098</td>\n",
       "      <td>0.8663</td>\n",
       "      <td>0.6869</td>\n",
       "      <td>0.2575</td>\n",
       "      <td>0.6638</td>\n",
       "      <td>0.17300</td>\n",
       "    </tr>\n",
       "    <tr>\n",
       "      <th>4</th>\n",
       "      <td>84358402</td>\n",
       "      <td>M</td>\n",
       "      <td>20.29</td>\n",
       "      <td>14.34</td>\n",
       "      <td>135.10</td>\n",
       "      <td>1297.0</td>\n",
       "      <td>0.10030</td>\n",
       "      <td>0.13280</td>\n",
       "      <td>0.19800</td>\n",
       "      <td>0.10430</td>\n",
       "      <td>...</td>\n",
       "      <td>22.54</td>\n",
       "      <td>16.67</td>\n",
       "      <td>152.20</td>\n",
       "      <td>1575.0</td>\n",
       "      <td>0.1374</td>\n",
       "      <td>0.2050</td>\n",
       "      <td>0.4000</td>\n",
       "      <td>0.1625</td>\n",
       "      <td>0.2364</td>\n",
       "      <td>0.07678</td>\n",
       "    </tr>\n",
       "    <tr>\n",
       "      <th>5</th>\n",
       "      <td>843786</td>\n",
       "      <td>M</td>\n",
       "      <td>12.45</td>\n",
       "      <td>15.70</td>\n",
       "      <td>82.57</td>\n",
       "      <td>477.1</td>\n",
       "      <td>0.12780</td>\n",
       "      <td>0.17000</td>\n",
       "      <td>0.15780</td>\n",
       "      <td>0.08089</td>\n",
       "      <td>...</td>\n",
       "      <td>15.47</td>\n",
       "      <td>23.75</td>\n",
       "      <td>103.40</td>\n",
       "      <td>741.6</td>\n",
       "      <td>0.1791</td>\n",
       "      <td>0.5249</td>\n",
       "      <td>0.5355</td>\n",
       "      <td>0.1741</td>\n",
       "      <td>0.3985</td>\n",
       "      <td>0.12440</td>\n",
       "    </tr>\n",
       "    <tr>\n",
       "      <th>6</th>\n",
       "      <td>844359</td>\n",
       "      <td>M</td>\n",
       "      <td>18.25</td>\n",
       "      <td>19.98</td>\n",
       "      <td>119.60</td>\n",
       "      <td>1040.0</td>\n",
       "      <td>0.09463</td>\n",
       "      <td>0.10900</td>\n",
       "      <td>0.11270</td>\n",
       "      <td>0.07400</td>\n",
       "      <td>...</td>\n",
       "      <td>22.88</td>\n",
       "      <td>27.66</td>\n",
       "      <td>153.20</td>\n",
       "      <td>1606.0</td>\n",
       "      <td>0.1442</td>\n",
       "      <td>0.2576</td>\n",
       "      <td>0.3784</td>\n",
       "      <td>0.1932</td>\n",
       "      <td>0.3063</td>\n",
       "      <td>0.08368</td>\n",
       "    </tr>\n",
       "    <tr>\n",
       "      <th>7</th>\n",
       "      <td>84458202</td>\n",
       "      <td>M</td>\n",
       "      <td>13.71</td>\n",
       "      <td>20.83</td>\n",
       "      <td>90.20</td>\n",
       "      <td>577.9</td>\n",
       "      <td>0.11890</td>\n",
       "      <td>0.16450</td>\n",
       "      <td>0.09366</td>\n",
       "      <td>0.05985</td>\n",
       "      <td>...</td>\n",
       "      <td>17.06</td>\n",
       "      <td>28.14</td>\n",
       "      <td>110.60</td>\n",
       "      <td>897.0</td>\n",
       "      <td>0.1654</td>\n",
       "      <td>0.3682</td>\n",
       "      <td>0.2678</td>\n",
       "      <td>0.1556</td>\n",
       "      <td>0.3196</td>\n",
       "      <td>0.11510</td>\n",
       "    </tr>\n",
       "    <tr>\n",
       "      <th>8</th>\n",
       "      <td>844981</td>\n",
       "      <td>M</td>\n",
       "      <td>13.00</td>\n",
       "      <td>21.82</td>\n",
       "      <td>87.50</td>\n",
       "      <td>519.8</td>\n",
       "      <td>0.12730</td>\n",
       "      <td>0.19320</td>\n",
       "      <td>0.18590</td>\n",
       "      <td>0.09353</td>\n",
       "      <td>...</td>\n",
       "      <td>15.49</td>\n",
       "      <td>30.73</td>\n",
       "      <td>106.20</td>\n",
       "      <td>739.3</td>\n",
       "      <td>0.1703</td>\n",
       "      <td>0.5401</td>\n",
       "      <td>0.5390</td>\n",
       "      <td>0.2060</td>\n",
       "      <td>0.4378</td>\n",
       "      <td>0.10720</td>\n",
       "    </tr>\n",
       "    <tr>\n",
       "      <th>9</th>\n",
       "      <td>84501001</td>\n",
       "      <td>M</td>\n",
       "      <td>12.46</td>\n",
       "      <td>24.04</td>\n",
       "      <td>83.97</td>\n",
       "      <td>475.9</td>\n",
       "      <td>0.11860</td>\n",
       "      <td>0.23960</td>\n",
       "      <td>0.22730</td>\n",
       "      <td>0.08543</td>\n",
       "      <td>...</td>\n",
       "      <td>15.09</td>\n",
       "      <td>40.68</td>\n",
       "      <td>97.65</td>\n",
       "      <td>711.4</td>\n",
       "      <td>0.1853</td>\n",
       "      <td>1.0580</td>\n",
       "      <td>1.1050</td>\n",
       "      <td>0.2210</td>\n",
       "      <td>0.4366</td>\n",
       "      <td>0.20750</td>\n",
       "    </tr>\n",
       "  </tbody>\n",
       "</table>\n",
       "<p>10 rows × 32 columns</p>\n",
       "</div>"
      ],
      "text/plain": [
       "         id diagnostics  radius_mean  texture_mean  perimeter_mean  area_mean  \\\n",
       "0    842302           M        17.99         10.38          122.80     1001.0   \n",
       "1    842517           M        20.57         17.77          132.90     1326.0   \n",
       "2  84300903           M        19.69         21.25          130.00     1203.0   \n",
       "3  84348301           M        11.42         20.38           77.58      386.1   \n",
       "4  84358402           M        20.29         14.34          135.10     1297.0   \n",
       "5    843786           M        12.45         15.70           82.57      477.1   \n",
       "6    844359           M        18.25         19.98          119.60     1040.0   \n",
       "7  84458202           M        13.71         20.83           90.20      577.9   \n",
       "8    844981           M        13.00         21.82           87.50      519.8   \n",
       "9  84501001           M        12.46         24.04           83.97      475.9   \n",
       "\n",
       "   smoothness_mean  compactness_mean  concavity_mean  concave points_mean  \\\n",
       "0          0.11840           0.27760         0.30010              0.14710   \n",
       "1          0.08474           0.07864         0.08690              0.07017   \n",
       "2          0.10960           0.15990         0.19740              0.12790   \n",
       "3          0.14250           0.28390         0.24140              0.10520   \n",
       "4          0.10030           0.13280         0.19800              0.10430   \n",
       "5          0.12780           0.17000         0.15780              0.08089   \n",
       "6          0.09463           0.10900         0.11270              0.07400   \n",
       "7          0.11890           0.16450         0.09366              0.05985   \n",
       "8          0.12730           0.19320         0.18590              0.09353   \n",
       "9          0.11860           0.23960         0.22730              0.08543   \n",
       "\n",
       "   ...  radius_worst  texture_worst  perimeter_worst  area_worst  \\\n",
       "0  ...         25.38          17.33           184.60      2019.0   \n",
       "1  ...         24.99          23.41           158.80      1956.0   \n",
       "2  ...         23.57          25.53           152.50      1709.0   \n",
       "3  ...         14.91          26.50            98.87       567.7   \n",
       "4  ...         22.54          16.67           152.20      1575.0   \n",
       "5  ...         15.47          23.75           103.40       741.6   \n",
       "6  ...         22.88          27.66           153.20      1606.0   \n",
       "7  ...         17.06          28.14           110.60       897.0   \n",
       "8  ...         15.49          30.73           106.20       739.3   \n",
       "9  ...         15.09          40.68            97.65       711.4   \n",
       "\n",
       "   smoothness_worst  compactness_worst  concavity_worst  concave points_worst  \\\n",
       "0            0.1622             0.6656           0.7119                0.2654   \n",
       "1            0.1238             0.1866           0.2416                0.1860   \n",
       "2            0.1444             0.4245           0.4504                0.2430   \n",
       "3            0.2098             0.8663           0.6869                0.2575   \n",
       "4            0.1374             0.2050           0.4000                0.1625   \n",
       "5            0.1791             0.5249           0.5355                0.1741   \n",
       "6            0.1442             0.2576           0.3784                0.1932   \n",
       "7            0.1654             0.3682           0.2678                0.1556   \n",
       "8            0.1703             0.5401           0.5390                0.2060   \n",
       "9            0.1853             1.0580           1.1050                0.2210   \n",
       "\n",
       "   symmetry_worst  fractal_dimension_worst  \n",
       "0          0.4601                  0.11890  \n",
       "1          0.2750                  0.08902  \n",
       "2          0.3613                  0.08758  \n",
       "3          0.6638                  0.17300  \n",
       "4          0.2364                  0.07678  \n",
       "5          0.3985                  0.12440  \n",
       "6          0.3063                  0.08368  \n",
       "7          0.3196                  0.11510  \n",
       "8          0.4378                  0.10720  \n",
       "9          0.4366                  0.20750  \n",
       "\n",
       "[10 rows x 32 columns]"
      ]
     },
     "execution_count": 163,
     "metadata": {},
     "output_type": "execute_result"
    }
   ],
   "source": [
    "NucliData_df.head(10)"
   ]
  },
  {
   "cell_type": "code",
   "execution_count": 164,
   "metadata": {
    "colab": {
     "base_uri": "https://localhost:8080/"
    },
    "executionInfo": {
     "elapsed": 55,
     "status": "ok",
     "timestamp": 1653657445256,
     "user": {
      "displayName": "Aditya Choudhari",
      "userId": "07226314186364651672"
     },
     "user_tz": -330
    },
    "id": "bvlKNasTRbsM",
    "outputId": "3f87320e-bec4-4a84-adbd-94d59c6c352b"
   },
   "outputs": [
    {
     "data": {
      "text/plain": [
       "0      M\n",
       "1      M\n",
       "2      M\n",
       "3      M\n",
       "4      M\n",
       "      ..\n",
       "564    M\n",
       "565    M\n",
       "566    M\n",
       "567    M\n",
       "568    B\n",
       "Name: diagnostics, Length: 569, dtype: object"
      ]
     },
     "execution_count": 164,
     "metadata": {},
     "output_type": "execute_result"
    }
   ],
   "source": [
    "# malignant is assigned as 1 and benign as 0\n",
    "# [row number, column number]\n",
    "# : indicates all entries\n",
    "NucliData_df.iloc[:,1]"
   ]
  },
  {
   "cell_type": "code",
   "execution_count": 165,
   "metadata": {
    "colab": {
     "base_uri": "https://localhost:8080/"
    },
    "executionInfo": {
     "elapsed": 46,
     "status": "ok",
     "timestamp": 1653657445257,
     "user": {
      "displayName": "Aditya Choudhari",
      "userId": "07226314186364651672"
     },
     "user_tz": -330
    },
    "id": "lIGwg9saVRLX",
    "outputId": "44483058-67ed-4025-db0f-c92653766f9c"
   },
   "outputs": [
    {
     "data": {
      "text/plain": [
       "array(['M', 'M', 'M', 'M', 'M', 'M', 'M', 'M', 'M', 'M', 'M', 'M', 'M',\n",
       "       'M', 'M', 'M', 'M', 'M', 'M', 'B', 'B', 'B', 'M', 'M', 'M', 'M',\n",
       "       'M', 'M', 'M', 'M', 'M', 'M', 'M', 'M', 'M', 'M', 'M', 'B', 'M',\n",
       "       'M', 'M', 'M', 'M', 'M', 'M', 'M', 'B', 'M', 'B', 'B', 'B', 'B',\n",
       "       'B', 'M', 'M', 'B', 'M', 'M', 'B', 'B', 'B', 'B', 'M', 'B', 'M',\n",
       "       'M', 'B', 'B', 'B', 'B', 'M', 'B', 'M', 'M', 'B', 'M', 'B', 'M',\n",
       "       'M', 'B', 'B', 'B', 'M', 'M', 'B', 'M', 'M', 'M', 'B', 'B', 'B',\n",
       "       'M', 'B', 'B', 'M', 'M', 'B', 'B', 'B', 'M', 'M', 'B', 'B', 'B',\n",
       "       'B', 'M', 'B', 'B', 'M', 'B', 'B', 'B', 'B', 'B', 'B', 'B', 'B',\n",
       "       'M', 'M', 'M', 'B', 'M', 'M', 'B', 'B', 'B', 'M', 'M', 'B', 'M',\n",
       "       'B', 'M', 'M', 'B', 'M', 'M', 'B', 'B', 'M', 'B', 'B', 'M', 'B',\n",
       "       'B', 'B', 'B', 'M', 'B', 'B', 'B', 'B', 'B', 'B', 'B', 'B', 'B',\n",
       "       'M', 'B', 'B', 'B', 'B', 'M', 'M', 'B', 'M', 'B', 'B', 'M', 'M',\n",
       "       'B', 'B', 'M', 'M', 'B', 'B', 'B', 'B', 'M', 'B', 'B', 'M', 'M',\n",
       "       'M', 'B', 'M', 'B', 'M', 'B', 'B', 'B', 'M', 'B', 'B', 'M', 'M',\n",
       "       'B', 'M', 'M', 'M', 'M', 'B', 'M', 'M', 'M', 'B', 'M', 'B', 'M',\n",
       "       'B', 'B', 'M', 'B', 'M', 'M', 'M', 'M', 'B', 'B', 'M', 'M', 'B',\n",
       "       'B', 'B', 'M', 'B', 'B', 'B', 'B', 'B', 'M', 'M', 'B', 'B', 'M',\n",
       "       'B', 'B', 'M', 'M', 'B', 'M', 'B', 'B', 'B', 'B', 'M', 'B', 'B',\n",
       "       'B', 'B', 'B', 'M', 'B', 'M', 'M', 'M', 'M', 'M', 'M', 'M', 'M',\n",
       "       'M', 'M', 'M', 'M', 'M', 'M', 'B', 'B', 'B', 'B', 'B', 'B', 'M',\n",
       "       'B', 'M', 'B', 'B', 'M', 'B', 'B', 'M', 'B', 'M', 'M', 'B', 'B',\n",
       "       'B', 'B', 'B', 'B', 'B', 'B', 'B', 'B', 'B', 'B', 'B', 'M', 'B',\n",
       "       'B', 'M', 'B', 'M', 'B', 'B', 'B', 'B', 'B', 'B', 'B', 'B', 'B',\n",
       "       'B', 'B', 'B', 'B', 'B', 'M', 'B', 'B', 'B', 'M', 'B', 'M', 'B',\n",
       "       'B', 'B', 'B', 'M', 'M', 'M', 'B', 'B', 'B', 'B', 'M', 'B', 'M',\n",
       "       'B', 'M', 'B', 'B', 'B', 'M', 'B', 'B', 'B', 'B', 'B', 'B', 'B',\n",
       "       'M', 'M', 'M', 'B', 'B', 'B', 'B', 'B', 'B', 'B', 'B', 'B', 'B',\n",
       "       'B', 'M', 'M', 'B', 'M', 'M', 'M', 'B', 'M', 'M', 'B', 'B', 'B',\n",
       "       'B', 'B', 'M', 'B', 'B', 'B', 'B', 'B', 'M', 'B', 'B', 'B', 'M',\n",
       "       'B', 'B', 'M', 'M', 'B', 'B', 'B', 'B', 'B', 'B', 'M', 'B', 'B',\n",
       "       'B', 'B', 'B', 'B', 'B', 'M', 'B', 'B', 'B', 'B', 'B', 'M', 'B',\n",
       "       'B', 'M', 'B', 'B', 'B', 'B', 'B', 'B', 'B', 'B', 'B', 'B', 'B',\n",
       "       'B', 'M', 'B', 'M', 'M', 'B', 'M', 'B', 'B', 'B', 'B', 'B', 'M',\n",
       "       'B', 'B', 'M', 'B', 'M', 'B', 'B', 'M', 'B', 'M', 'B', 'B', 'B',\n",
       "       'B', 'B', 'B', 'B', 'B', 'M', 'M', 'B', 'B', 'B', 'B', 'B', 'B',\n",
       "       'M', 'B', 'B', 'B', 'B', 'B', 'B', 'B', 'B', 'B', 'B', 'M', 'B',\n",
       "       'B', 'B', 'B', 'B', 'B', 'B', 'M', 'B', 'M', 'B', 'B', 'M', 'B',\n",
       "       'B', 'B', 'B', 'B', 'M', 'M', 'B', 'M', 'B', 'M', 'B', 'B', 'B',\n",
       "       'B', 'B', 'M', 'B', 'B', 'M', 'B', 'M', 'B', 'M', 'M', 'B', 'B',\n",
       "       'B', 'M', 'B', 'B', 'B', 'B', 'B', 'B', 'B', 'B', 'B', 'B', 'B',\n",
       "       'M', 'B', 'M', 'M', 'B', 'B', 'B', 'B', 'B', 'B', 'B', 'B', 'B',\n",
       "       'B', 'B', 'B', 'B', 'B', 'B', 'B', 'B', 'B', 'B', 'B', 'B', 'B',\n",
       "       'B', 'B', 'B', 'M', 'M', 'M', 'M', 'M', 'M', 'B'], dtype=object)"
      ]
     },
     "execution_count": 165,
     "metadata": {},
     "output_type": "execute_result"
    }
   ],
   "source": [
    "NucliData_df.iloc[:,1].values"
   ]
  },
  {
   "cell_type": "code",
   "execution_count": 166,
   "metadata": {
    "executionInfo": {
     "elapsed": 35,
     "status": "ok",
     "timestamp": 1653657445258,
     "user": {
      "displayName": "Aditya Choudhari",
      "userId": "07226314186364651672"
     },
     "user_tz": -330
    },
    "id": "szxkIs4hzaAc"
   },
   "outputs": [],
   "source": [
    "# Encode target labels with value between 0 and n_classes-1 thats why LabelEncoder is used\n",
    "from sklearn.preprocessing import LabelEncoder\n",
    "labelencoder_y = LabelEncoder()\n",
    "# labelencoder_y.fit_transform(NucliData_df.iloc[:,1].values)\n",
    "NucliData_df.iloc[:,1] = labelencoder_y.fit_transform(NucliData_df.iloc[:,1].values)\n"
   ]
  },
  {
   "cell_type": "code",
   "execution_count": 167,
   "metadata": {
    "colab": {
     "base_uri": "https://localhost:8080/",
     "height": 567
    },
    "executionInfo": {
     "elapsed": 5208,
     "status": "ok",
     "timestamp": 1653657450433,
     "user": {
      "displayName": "Aditya Choudhari",
      "userId": "07226314186364651672"
     },
     "user_tz": -330
    },
    "id": "QV_ug4jjz8-7",
    "outputId": "e55a0251-4e27-4f15-ca24-c6c2270fde24"
   },
   "outputs": [
    {
     "data": {
      "text/plain": [
       "<seaborn.axisgrid.PairGrid at 0x1df46191eb0>"
      ]
     },
     "execution_count": 167,
     "metadata": {},
     "output_type": "execute_result"
    },
    {
     "data": {
      "image/png": "[encoded data removed]",
      "text/plain": [
       "<Figure size 604.875x540 with 12 Axes>"
      ]
     },
     "metadata": {
      "needs_background": "light"
     },
     "output_type": "display_data"
    }
   ],
   "source": [
    "sns.pairplot(NucliData_df.iloc[:,1:5], hue='diagnostics')\n",
    "#sns.pairplot(NucliData_df, hue='diagnostics')"
   ]
  },
  {
   "cell_type": "code",
   "execution_count": 168,
   "metadata": {
    "colab": {
     "base_uri": "https://localhost:8080/",
     "height": 476
    },
    "executionInfo": {
     "elapsed": 43,
     "status": "ok",
     "timestamp": 1653657450435,
     "user": {
      "displayName": "Aditya Choudhari",
      "userId": "07226314186364651672"
     },
     "user_tz": -330
    },
    "id": "Zv6fo7IX2AVu",
    "outputId": "a60dc9dc-7b1f-4330-97af-e51c1b34c32b"
   },
   "outputs": [
    {
     "data": {
      "text/html": [
       "<div>\n",
       "<style scoped>\n",
       "    .dataframe tbody tr th:only-of-type {\n",
       "        vertical-align: middle;\n",
       "    }\n",
       "\n",
       "    .dataframe tbody tr th {\n",
       "        vertical-align: top;\n",
       "    }\n",
       "\n",
       "    .dataframe thead th {\n",
       "        text-align: right;\n",
       "    }\n",
       "</style>\n",
       "<table border=\"1\" class=\"dataframe\">\n",
       "  <thead>\n",
       "    <tr style=\"text-align: right;\">\n",
       "      <th></th>\n",
       "      <th>diagnostics</th>\n",
       "      <th>radius_mean</th>\n",
       "      <th>texture_mean</th>\n",
       "      <th>perimeter_mean</th>\n",
       "      <th>area_mean</th>\n",
       "      <th>smoothness_mean</th>\n",
       "      <th>compactness_mean</th>\n",
       "      <th>concavity_mean</th>\n",
       "      <th>concave points_mean</th>\n",
       "      <th>symmetry_mean</th>\n",
       "      <th>fractal_dimension_mean</th>\n",
       "    </tr>\n",
       "  </thead>\n",
       "  <tbody>\n",
       "    <tr>\n",
       "      <th>diagnostics</th>\n",
       "      <td>1.000000</td>\n",
       "      <td>0.730029</td>\n",
       "      <td>0.415185</td>\n",
       "      <td>0.742636</td>\n",
       "      <td>0.708984</td>\n",
       "      <td>0.358560</td>\n",
       "      <td>0.596534</td>\n",
       "      <td>0.696360</td>\n",
       "      <td>0.776614</td>\n",
       "      <td>0.330499</td>\n",
       "      <td>-0.012838</td>\n",
       "    </tr>\n",
       "    <tr>\n",
       "      <th>radius_mean</th>\n",
       "      <td>0.730029</td>\n",
       "      <td>1.000000</td>\n",
       "      <td>0.323782</td>\n",
       "      <td>0.997855</td>\n",
       "      <td>0.987357</td>\n",
       "      <td>0.170581</td>\n",
       "      <td>0.506124</td>\n",
       "      <td>0.676764</td>\n",
       "      <td>0.822529</td>\n",
       "      <td>0.147741</td>\n",
       "      <td>-0.311631</td>\n",
       "    </tr>\n",
       "    <tr>\n",
       "      <th>texture_mean</th>\n",
       "      <td>0.415185</td>\n",
       "      <td>0.323782</td>\n",
       "      <td>1.000000</td>\n",
       "      <td>0.329533</td>\n",
       "      <td>0.321086</td>\n",
       "      <td>-0.023389</td>\n",
       "      <td>0.236702</td>\n",
       "      <td>0.302418</td>\n",
       "      <td>0.293464</td>\n",
       "      <td>0.071401</td>\n",
       "      <td>-0.076437</td>\n",
       "    </tr>\n",
       "    <tr>\n",
       "      <th>perimeter_mean</th>\n",
       "      <td>0.742636</td>\n",
       "      <td>0.997855</td>\n",
       "      <td>0.329533</td>\n",
       "      <td>1.000000</td>\n",
       "      <td>0.986507</td>\n",
       "      <td>0.207278</td>\n",
       "      <td>0.556936</td>\n",
       "      <td>0.716136</td>\n",
       "      <td>0.850977</td>\n",
       "      <td>0.183027</td>\n",
       "      <td>-0.261477</td>\n",
       "    </tr>\n",
       "    <tr>\n",
       "      <th>area_mean</th>\n",
       "      <td>0.708984</td>\n",
       "      <td>0.987357</td>\n",
       "      <td>0.321086</td>\n",
       "      <td>0.986507</td>\n",
       "      <td>1.000000</td>\n",
       "      <td>0.177028</td>\n",
       "      <td>0.498502</td>\n",
       "      <td>0.685983</td>\n",
       "      <td>0.823269</td>\n",
       "      <td>0.151293</td>\n",
       "      <td>-0.283110</td>\n",
       "    </tr>\n",
       "    <tr>\n",
       "      <th>smoothness_mean</th>\n",
       "      <td>0.358560</td>\n",
       "      <td>0.170581</td>\n",
       "      <td>-0.023389</td>\n",
       "      <td>0.207278</td>\n",
       "      <td>0.177028</td>\n",
       "      <td>1.000000</td>\n",
       "      <td>0.659123</td>\n",
       "      <td>0.521984</td>\n",
       "      <td>0.553695</td>\n",
       "      <td>0.557775</td>\n",
       "      <td>0.584792</td>\n",
       "    </tr>\n",
       "    <tr>\n",
       "      <th>compactness_mean</th>\n",
       "      <td>0.596534</td>\n",
       "      <td>0.506124</td>\n",
       "      <td>0.236702</td>\n",
       "      <td>0.556936</td>\n",
       "      <td>0.498502</td>\n",
       "      <td>0.659123</td>\n",
       "      <td>1.000000</td>\n",
       "      <td>0.883121</td>\n",
       "      <td>0.831135</td>\n",
       "      <td>0.602641</td>\n",
       "      <td>0.565369</td>\n",
       "    </tr>\n",
       "    <tr>\n",
       "      <th>concavity_mean</th>\n",
       "      <td>0.696360</td>\n",
       "      <td>0.676764</td>\n",
       "      <td>0.302418</td>\n",
       "      <td>0.716136</td>\n",
       "      <td>0.685983</td>\n",
       "      <td>0.521984</td>\n",
       "      <td>0.883121</td>\n",
       "      <td>1.000000</td>\n",
       "      <td>0.921391</td>\n",
       "      <td>0.500667</td>\n",
       "      <td>0.336783</td>\n",
       "    </tr>\n",
       "    <tr>\n",
       "      <th>concave points_mean</th>\n",
       "      <td>0.776614</td>\n",
       "      <td>0.822529</td>\n",
       "      <td>0.293464</td>\n",
       "      <td>0.850977</td>\n",
       "      <td>0.823269</td>\n",
       "      <td>0.553695</td>\n",
       "      <td>0.831135</td>\n",
       "      <td>0.921391</td>\n",
       "      <td>1.000000</td>\n",
       "      <td>0.462497</td>\n",
       "      <td>0.166917</td>\n",
       "    </tr>\n",
       "    <tr>\n",
       "      <th>symmetry_mean</th>\n",
       "      <td>0.330499</td>\n",
       "      <td>0.147741</td>\n",
       "      <td>0.071401</td>\n",
       "      <td>0.183027</td>\n",
       "      <td>0.151293</td>\n",
       "      <td>0.557775</td>\n",
       "      <td>0.602641</td>\n",
       "      <td>0.500667</td>\n",
       "      <td>0.462497</td>\n",
       "      <td>1.000000</td>\n",
       "      <td>0.479921</td>\n",
       "    </tr>\n",
       "    <tr>\n",
       "      <th>fractal_dimension_mean</th>\n",
       "      <td>-0.012838</td>\n",
       "      <td>-0.311631</td>\n",
       "      <td>-0.076437</td>\n",
       "      <td>-0.261477</td>\n",
       "      <td>-0.283110</td>\n",
       "      <td>0.584792</td>\n",
       "      <td>0.565369</td>\n",
       "      <td>0.336783</td>\n",
       "      <td>0.166917</td>\n",
       "      <td>0.479921</td>\n",
       "      <td>1.000000</td>\n",
       "    </tr>\n",
       "  </tbody>\n",
       "</table>\n",
       "</div>"
      ],
      "text/plain": [
       "                        diagnostics  radius_mean  texture_mean  \\\n",
       "diagnostics                1.000000     0.730029      0.415185   \n",
       "radius_mean                0.730029     1.000000      0.323782   \n",
       "texture_mean               0.415185     0.323782      1.000000   \n",
       "perimeter_mean             0.742636     0.997855      0.329533   \n",
       "area_mean                  0.708984     0.987357      0.321086   \n",
       "smoothness_mean            0.358560     0.170581     -0.023389   \n",
       "compactness_mean           0.596534     0.506124      0.236702   \n",
       "concavity_mean             0.696360     0.676764      0.302418   \n",
       "concave points_mean        0.776614     0.822529      0.293464   \n",
       "symmetry_mean              0.330499     0.147741      0.071401   \n",
       "fractal_dimension_mean    -0.012838    -0.311631     -0.076437   \n",
       "\n",
       "                        perimeter_mean  area_mean  smoothness_mean  \\\n",
       "diagnostics                   0.742636   0.708984         0.358560   \n",
       "radius_mean                   0.997855   0.987357         0.170581   \n",
       "texture_mean                  0.329533   0.321086        -0.023389   \n",
       "perimeter_mean                1.000000   0.986507         0.207278   \n",
       "area_mean                     0.986507   1.000000         0.177028   \n",
       "smoothness_mean               0.207278   0.177028         1.000000   \n",
       "compactness_mean              0.556936   0.498502         0.659123   \n",
       "concavity_mean                0.716136   0.685983         0.521984   \n",
       "concave points_mean           0.850977   0.823269         0.553695   \n",
       "symmetry_mean                 0.183027   0.151293         0.557775   \n",
       "fractal_dimension_mean       -0.261477  -0.283110         0.584792   \n",
       "\n",
       "                        compactness_mean  concavity_mean  concave points_mean  \\\n",
       "diagnostics                     0.596534        0.696360             0.776614   \n",
       "radius_mean                     0.506124        0.676764             0.822529   \n",
       "texture_mean                    0.236702        0.302418             0.293464   \n",
       "perimeter_mean                  0.556936        0.716136             0.850977   \n",
       "area_mean                       0.498502        0.685983             0.823269   \n",
       "smoothness_mean                 0.659123        0.521984             0.553695   \n",
       "compactness_mean                1.000000        0.883121             0.831135   \n",
       "concavity_mean                  0.883121        1.000000             0.921391   \n",
       "concave points_mean             0.831135        0.921391             1.000000   \n",
       "symmetry_mean                   0.602641        0.500667             0.462497   \n",
       "fractal_dimension_mean          0.565369        0.336783             0.166917   \n",
       "\n",
       "                        symmetry_mean  fractal_dimension_mean  \n",
       "diagnostics                  0.330499               -0.012838  \n",
       "radius_mean                  0.147741               -0.311631  \n",
       "texture_mean                 0.071401               -0.076437  \n",
       "perimeter_mean               0.183027               -0.261477  \n",
       "area_mean                    0.151293               -0.283110  \n",
       "smoothness_mean              0.557775                0.584792  \n",
       "compactness_mean             0.602641                0.565369  \n",
       "concavity_mean               0.500667                0.336783  \n",
       "concave points_mean          0.462497                0.166917  \n",
       "symmetry_mean                1.000000                0.479921  \n",
       "fractal_dimension_mean       0.479921                1.000000  "
      ]
     },
     "execution_count": 168,
     "metadata": {},
     "output_type": "execute_result"
    }
   ],
   "source": [
    "# corr() is used to find the pairwise correlation of all columns in the dataframe.\n",
    "#Correlation is a statistical term describing the degree to which two variables move in coordination with one another.\n",
    "# Here we find correlation of the 10 real valued features with each other\n",
    "NucliData_df.iloc[:,1:12].corr()"
   ]
  },
  {
   "cell_type": "code",
   "execution_count": 169,
   "metadata": {
    "colab": {
     "base_uri": "https://localhost:8080/",
     "height": 725
    },
    "executionInfo": {
     "elapsed": 1370,
     "status": "ok",
     "timestamp": 1653657451768,
     "user": {
      "displayName": "Aditya Choudhari",
      "userId": "07226314186364651672"
     },
     "user_tz": -330
    },
    "id": "Qxnny6F22a5Y",
    "outputId": "5f524bca-aacb-4a02-fe42-61011a7fc962"
   },
   "outputs": [
    {
     "data": {
      "text/plain": [
       "<AxesSubplot:>"
      ]
     },
     "execution_count": 169,
     "metadata": {},
     "output_type": "execute_result"
    },
    {
     "data": {
      "image/png": "[encoded data removed]",
      "text/plain": [
       "<Figure size 720x720 with 2 Axes>"
      ]
     },
     "metadata": {
      "needs_background": "light"
     },
     "output_type": "display_data"
    }
   ],
   "source": [
    "# plt used to resize the canvas\n",
    "plt.figure(figsize=(10,10))\n",
    "# plotting heatmap--visualizing correlation with heat map\n",
    "sns.heatmap(NucliData_df.iloc[:,1:12].corr(), annot=True, fmt='.0%')"
   ]
  },
  {
   "cell_type": "code",
   "execution_count": 170,
   "metadata": {
    "executionInfo": {
     "elapsed": 48,
     "status": "ok",
     "timestamp": 1653657451770,
     "user": {
      "displayName": "Aditya Choudhari",
      "userId": "07226314186364651672"
     },
     "user_tz": -330
    },
    "id": "M4a0nNvZ23fI"
   },
   "outputs": [],
   "source": [
    "#spilt the data set into independent (X) and dependent (Y) data sets\n",
    "X = NucliData_df.iloc[:,2:31].values\n",
    "Y= NucliData_df.iloc[:,1].values"
   ]
  },
  {
   "cell_type": "code",
   "execution_count": 171,
   "metadata": {
    "colab": {
     "base_uri": "https://localhost:8080/"
    },
    "executionInfo": {
     "elapsed": 48,
     "status": "ok",
     "timestamp": 1653657451774,
     "user": {
      "displayName": "Aditya Choudhari",
      "userId": "07226314186364651672"
     },
     "user_tz": -330
    },
    "id": "KTnzNXQ33Lf4",
    "outputId": "cf22011f-bd57-4fa1-e5cb-e2c651e0c6f5"
   },
   "outputs": [
    {
     "name": "stdout",
     "output_type": "stream",
     "text": [
      "[[1.185e+01 1.746e+01 7.554e+01 ... 1.316e-01 9.140e-02 3.101e-01]\n",
      " [1.122e+01 1.986e+01 7.194e+01 ... 1.335e-02 2.022e-02 3.292e-01]\n",
      " [2.013e+01 2.825e+01 1.312e+02 ... 3.215e-01 1.628e-01 2.572e-01]\n",
      " ...\n",
      " [9.436e+00 1.832e+01 5.982e+01 ... 1.144e-01 5.052e-02 2.454e-01]\n",
      " [9.720e+00 1.822e+01 6.073e+01 ... 0.000e+00 0.000e+00 1.909e-01]\n",
      " [1.151e+01 2.393e+01 7.452e+01 ... 3.630e-01 9.653e-02 2.112e-01]]\n"
     ]
    }
   ],
   "source": [
    "#split the data set into 75% training and 25% testing\n",
    "from sklearn.model_selection import train_test_split \n",
    "X_train, X_test, Y_train, Y_test = train_test_split(X,Y, test_size = 0.25, random_state = 0)\n",
    "print(X_train)\n",
    "# these are all numpy arrays\n"
   ]
  },
  {
   "cell_type": "code",
   "execution_count": 172,
   "metadata": {
    "colab": {
     "base_uri": "https://localhost:8080/"
    },
    "executionInfo": {
     "elapsed": 41,
     "status": "ok",
     "timestamp": 1653657451776,
     "user": {
      "displayName": "Aditya Choudhari",
      "userId": "07226314186364651672"
     },
     "user_tz": -330
    },
    "id": "R4thnkJk3l1H",
    "outputId": "5732bc8c-c0ed-4890-ef8a-211903ed0065"
   },
   "outputs": [
    {
     "name": "stdout",
     "output_type": "stream",
     "text": [
      "[[-0.65079907 -0.43057322 -0.68024847 ... -0.69592933 -0.36433881\n",
      "   0.32349851]\n",
      " [-0.82835341  0.15226547 -0.82773762 ... -1.29277423 -1.45036679\n",
      "   0.62563098]\n",
      " [ 1.68277234  2.18977235  1.60009756 ...  0.26255563  0.72504581\n",
      "  -0.51329768]\n",
      " ...\n",
      " [-1.33114223 -0.22172269 -1.3242844  ... -0.78274313 -0.98806491\n",
      "  -0.69995543]\n",
      " [-1.25110186 -0.24600763 -1.28700242 ... -1.36015587 -1.75887319\n",
      "  -1.56206114]\n",
      " [-0.74662205  1.14066273 -0.72203706 ...  0.47201917 -0.2860679\n",
      "  -1.24094654]]\n"
     ]
    }
   ],
   "source": [
    "#scale the data (feature scaling)\n",
    "# Standardize features by removing the mean and scaling to unit variance.\n",
    "# The standard score of a sample x is calculated as:\n",
    "# z = (x - u) / s\n",
    "# where u is the mean of the training samples or zero if with_mean=False, and s is the standard deviation of the training samples or one if with_std=False.\n",
    "from sklearn.preprocessing import StandardScaler\n",
    "sc = StandardScaler()\n",
    "X_train = sc.fit_transform(X_train)\n",
    "X_test = sc.fit_transform(X_test)\n",
    "print(X_train)"
   ]
  },
  {
   "cell_type": "code",
   "execution_count": 173,
   "metadata": {
    "executionInfo": {
     "elapsed": 514,
     "status": "ok",
     "timestamp": 1653657564161,
     "user": {
      "displayName": "Aditya Choudhari",
      "userId": "07226314186364651672"
     },
     "user_tz": -330
    },
    "id": "N68iVeFP2kUS"
   },
   "outputs": [],
   "source": [
    "# create a function for the models\n",
    "# n_estimator = number of the trees\n",
    "# max_depth = maximum depth of the tree\n",
    "# min_samples_Split =  the minimum number of samples required to split an internal node:\n",
    "# min_weight_fraction_leaf = \n",
    "from sklearn.ensemble import RandomForestClassifier\n",
    "\n",
    "rf = RandomForestClassifier()\n",
    "\n",
    "rf.fit(X_train, Y_train)\n",
    "\n",
    "RandomForestClassifier(bootstrap=True, class_weight=None, criterion='gini',\n",
    " max_depth=None, max_features='auto', max_leaf_nodes=None, min_samples_leaf=1,\n",
    " min_samples_split=2, min_weight_fraction_leaf=0.0,\n",
    " n_estimators=10, n_jobs=1, oob_score=False, random_state=None, verbose=0, warm_start=False)\n",
    "\n",
    "Y_pred  = rf.predict(X_test)"
   ]
  },
  {
   "cell_type": "code",
   "execution_count": 174,
   "metadata": {
    "colab": {
     "base_uri": "https://localhost:8080/"
    },
    "executionInfo": {
     "elapsed": 11,
     "status": "ok",
     "timestamp": 1653657568242,
     "user": {
      "displayName": "Aditya Choudhari",
      "userId": "07226314186364651672"
     },
     "user_tz": -330
    },
    "id": "l2XDEMPVJFZX",
    "outputId": "0a9cc1ff-14ee-4bef-c3d5-ec336f1c1f99"
   },
   "outputs": [
    {
     "name": "stdout",
     "output_type": "stream",
     "text": [
      "[0.         0.03333333 1.        ]\n",
      "[0.         0.98113208 1.        ]\n",
      "[2 1 0]\n",
      "0.9738993710691823\n"
     ]
    }
   ],
   "source": [
    "from sklearn.metrics import roc_curve, auc\n",
    "false_positive_rate, true_positive_rate, thresholds = roc_curve(Y_test, Y_pred)\n",
    "print(false_positive_rate)\n",
    "print(true_positive_rate)\n",
    "print(thresholds)\n",
    "roc_auc = auc(false_positive_rate, true_positive_rate)\n",
    "print(roc_auc)"
   ]
  },
  {
   "cell_type": "code",
   "execution_count": 175,
   "metadata": {
    "colab": {
     "base_uri": "https://localhost:8080/",
     "height": 381
    },
    "executionInfo": {
     "elapsed": 99084,
     "status": "error",
     "timestamp": 1653657669247,
     "user": {
      "displayName": "Aditya Choudhari",
      "userId": "07226314186364651672"
     },
     "user_tz": -330
    },
    "id": "j83xu2GpKToC",
    "outputId": "3169b7bf-b585-435b-8aab-b0e6febdf688"
   },
   "outputs": [
    {
     "name": "stdout",
     "output_type": "stream",
     "text": [
      "0.979454926624738 77\n"
     ]
    },
    {
     "data": {
      "image/png": "[encoded data removed]",
      "text/plain": [
       "<Figure size 432x288 with 1 Axes>"
      ]
     },
     "metadata": {
      "needs_background": "light"
     },
     "output_type": "display_data"
    }
   ],
   "source": [
    "n_estimators = np.arange(1,200,1)\n",
    "\n",
    "train_results = []\n",
    "test_results = []\n",
    "for estimator in n_estimators:\n",
    "    rf = RandomForestClassifier(n_estimators=estimator,n_jobs=-1)\n",
    "    rf.fit(X_train, Y_train)\n",
    "\n",
    "    train_pred = rf.predict(X_train)\n",
    "\n",
    "    false_positive_rate, true_positive_rate, thresholds = roc_curve(Y_train, train_pred)\n",
    "    # print(false_positive_rate, true_positive_rate, thresholds, \"train\")\n",
    "    # print()\n",
    "    roc_auc = auc(false_positive_rate, true_positive_rate)\n",
    "    train_results.append(roc_auc)\n",
    "\n",
    "\n",
    "    Y_pred = rf.predict(X_test)\n",
    "\n",
    "    false_positive_rate, true_positive_rate, thresholds = roc_curve(Y_test, Y_pred)\n",
    "    # print(false_positive_rate, true_positive_rate, thresholds, \"test\")\n",
    "    # print()\n",
    "    roc_auc = auc(false_positive_rate, true_positive_rate)\n",
    "    test_results.append(roc_auc)\n",
    "\n",
    "max_y = max(test_results)\n",
    "max_x = n_estimators[test_results.index(max_y)]\n",
    "print(max_y, max_x)\n",
    "\n",
    "from matplotlib.legend_handler import HandlerLine2D\n",
    "\n",
    "line1, = plt.plot(n_estimators, train_results, 'b', label=\"train_AUC\")\n",
    "line2, = plt.plot(n_estimators, test_results, 'r', label = 'Test AUC')\n",
    "\n",
    "plt.legend(handler_map={line1: HandlerLine2D(numpoints=2)})\n",
    "\n",
    "plt.ylabel('AUC score')\n",
    "plt.xlabel('n_estimators')\n",
    "plt.show()"
   ]
  },
  {
   "cell_type": "markdown",
   "metadata": {
    "id": "sXYHHBYIUxjM"
   },
   "source": [
    "0.9833333333333334 30\n",
    "\n",
    "0.9833333333333334 39\n",
    "\n",
    "0.979454926624738 26\n",
    "\n",
    "0.9850104821802935 8\n",
    "\n",
    "0.9833333333333334 21\n",
    "\n",
    "0.9833333333333334 43\n",
    "\n",
    "0.9850104821802935 39\n",
    "\n",
    "0.9833333333333334 31\n",
    "\n",
    "0.9833333333333334 49\n",
    "\n",
    "0.9811320754716981 16\n",
    "\n",
    "0.979454926624738 6"
   ]
  },
  {
   "cell_type": "code",
   "execution_count": 176,
   "metadata": {
    "executionInfo": {
     "elapsed": 48,
     "status": "aborted",
     "timestamp": 1653657452764,
     "user": {
      "displayName": "Aditya Choudhari",
      "userId": "07226314186364651672"
     },
     "user_tz": -330
    },
    "id": "-Ui_9MjJLIGT"
   },
   "outputs": [
    {
     "name": "stdout",
     "output_type": "stream",
     "text": [
      "0.9738993710691823 3\n"
     ]
    },
    {
     "data": {
      "image/png": "[encoded data removed]",
      "text/plain": [
       "<Figure size 432x288 with 1 Axes>"
      ]
     },
     "metadata": {
      "needs_background": "light"
     },
     "output_type": "display_data"
    }
   ],
   "source": [
    "max_depths = np.linspace(1,32,32, endpoint=True)\n",
    "\n",
    "train_results = []\n",
    "test_results = []\n",
    "\n",
    "for max_depth in max_depths:\n",
    "  rf = RandomForestClassifier(max_depth=max_depth, n_jobs=-1)\n",
    "  rf.fit(X_train, Y_train)\n",
    "\n",
    "  train_pred = rf.predict(X_train)\n",
    "\n",
    "  false_positive_rate, true_positive_rate, thresholds = roc_curve(Y_train, train_pred)\n",
    "  roc_auc = auc(false_positive_rate, true_positive_rate)\n",
    "  train_results.append(roc_auc)\n",
    "\n",
    "  Y_pred = rf.predict(X_test)\n",
    "\n",
    "  false_positive_rate, true_positive_rate, thresholds = roc_curve(Y_test, Y_pred)\n",
    "  roc_auc = auc(false_positive_rate, true_positive_rate)\n",
    "  test_results.append(roc_auc)\n",
    "\n",
    "max_y = max(test_results)\n",
    "max_x = n_estimators[test_results.index(max_y)]\n",
    "print(max_y, max_x)\n",
    "\n",
    "from matplotlib.legend_handler import HandlerLine2D\n",
    "\n",
    "line1, = plt.plot(max_depths, train_results, 'b', label = \"Train AUC\")\n",
    "line2, = plt.plot(max_depths, test_results, 'r', label = \"Test AUC\")\n",
    "\n",
    "plt.legend(handler_map={line1: HandlerLine2D(numpoints=2)})\n",
    "\n",
    "plt.ylabel('AUC score')\n",
    "plt.xlabel('Tree depth')\n",
    "plt.show()\n",
    "  "
   ]
  },
  {
   "cell_type": "markdown",
   "metadata": {
    "id": "7p_qtcoSe4Vq"
   },
   "source": [
    "0.9777777777777779 13\n",
    "\n",
    "0.9738993710691823 11\n",
    "\n",
    "0.9738993710691823 9\n",
    "\n",
    "0.9738993710691823 6\n",
    "\n",
    "0.9833333333333334 13"
   ]
  },
  {
   "cell_type": "code",
   "execution_count": 177,
   "metadata": {
    "executionInfo": {
     "elapsed": 49,
     "status": "aborted",
     "timestamp": 1653657452766,
     "user": {
      "displayName": "Aditya Choudhari",
      "userId": "07226314186364651672"
     },
     "user_tz": -330
    },
    "id": "UhBTZfZzHXPf"
   },
   "outputs": [
    {
     "name": "stdout",
     "output_type": "stream",
     "text": [
      "0.9777777777777779 9\n"
     ]
    },
    {
     "data": {
      "image/png": "[encoded data removed]",
      "text/plain": [
       "<Figure size 432x288 with 1 Axes>"
      ]
     },
     "metadata": {
      "needs_background": "light"
     },
     "output_type": "display_data"
    }
   ],
   "source": [
    "min_samples_splits = np.linspace(0.1, 1.0,10, endpoint = True)\n",
    "\n",
    "train_results = []\n",
    "test_results = []\n",
    "\n",
    "for min_samples_split in min_samples_splits:\n",
    "  rf = RandomForestClassifier(max_depth=max_depth, n_jobs=-1)\n",
    "  rf.fit(X_train, Y_train)\n",
    "\n",
    "  train_pred = rf.predict(X_train)\n",
    "\n",
    "  false_positive_rate, true_positive_rate, thresholds = roc_curve(Y_train, train_pred)\n",
    "  roc_auc = auc(false_positive_rate, true_positive_rate)\n",
    "  train_results.append(roc_auc)\n",
    "\n",
    "  Y_pred = rf.predict(X_test)\n",
    "\n",
    "  false_positive_rate, true_positive_rate, thresholds = roc_curve(Y_test, Y_pred)\n",
    "  roc_auc = auc(false_positive_rate, true_positive_rate)\n",
    "  test_results.append(roc_auc)\n",
    "\n",
    "max_y = max(test_results)\n",
    "max_x = n_estimators[test_results.index(max_y)]\n",
    "print(max_y, max_x)\n",
    "\n",
    "from matplotlib.legend_handler import HandlerLine2D\n",
    "\n",
    "line1, = plt.plot(min_samples_splits, train_results, 'b', label = \"Train AUC\")\n",
    "line2, = plt.plot(min_samples_splits, test_results, 'r', label = \"Test AUC\")\n",
    "\n",
    "plt.legend(handler_map={line1: HandlerLine2D(numpoints=2)})\n",
    "\n",
    "plt.ylabel('AUC score')\n",
    "plt.xlabel('min samples split')\n",
    "plt.show()"
   ]
  },
  {
   "cell_type": "markdown",
   "metadata": {
    "id": "0-lb91-rhacV"
   },
   "source": [
    "0.9738993710691823 3\n",
    "\n",
    "0.9683438155136268 1\n",
    "\n",
    "0.9738993710691823 2\n",
    "\n",
    "0.9738993710691823 1\n",
    "\n",
    "0.979454926624738 10\n",
    "\n",
    "0.9738993710691823 5\n",
    "\n",
    "0.9833333333333334 5\n",
    "\n",
    "0.9738993710691823 2\n",
    "\n",
    "0.9738993710691823 2\n",
    "\n",
    "0.9738993710691823 7\n",
    "\n",
    "0.9738993710691823 1"
   ]
  },
  {
   "cell_type": "code",
   "execution_count": 178,
   "metadata": {
    "executionInfo": {
     "elapsed": 51,
     "status": "aborted",
     "timestamp": 1653657452768,
     "user": {
      "displayName": "Aditya Choudhari",
      "userId": "07226314186364651672"
     },
     "user_tz": -330
    },
    "id": "3Tw3SB82kmlK"
   },
   "outputs": [
    {
     "name": "stdout",
     "output_type": "stream",
     "text": [
      "0.9627882599580713 4\n"
     ]
    },
    {
     "data": {
      "image/png": "[encoded data removed]",
      "text/plain": [
       "<Figure size 432x288 with 1 Axes>"
      ]
     },
     "metadata": {
      "needs_background": "light"
     },
     "output_type": "display_data"
    }
   ],
   "source": [
    "min_samples_splits = np.linspace(0.1, 1.0, 10, endpoint=True)\n",
    "train_results = []\n",
    "test_results = []\n",
    "\n",
    "for min_samples_split in min_samples_splits:\n",
    "   rf = RandomForestClassifier(min_samples_split=min_samples_split)\n",
    "   rf.fit(X_train, Y_train)\n",
    "\n",
    "   train_pred = rf.predict(X_train)\n",
    "\n",
    "   false_positive_rate, true_positive_rate, thresholds = roc_curve(Y_train, train_pred)\n",
    "   roc_auc = auc(false_positive_rate, true_positive_rate)\n",
    "   train_results.append(roc_auc)\n",
    "\n",
    "   Y_pred = rf.predict(X_test)\n",
    "\n",
    "   false_positive_rate, true_positive_rate, thresholds = roc_curve(Y_test, Y_pred)\n",
    "   roc_auc = auc(false_positive_rate, true_positive_rate)\n",
    "   test_results.append(roc_auc)\n",
    "\n",
    "max_y = max(test_results)\n",
    "max_x = n_estimators[test_results.index(max_y)]\n",
    "print(max_y, max_x)\n",
    "\n",
    "from matplotlib.legend_handler import HandlerLine2D\n",
    "\n",
    "line1, = plt.plot(min_samples_splits, train_results, 'b', label='Train AUC')\n",
    "line2, = plt.plot(min_samples_splits, test_results, 'r', label='Test AUC')\n",
    "\n",
    "plt.legend(handler_map={line1: HandlerLine2D(numpoints=2)})\n",
    "\n",
    "plt.ylabel('AUC score')\n",
    "plt.xlabel('min samples split')\n",
    "plt.show()"
   ]
  },
  {
   "cell_type": "markdown",
   "metadata": {
    "id": "DvKHHhHqojSr"
   },
   "source": [
    "0.9683438155136268 1\n",
    "\n",
    "0.9572327044025157 4\n",
    "\n",
    "0.9627882599580713 1\n",
    "\n",
    "0.9627882599580713 2\n",
    "\n",
    "0.9627882599580713 2\n",
    "\n",
    "0.9516771488469602 1\n",
    "\n",
    "0.9572327044025157 2"
   ]
  },
  {
   "cell_type": "code",
   "execution_count": 179,
   "metadata": {
    "executionInfo": {
     "elapsed": 53,
     "status": "aborted",
     "timestamp": 1653657452770,
     "user": {
      "displayName": "Aditya Choudhari",
      "userId": "07226314186364651672"
     },
     "user_tz": -330
    },
    "id": "pPPmq3zqmeU5"
   },
   "outputs": [
    {
     "name": "stdout",
     "output_type": "stream",
     "text": [
      "0.9516771488469602 1\n"
     ]
    },
    {
     "data": {
      "image/png": "[encoded data removed]",
      "text/plain": [
       "<Figure size 432x288 with 1 Axes>"
      ]
     },
     "metadata": {
      "needs_background": "light"
     },
     "output_type": "display_data"
    }
   ],
   "source": [
    "min_samples_leafs = np.linspace(0.1, 0.5, 5, endpoint=True)\n",
    "\n",
    "train_results = []\n",
    "test_results = []\n",
    "\n",
    "for min_samples_leaf in min_samples_leafs:\n",
    "\n",
    "   rf = RandomForestClassifier(min_samples_leaf=min_samples_leaf)\n",
    "   rf.fit(X_train, Y_train)\n",
    "\n",
    "   train_pred = rf.predict(X_train)\n",
    "\n",
    "   false_positive_rate, true_positive_rate, thresholds = roc_curve(Y_train, train_pred)\n",
    "   roc_auc = auc(false_positive_rate, true_positive_rate)\n",
    "   train_results.append(roc_auc)\n",
    "\n",
    "   Y_pred = rf.predict(X_test)\n",
    "\n",
    "   false_positive_rate, true_positive_rate, thresholds = roc_curve(Y_test, Y_pred)\n",
    "   roc_auc = auc(false_positive_rate, true_positive_rate)\n",
    "   test_results.append(roc_auc)\n",
    "\n",
    "max_y = max(test_results)\n",
    "max_x = n_estimators[test_results.index(max_y)]\n",
    "print(max_y, max_x)\n",
    "\n",
    "from matplotlib.legend_handler import HandlerLine2D\n",
    "\n",
    "line1, = plt.plot(min_samples_leafs, train_results, 'b', label='Train AUC')\n",
    "line2, = plt.plot(min_samples_leafs, test_results, 'r', label='Test AUC')\n",
    "\n",
    "plt.legend(handler_map={line1: HandlerLine2D(numpoints=2)})\n",
    "\n",
    "plt.ylabel('AUC score')\n",
    "plt.xlabel('min samples leaf')\n",
    "plt.show()"
   ]
  },
  {
   "cell_type": "markdown",
   "metadata": {
    "id": "Vukp_vfJogiJ"
   },
   "source": [
    "0.9516771488469602 1\n",
    "\n",
    "0.9461215932914047 1\n",
    "\n",
    "0.9516771488469602 1\n",
    "\n",
    "0.9533542976939203 1\n",
    "\n",
    "0.9533542976939203 1"
   ]
  },
  {
   "cell_type": "code",
   "execution_count": 180,
   "metadata": {
    "executionInfo": {
     "elapsed": 53,
     "status": "aborted",
     "timestamp": 1653657452771,
     "user": {
      "displayName": "Aditya Choudhari",
      "userId": "07226314186364651672"
     },
     "user_tz": -330
    },
    "id": "wI1AaFTrn--a"
   },
   "outputs": [],
   "source": [
    "n_estimators = [6, 8, 16, 21, 26, 30, 31, 39, 43, 49]\n",
    "\n",
    "max_features = ['auto', 'sqrt']\n",
    "\n",
    "max_depths = [6, 9, 11, 13]\n",
    "\n",
    "min_samples_splits = [1, 2, 3, 4, 5]\n",
    "\n",
    "min_samples_leafs = [1]\n",
    "\n",
    "bootstrap = [True, False]"
   ]
  },
  {
   "cell_type": "code",
   "execution_count": 181,
   "metadata": {
    "executionInfo": {
     "elapsed": 55,
     "status": "aborted",
     "timestamp": 1653657452773,
     "user": {
      "displayName": "Aditya Choudhari",
      "userId": "07226314186364651672"
     },
     "user_tz": -330
    },
    "id": "ZZrJZuVuwKQg"
   },
   "outputs": [
    {
     "name": "stdout",
     "output_type": "stream",
     "text": [
      "{'n_estimators': [6, 8, 16, 21, 26, 30, 31, 39, 43, 49], 'max_features': ['auto', 'sqrt'], 'max_depth': [6, 9, 11, 13], 'min_samples_leaf': [1], 'bootstrap': [True, False]}\n"
     ]
    }
   ],
   "source": [
    "param_grid = {\n",
    "    'n_estimators' : n_estimators,\n",
    "    'max_features' : max_features,\n",
    "    'max_depth' : max_depths,\n",
    "    \n",
    "    'min_samples_leaf' : min_samples_leafs,\n",
    "    'bootstrap' : bootstrap\n",
    "}\n",
    "\n",
    "print(param_grid)"
   ]
  },
  {
   "cell_type": "code",
   "execution_count": 182,
   "metadata": {
    "executionInfo": {
     "elapsed": 57,
     "status": "aborted",
     "timestamp": 1653657452775,
     "user": {
      "displayName": "Aditya Choudhari",
      "userId": "07226314186364651672"
     },
     "user_tz": -330
    },
    "id": "U6dE8RPJwoWo"
   },
   "outputs": [],
   "source": [
    "rf_Model = RandomForestClassifier()"
   ]
  },
  {
   "cell_type": "code",
   "execution_count": 183,
   "metadata": {
    "executionInfo": {
     "elapsed": 59,
     "status": "aborted",
     "timestamp": 1653657452778,
     "user": {
      "displayName": "Aditya Choudhari",
      "userId": "07226314186364651672"
     },
     "user_tz": -330
    },
    "id": "zGa_C6KGw08q"
   },
   "outputs": [],
   "source": [
    "from sklearn.model_selection import RandomizedSearchCV\n",
    "rf_RandomGrid = RandomizedSearchCV(estimator = rf_Model, param_distributions = param_grid,n_iter = 100, cv=10, verbose = 2, n_jobs=4)"
   ]
  },
  {
   "cell_type": "code",
   "execution_count": 184,
   "metadata": {
    "executionInfo": {
     "elapsed": 61,
     "status": "aborted",
     "timestamp": 1653657452780,
     "user": {
      "displayName": "Aditya Choudhari",
      "userId": "07226314186364651672"
     },
     "user_tz": -330
    },
    "id": "xlfZwBa_xicw"
   },
   "outputs": [
    {
     "name": "stdout",
     "output_type": "stream",
     "text": [
      "Fitting 10 folds for each of 100 candidates, totalling 1000 fits\n"
     ]
    },
    {
     "data": {
      "text/plain": [
       "RandomizedSearchCV(cv=10, estimator=RandomForestClassifier(), n_iter=100,\n",
       "                   n_jobs=4,\n",
       "                   param_distributions={'bootstrap': [True, False],\n",
       "                                        'max_depth': [6, 9, 11, 13],\n",
       "                                        'max_features': ['auto', 'sqrt'],\n",
       "                                        'min_samples_leaf': [1],\n",
       "                                        'n_estimators': [6, 8, 16, 21, 26, 30,\n",
       "                                                         31, 39, 43, 49]},\n",
       "                   verbose=2)"
      ]
     },
     "execution_count": 184,
     "metadata": {},
     "output_type": "execute_result"
    }
   ],
   "source": [
    "rf_RandomGrid.fit(X_train, Y_train)"
   ]
  },
  {
   "cell_type": "code",
   "execution_count": 185,
   "metadata": {
    "executionInfo": {
     "elapsed": 62,
     "status": "aborted",
     "timestamp": 1653657452781,
     "user": {
      "displayName": "Aditya Choudhari",
      "userId": "07226314186364651672"
     },
     "user_tz": -330
    },
    "id": "wvnmvhoHyiAG"
   },
   "outputs": [
    {
     "data": {
      "text/plain": [
       "{'n_estimators': 26,\n",
       " 'min_samples_leaf': 1,\n",
       " 'max_features': 'sqrt',\n",
       " 'max_depth': 9,\n",
       " 'bootstrap': False}"
      ]
     },
     "execution_count": 185,
     "metadata": {},
     "output_type": "execute_result"
    }
   ],
   "source": [
    "rf_RandomGrid.best_params_"
   ]
  },
  {
   "cell_type": "code",
   "execution_count": 186,
   "metadata": {
    "executionInfo": {
     "elapsed": 63,
     "status": "aborted",
     "timestamp": 1653657452783,
     "user": {
      "displayName": "Aditya Choudhari",
      "userId": "07226314186364651672"
     },
     "user_tz": -330
    },
    "id": "2LBLfwb7yrFR"
   },
   "outputs": [
    {
     "name": "stdout",
     "output_type": "stream",
     "text": [
      " Train Accuracy - : 1.0: 3f\n",
      " Test Accuracy - : 0.9440559440559441: 3f\n"
     ]
    }
   ],
   "source": [
    "print(f' Train Accuracy - : {rf_RandomGrid.score(X_train, Y_train)}: 3f')\n",
    "print(f' Test Accuracy - : {rf_RandomGrid.score(X_test, Y_test)}: 3f')\n"
   ]
  },
  {
   "cell_type": "markdown",
   "metadata": {
    "id": "ddsZ6f0WnHo8"
   },
   "source": [
    "SVM"
   ]
  },
  {
   "cell_type": "code",
   "execution_count": 187,
   "metadata": {
    "colab": {
     "base_uri": "https://localhost:8080/"
    },
    "executionInfo": {
     "elapsed": 474,
     "status": "ok",
     "timestamp": 1653657682746,
     "user": {
      "displayName": "Aditya Choudhari",
      "userId": "07226314186364651672"
     },
     "user_tz": -330
    },
    "id": "IzgQFt2zGTwJ",
    "outputId": "ee02d516-0eb2-4391-be53-cdcd603c25e1"
   },
   "outputs": [
    {
     "name": "stdout",
     "output_type": "stream",
     "text": [
      "[2]Support Vector Machine (Linear Classifier) Training Accuracy: 0.9882629107981221\n",
      "[3]Support Vector Machine (RBF Classifier) Training Accuracy: 0.9835680751173709\n"
     ]
    }
   ],
   "source": [
    "#def svm_model(X_train, Y_train):\n",
    "from sklearn.svm import SVC\n",
    "svc_lin = SVC(kernel = 'linear', random_state = 0)\n",
    "svc_lin.fit(X_train, Y_train)\n",
    "\n",
    "#Using SVC rbf\n",
    "from sklearn.svm import SVC\n",
    "svc_rbf = SVC(kernel = 'rbf', random_state = 0)\n",
    "svc_rbf.fit(X_train, Y_train)\n",
    "\n",
    "print('[2]Support Vector Machine (Linear Classifier) Training Accuracy:', svc_lin.score(X_train, Y_train))\n",
    "print('[3]Support Vector Machine (RBF Classifier) Training Accuracy:', svc_rbf.score(X_train, Y_train))\n",
    "  #return svc_rbf"
   ]
  },
  {
   "cell_type": "code",
   "execution_count": 188,
   "metadata": {
    "colab": {
     "base_uri": "https://localhost:8080/"
    },
    "executionInfo": {
     "elapsed": 441,
     "status": "ok",
     "timestamp": 1653659026848,
     "user": {
      "displayName": "Aditya Choudhari",
      "userId": "07226314186364651672"
     },
     "user_tz": -330
    },
    "id": "rMx6YIxxGv-U",
    "outputId": "7dd41d00-2b00-4c52-83e6-d424c78bd97a"
   },
   "outputs": [
    {
     "name": "stdout",
     "output_type": "stream",
     "text": [
      "[[86  4]\n",
      " [ 2 51]]\n",
      "0.958041958041958\n"
     ]
    }
   ],
   "source": [
    "from sklearn.metrics import confusion_matrix\n",
    "cm = confusion_matrix(Y_test, svc_lin.predict(X_test))\n",
    "  \n",
    "TN = cm[0][0]\n",
    "TP = cm[1][1]\n",
    "FN = cm[1][0]\n",
    "FP = cm[0][1]\n",
    "\n",
    "print(cm)\n",
    "print((TP + TN) / (TP + TN + FN + FP))"
   ]
  },
  {
   "cell_type": "code",
   "execution_count": 189,
   "metadata": {
    "id": "pQHXOb_3KBfC"
   },
   "outputs": [
    {
     "name": "stdout",
     "output_type": "stream",
     "text": [
      "Fitting 5 folds for each of 64 candidates, totalling 320 fits\n",
      "[CV] END .........................C=0.1, gamma=1, kernel=rbf; total time=   0.0s\n",
      "[CV] END .........................C=0.1, gamma=1, kernel=rbf; total time=   0.0s\n",
      "[CV] END .........................C=0.1, gamma=1, kernel=rbf; total time=   0.0s\n",
      "[CV] END .........................C=0.1, gamma=1, kernel=rbf; total time=   0.0s\n",
      "[CV] END .........................C=0.1, gamma=1, kernel=rbf; total time=   0.0s\n",
      "[CV] END ........................C=0.1, gamma=1, kernel=poly; total time=   0.0s\n",
      "[CV] END ........................C=0.1, gamma=1, kernel=poly; total time=   0.0s\n",
      "[CV] END ........................C=0.1, gamma=1, kernel=poly; total time=   0.0s\n",
      "[CV] END ........................C=0.1, gamma=1, kernel=poly; total time=   0.0s\n",
      "[CV] END ........................C=0.1, gamma=1, kernel=poly; total time=   0.0s\n",
      "[CV] END ......................C=0.1, gamma=1, kernel=linear; total time=   0.0s\n",
      "[CV] END ......................C=0.1, gamma=1, kernel=linear; total time=   0.0s\n",
      "[CV] END ......................C=0.1, gamma=1, kernel=linear; total time=   0.0s\n",
      "[CV] END ......................C=0.1, gamma=1, kernel=linear; total time=   0.0s\n",
      "[CV] END ......................C=0.1, gamma=1, kernel=linear; total time=   0.0s\n",
      "[CV] END .....................C=0.1, gamma=1, kernel=sigmoid; total time=   0.0s\n",
      "[CV] END .....................C=0.1, gamma=1, kernel=sigmoid; total time=   0.0s\n",
      "[CV] END .....................C=0.1, gamma=1, kernel=sigmoid; total time=   0.0s\n",
      "[CV] END .....................C=0.1, gamma=1, kernel=sigmoid; total time=   0.0s\n",
      "[CV] END .....................C=0.1, gamma=1, kernel=sigmoid; total time=   0.0s\n",
      "[CV] END .......................C=0.1, gamma=0.1, kernel=rbf; total time=   0.0s\n",
      "[CV] END .......................C=0.1, gamma=0.1, kernel=rbf; total time=   0.0s\n",
      "[CV] END .......................C=0.1, gamma=0.1, kernel=rbf; total time=   0.0s\n",
      "[CV] END .......................C=0.1, gamma=0.1, kernel=rbf; total time=   0.0s\n",
      "[CV] END .......................C=0.1, gamma=0.1, kernel=rbf; total time=   0.0s\n",
      "[CV] END ......................C=0.1, gamma=0.1, kernel=poly; total time=   0.0s\n",
      "[CV] END ......................C=0.1, gamma=0.1, kernel=poly; total time=   0.0s\n",
      "[CV] END ......................C=0.1, gamma=0.1, kernel=poly; total time=   0.0s\n",
      "[CV] END ......................C=0.1, gamma=0.1, kernel=poly; total time=   0.0s\n",
      "[CV] END ......................C=0.1, gamma=0.1, kernel=poly; total time=   0.0s\n",
      "[CV] END ....................C=0.1, gamma=0.1, kernel=linear; total time=   0.0s\n",
      "[CV] END ....................C=0.1, gamma=0.1, kernel=linear; total time=   0.0s\n",
      "[CV] END ....................C=0.1, gamma=0.1, kernel=linear; total time=   0.0s\n",
      "[CV] END ....................C=0.1, gamma=0.1, kernel=linear; total time=   0.0s\n",
      "[CV] END ....................C=0.1, gamma=0.1, kernel=linear; total time=   0.0s\n",
      "[CV] END ...................C=0.1, gamma=0.1, kernel=sigmoid; total time=   0.0s\n",
      "[CV] END ...................C=0.1, gamma=0.1, kernel=sigmoid; total time=   0.0s\n",
      "[CV] END ...................C=0.1, gamma=0.1, kernel=sigmoid; total time=   0.0s\n",
      "[CV] END ...................C=0.1, gamma=0.1, kernel=sigmoid; total time=   0.0s\n",
      "[CV] END ...................C=0.1, gamma=0.1, kernel=sigmoid; total time=   0.0s\n",
      "[CV] END ......................C=0.1, gamma=0.01, kernel=rbf; total time=   0.0s\n",
      "[CV] END ......................C=0.1, gamma=0.01, kernel=rbf; total time=   0.0s\n",
      "[CV] END ......................C=0.1, gamma=0.01, kernel=rbf; total time=   0.0s\n",
      "[CV] END ......................C=0.1, gamma=0.01, kernel=rbf; total time=   0.0s\n",
      "[CV] END ......................C=0.1, gamma=0.01, kernel=rbf; total time=   0.0s\n",
      "[CV] END .....................C=0.1, gamma=0.01, kernel=poly; total time=   0.0s\n",
      "[CV] END .....................C=0.1, gamma=0.01, kernel=poly; total time=   0.0s\n",
      "[CV] END .....................C=0.1, gamma=0.01, kernel=poly; total time=   0.0s\n",
      "[CV] END .....................C=0.1, gamma=0.01, kernel=poly; total time=   0.0s\n",
      "[CV] END .....................C=0.1, gamma=0.01, kernel=poly; total time=   0.0s\n",
      "[CV] END ...................C=0.1, gamma=0.01, kernel=linear; total time=   0.0s\n",
      "[CV] END ...................C=0.1, gamma=0.01, kernel=linear; total time=   0.0s\n",
      "[CV] END ...................C=0.1, gamma=0.01, kernel=linear; total time=   0.0s\n",
      "[CV] END ...................C=0.1, gamma=0.01, kernel=linear; total time=   0.0s\n",
      "[CV] END ...................C=0.1, gamma=0.01, kernel=linear; total time=   0.0s\n",
      "[CV] END ..................C=0.1, gamma=0.01, kernel=sigmoid; total time=   0.0s\n",
      "[CV] END ..................C=0.1, gamma=0.01, kernel=sigmoid; total time=   0.0s\n",
      "[CV] END ..................C=0.1, gamma=0.01, kernel=sigmoid; total time=   0.0s\n",
      "[CV] END ..................C=0.1, gamma=0.01, kernel=sigmoid; total time=   0.0s\n",
      "[CV] END ..................C=0.1, gamma=0.01, kernel=sigmoid; total time=   0.0s\n",
      "[CV] END .....................C=0.1, gamma=0.001, kernel=rbf; total time=   0.0s\n",
      "[CV] END .....................C=0.1, gamma=0.001, kernel=rbf; total time=   0.0s\n",
      "[CV] END .....................C=0.1, gamma=0.001, kernel=rbf; total time=   0.0s\n",
      "[CV] END .....................C=0.1, gamma=0.001, kernel=rbf; total time=   0.0s\n",
      "[CV] END .....................C=0.1, gamma=0.001, kernel=rbf; total time=   0.0s\n",
      "[CV] END ....................C=0.1, gamma=0.001, kernel=poly; total time=   0.0s\n",
      "[CV] END ....................C=0.1, gamma=0.001, kernel=poly; total time=   0.0s\n",
      "[CV] END ....................C=0.1, gamma=0.001, kernel=poly; total time=   0.0s\n",
      "[CV] END ....................C=0.1, gamma=0.001, kernel=poly; total time=   0.0s\n",
      "[CV] END ....................C=0.1, gamma=0.001, kernel=poly; total time=   0.0s\n",
      "[CV] END ..................C=0.1, gamma=0.001, kernel=linear; total time=   0.0s\n",
      "[CV] END ..................C=0.1, gamma=0.001, kernel=linear; total time=   0.0s\n",
      "[CV] END ..................C=0.1, gamma=0.001, kernel=linear; total time=   0.0s\n",
      "[CV] END ..................C=0.1, gamma=0.001, kernel=linear; total time=   0.0s\n",
      "[CV] END ..................C=0.1, gamma=0.001, kernel=linear; total time=   0.0s\n",
      "[CV] END .................C=0.1, gamma=0.001, kernel=sigmoid; total time=   0.0s\n",
      "[CV] END .................C=0.1, gamma=0.001, kernel=sigmoid; total time=   0.0s\n",
      "[CV] END .................C=0.1, gamma=0.001, kernel=sigmoid; total time=   0.0s\n",
      "[CV] END .................C=0.1, gamma=0.001, kernel=sigmoid; total time=   0.0s\n",
      "[CV] END .................C=0.1, gamma=0.001, kernel=sigmoid; total time=   0.0s\n",
      "[CV] END ...........................C=1, gamma=1, kernel=rbf; total time=   0.0s\n",
      "[CV] END ...........................C=1, gamma=1, kernel=rbf; total time=   0.0s\n",
      "[CV] END ...........................C=1, gamma=1, kernel=rbf; total time=   0.0s\n",
      "[CV] END ...........................C=1, gamma=1, kernel=rbf; total time=   0.0s\n",
      "[CV] END ...........................C=1, gamma=1, kernel=rbf; total time=   0.0s\n",
      "[CV] END ..........................C=1, gamma=1, kernel=poly; total time=   0.0s\n",
      "[CV] END ..........................C=1, gamma=1, kernel=poly; total time=   0.0s\n",
      "[CV] END ..........................C=1, gamma=1, kernel=poly; total time=   0.0s\n",
      "[CV] END ..........................C=1, gamma=1, kernel=poly; total time=   0.0s\n",
      "[CV] END ..........................C=1, gamma=1, kernel=poly; total time=   0.0s\n",
      "[CV] END ........................C=1, gamma=1, kernel=linear; total time=   0.0s\n",
      "[CV] END ........................C=1, gamma=1, kernel=linear; total time=   0.0s\n",
      "[CV] END ........................C=1, gamma=1, kernel=linear; total time=   0.0s\n",
      "[CV] END ........................C=1, gamma=1, kernel=linear; total time=   0.0s\n",
      "[CV] END ........................C=1, gamma=1, kernel=linear; total time=   0.0s\n",
      "[CV] END .......................C=1, gamma=1, kernel=sigmoid; total time=   0.0s\n",
      "[CV] END .......................C=1, gamma=1, kernel=sigmoid; total time=   0.0s\n",
      "[CV] END .......................C=1, gamma=1, kernel=sigmoid; total time=   0.0s\n",
      "[CV] END .......................C=1, gamma=1, kernel=sigmoid; total time=   0.0s\n",
      "[CV] END .......................C=1, gamma=1, kernel=sigmoid; total time=   0.0s\n",
      "[CV] END .........................C=1, gamma=0.1, kernel=rbf; total time=   0.0s\n",
      "[CV] END .........................C=1, gamma=0.1, kernel=rbf; total time=   0.0s\n",
      "[CV] END .........................C=1, gamma=0.1, kernel=rbf; total time=   0.0s\n",
      "[CV] END .........................C=1, gamma=0.1, kernel=rbf; total time=   0.0s\n",
      "[CV] END .........................C=1, gamma=0.1, kernel=rbf; total time=   0.0s\n",
      "[CV] END ........................C=1, gamma=0.1, kernel=poly; total time=   0.0s\n",
      "[CV] END ........................C=1, gamma=0.1, kernel=poly; total time=   0.0s\n",
      "[CV] END ........................C=1, gamma=0.1, kernel=poly; total time=   0.0s\n",
      "[CV] END ........................C=1, gamma=0.1, kernel=poly; total time=   0.0s\n",
      "[CV] END ........................C=1, gamma=0.1, kernel=poly; total time=   0.0s\n",
      "[CV] END ......................C=1, gamma=0.1, kernel=linear; total time=   0.0s\n",
      "[CV] END ......................C=1, gamma=0.1, kernel=linear; total time=   0.0s\n",
      "[CV] END ......................C=1, gamma=0.1, kernel=linear; total time=   0.0s\n",
      "[CV] END ......................C=1, gamma=0.1, kernel=linear; total time=   0.0s\n",
      "[CV] END ......................C=1, gamma=0.1, kernel=linear; total time=   0.0s\n",
      "[CV] END .....................C=1, gamma=0.1, kernel=sigmoid; total time=   0.0s\n",
      "[CV] END .....................C=1, gamma=0.1, kernel=sigmoid; total time=   0.0s\n",
      "[CV] END .....................C=1, gamma=0.1, kernel=sigmoid; total time=   0.0s\n",
      "[CV] END .....................C=1, gamma=0.1, kernel=sigmoid; total time=   0.0s\n",
      "[CV] END .....................C=1, gamma=0.1, kernel=sigmoid; total time=   0.0s\n",
      "[CV] END ........................C=1, gamma=0.01, kernel=rbf; total time=   0.0s\n",
      "[CV] END ........................C=1, gamma=0.01, kernel=rbf; total time=   0.0s\n",
      "[CV] END ........................C=1, gamma=0.01, kernel=rbf; total time=   0.0s\n",
      "[CV] END ........................C=1, gamma=0.01, kernel=rbf; total time=   0.0s\n",
      "[CV] END ........................C=1, gamma=0.01, kernel=rbf; total time=   0.0s\n",
      "[CV] END .......................C=1, gamma=0.01, kernel=poly; total time=   0.0s\n",
      "[CV] END .......................C=1, gamma=0.01, kernel=poly; total time=   0.0s\n",
      "[CV] END .......................C=1, gamma=0.01, kernel=poly; total time=   0.0s\n",
      "[CV] END .......................C=1, gamma=0.01, kernel=poly; total time=   0.0s\n",
      "[CV] END .......................C=1, gamma=0.01, kernel=poly; total time=   0.0s\n",
      "[CV] END .....................C=1, gamma=0.01, kernel=linear; total time=   0.0s\n",
      "[CV] END .....................C=1, gamma=0.01, kernel=linear; total time=   0.0s\n",
      "[CV] END .....................C=1, gamma=0.01, kernel=linear; total time=   0.0s\n",
      "[CV] END .....................C=1, gamma=0.01, kernel=linear; total time=   0.0s\n",
      "[CV] END .....................C=1, gamma=0.01, kernel=linear; total time=   0.0s\n",
      "[CV] END ....................C=1, gamma=0.01, kernel=sigmoid; total time=   0.0s\n"
     ]
    },
    {
     "name": "stdout",
     "output_type": "stream",
     "text": [
      "[CV] END ....................C=1, gamma=0.01, kernel=sigmoid; total time=   0.0s\n",
      "[CV] END ....................C=1, gamma=0.01, kernel=sigmoid; total time=   0.0s\n",
      "[CV] END ....................C=1, gamma=0.01, kernel=sigmoid; total time=   0.0s\n",
      "[CV] END ....................C=1, gamma=0.01, kernel=sigmoid; total time=   0.0s\n",
      "[CV] END .......................C=1, gamma=0.001, kernel=rbf; total time=   0.0s\n",
      "[CV] END .......................C=1, gamma=0.001, kernel=rbf; total time=   0.0s\n",
      "[CV] END .......................C=1, gamma=0.001, kernel=rbf; total time=   0.0s\n",
      "[CV] END .......................C=1, gamma=0.001, kernel=rbf; total time=   0.0s\n",
      "[CV] END .......................C=1, gamma=0.001, kernel=rbf; total time=   0.0s\n",
      "[CV] END ......................C=1, gamma=0.001, kernel=poly; total time=   0.0s\n",
      "[CV] END ......................C=1, gamma=0.001, kernel=poly; total time=   0.0s\n",
      "[CV] END ......................C=1, gamma=0.001, kernel=poly; total time=   0.0s\n",
      "[CV] END ......................C=1, gamma=0.001, kernel=poly; total time=   0.0s\n",
      "[CV] END ......................C=1, gamma=0.001, kernel=poly; total time=   0.0s\n",
      "[CV] END ....................C=1, gamma=0.001, kernel=linear; total time=   0.0s\n",
      "[CV] END ....................C=1, gamma=0.001, kernel=linear; total time=   0.0s\n",
      "[CV] END ....................C=1, gamma=0.001, kernel=linear; total time=   0.0s\n",
      "[CV] END ....................C=1, gamma=0.001, kernel=linear; total time=   0.0s\n",
      "[CV] END ....................C=1, gamma=0.001, kernel=linear; total time=   0.0s\n",
      "[CV] END ...................C=1, gamma=0.001, kernel=sigmoid; total time=   0.0s\n",
      "[CV] END ...................C=1, gamma=0.001, kernel=sigmoid; total time=   0.0s\n",
      "[CV] END ...................C=1, gamma=0.001, kernel=sigmoid; total time=   0.0s\n",
      "[CV] END ...................C=1, gamma=0.001, kernel=sigmoid; total time=   0.0s\n",
      "[CV] END ...................C=1, gamma=0.001, kernel=sigmoid; total time=   0.0s\n",
      "[CV] END ..........................C=10, gamma=1, kernel=rbf; total time=   0.0s\n",
      "[CV] END ..........................C=10, gamma=1, kernel=rbf; total time=   0.0s\n",
      "[CV] END ..........................C=10, gamma=1, kernel=rbf; total time=   0.0s\n",
      "[CV] END ..........................C=10, gamma=1, kernel=rbf; total time=   0.0s\n",
      "[CV] END ..........................C=10, gamma=1, kernel=rbf; total time=   0.0s\n",
      "[CV] END .........................C=10, gamma=1, kernel=poly; total time=   0.0s\n",
      "[CV] END .........................C=10, gamma=1, kernel=poly; total time=   0.0s\n",
      "[CV] END .........................C=10, gamma=1, kernel=poly; total time=   0.0s\n",
      "[CV] END .........................C=10, gamma=1, kernel=poly; total time=   0.0s\n",
      "[CV] END .........................C=10, gamma=1, kernel=poly; total time=   0.0s\n",
      "[CV] END .......................C=10, gamma=1, kernel=linear; total time=   0.0s\n",
      "[CV] END .......................C=10, gamma=1, kernel=linear; total time=   0.0s\n",
      "[CV] END .......................C=10, gamma=1, kernel=linear; total time=   0.0s\n",
      "[CV] END .......................C=10, gamma=1, kernel=linear; total time=   0.0s\n",
      "[CV] END .......................C=10, gamma=1, kernel=linear; total time=   0.0s\n",
      "[CV] END ......................C=10, gamma=1, kernel=sigmoid; total time=   0.0s\n",
      "[CV] END ......................C=10, gamma=1, kernel=sigmoid; total time=   0.0s\n",
      "[CV] END ......................C=10, gamma=1, kernel=sigmoid; total time=   0.0s\n",
      "[CV] END ......................C=10, gamma=1, kernel=sigmoid; total time=   0.0s\n",
      "[CV] END ......................C=10, gamma=1, kernel=sigmoid; total time=   0.0s\n",
      "[CV] END ........................C=10, gamma=0.1, kernel=rbf; total time=   0.0s\n",
      "[CV] END ........................C=10, gamma=0.1, kernel=rbf; total time=   0.0s\n",
      "[CV] END ........................C=10, gamma=0.1, kernel=rbf; total time=   0.0s\n",
      "[CV] END ........................C=10, gamma=0.1, kernel=rbf; total time=   0.0s\n",
      "[CV] END ........................C=10, gamma=0.1, kernel=rbf; total time=   0.0s\n",
      "[CV] END .......................C=10, gamma=0.1, kernel=poly; total time=   0.0s\n",
      "[CV] END .......................C=10, gamma=0.1, kernel=poly; total time=   0.0s\n",
      "[CV] END .......................C=10, gamma=0.1, kernel=poly; total time=   0.0s\n",
      "[CV] END .......................C=10, gamma=0.1, kernel=poly; total time=   0.0s\n",
      "[CV] END .......................C=10, gamma=0.1, kernel=poly; total time=   0.0s\n",
      "[CV] END .....................C=10, gamma=0.1, kernel=linear; total time=   0.0s\n",
      "[CV] END .....................C=10, gamma=0.1, kernel=linear; total time=   0.0s\n",
      "[CV] END .....................C=10, gamma=0.1, kernel=linear; total time=   0.0s\n",
      "[CV] END .....................C=10, gamma=0.1, kernel=linear; total time=   0.0s\n",
      "[CV] END .....................C=10, gamma=0.1, kernel=linear; total time=   0.0s\n",
      "[CV] END ....................C=10, gamma=0.1, kernel=sigmoid; total time=   0.0s\n",
      "[CV] END ....................C=10, gamma=0.1, kernel=sigmoid; total time=   0.0s\n",
      "[CV] END ....................C=10, gamma=0.1, kernel=sigmoid; total time=   0.0s\n",
      "[CV] END ....................C=10, gamma=0.1, kernel=sigmoid; total time=   0.0s\n",
      "[CV] END ....................C=10, gamma=0.1, kernel=sigmoid; total time=   0.0s\n",
      "[CV] END .......................C=10, gamma=0.01, kernel=rbf; total time=   0.0s\n",
      "[CV] END .......................C=10, gamma=0.01, kernel=rbf; total time=   0.0s\n",
      "[CV] END .......................C=10, gamma=0.01, kernel=rbf; total time=   0.0s\n",
      "[CV] END .......................C=10, gamma=0.01, kernel=rbf; total time=   0.0s\n",
      "[CV] END .......................C=10, gamma=0.01, kernel=rbf; total time=   0.0s\n",
      "[CV] END ......................C=10, gamma=0.01, kernel=poly; total time=   0.0s\n",
      "[CV] END ......................C=10, gamma=0.01, kernel=poly; total time=   0.0s\n",
      "[CV] END ......................C=10, gamma=0.01, kernel=poly; total time=   0.0s\n",
      "[CV] END ......................C=10, gamma=0.01, kernel=poly; total time=   0.0s\n",
      "[CV] END ......................C=10, gamma=0.01, kernel=poly; total time=   0.0s\n",
      "[CV] END ....................C=10, gamma=0.01, kernel=linear; total time=   0.0s\n",
      "[CV] END ....................C=10, gamma=0.01, kernel=linear; total time=   0.0s\n",
      "[CV] END ....................C=10, gamma=0.01, kernel=linear; total time=   0.0s\n",
      "[CV] END ....................C=10, gamma=0.01, kernel=linear; total time=   0.0s\n",
      "[CV] END ....................C=10, gamma=0.01, kernel=linear; total time=   0.0s\n",
      "[CV] END ...................C=10, gamma=0.01, kernel=sigmoid; total time=   0.0s\n",
      "[CV] END ...................C=10, gamma=0.01, kernel=sigmoid; total time=   0.0s\n",
      "[CV] END ...................C=10, gamma=0.01, kernel=sigmoid; total time=   0.0s\n",
      "[CV] END ...................C=10, gamma=0.01, kernel=sigmoid; total time=   0.0s\n",
      "[CV] END ...................C=10, gamma=0.01, kernel=sigmoid; total time=   0.0s\n",
      "[CV] END ......................C=10, gamma=0.001, kernel=rbf; total time=   0.0s\n",
      "[CV] END ......................C=10, gamma=0.001, kernel=rbf; total time=   0.0s\n",
      "[CV] END ......................C=10, gamma=0.001, kernel=rbf; total time=   0.0s\n",
      "[CV] END ......................C=10, gamma=0.001, kernel=rbf; total time=   0.0s\n",
      "[CV] END ......................C=10, gamma=0.001, kernel=rbf; total time=   0.0s\n",
      "[CV] END .....................C=10, gamma=0.001, kernel=poly; total time=   0.0s\n",
      "[CV] END .....................C=10, gamma=0.001, kernel=poly; total time=   0.0s\n",
      "[CV] END .....................C=10, gamma=0.001, kernel=poly; total time=   0.0s\n",
      "[CV] END .....................C=10, gamma=0.001, kernel=poly; total time=   0.0s\n",
      "[CV] END .....................C=10, gamma=0.001, kernel=poly; total time=   0.0s\n",
      "[CV] END ...................C=10, gamma=0.001, kernel=linear; total time=   0.0s\n",
      "[CV] END ...................C=10, gamma=0.001, kernel=linear; total time=   0.0s\n",
      "[CV] END ...................C=10, gamma=0.001, kernel=linear; total time=   0.0s\n",
      "[CV] END ...................C=10, gamma=0.001, kernel=linear; total time=   0.0s\n",
      "[CV] END ...................C=10, gamma=0.001, kernel=linear; total time=   0.0s\n",
      "[CV] END ..................C=10, gamma=0.001, kernel=sigmoid; total time=   0.0s\n",
      "[CV] END ..................C=10, gamma=0.001, kernel=sigmoid; total time=   0.0s\n",
      "[CV] END ..................C=10, gamma=0.001, kernel=sigmoid; total time=   0.0s\n",
      "[CV] END ..................C=10, gamma=0.001, kernel=sigmoid; total time=   0.0s\n",
      "[CV] END ..................C=10, gamma=0.001, kernel=sigmoid; total time=   0.0s\n",
      "[CV] END .........................C=100, gamma=1, kernel=rbf; total time=   0.0s\n",
      "[CV] END .........................C=100, gamma=1, kernel=rbf; total time=   0.0s\n",
      "[CV] END .........................C=100, gamma=1, kernel=rbf; total time=   0.0s\n",
      "[CV] END .........................C=100, gamma=1, kernel=rbf; total time=   0.0s\n",
      "[CV] END .........................C=100, gamma=1, kernel=rbf; total time=   0.0s\n",
      "[CV] END ........................C=100, gamma=1, kernel=poly; total time=   0.0s\n",
      "[CV] END ........................C=100, gamma=1, kernel=poly; total time=   0.0s\n",
      "[CV] END ........................C=100, gamma=1, kernel=poly; total time=   0.0s\n",
      "[CV] END ........................C=100, gamma=1, kernel=poly; total time=   0.0s\n",
      "[CV] END ........................C=100, gamma=1, kernel=poly; total time=   0.0s\n",
      "[CV] END ......................C=100, gamma=1, kernel=linear; total time=   0.0s\n",
      "[CV] END ......................C=100, gamma=1, kernel=linear; total time=   0.0s\n",
      "[CV] END ......................C=100, gamma=1, kernel=linear; total time=   0.0s\n",
      "[CV] END ......................C=100, gamma=1, kernel=linear; total time=   0.0s\n",
      "[CV] END ......................C=100, gamma=1, kernel=linear; total time=   0.0s\n",
      "[CV] END .....................C=100, gamma=1, kernel=sigmoid; total time=   0.0s\n",
      "[CV] END .....................C=100, gamma=1, kernel=sigmoid; total time=   0.0s\n",
      "[CV] END .....................C=100, gamma=1, kernel=sigmoid; total time=   0.0s\n",
      "[CV] END .....................C=100, gamma=1, kernel=sigmoid; total time=   0.0s\n",
      "[CV] END .....................C=100, gamma=1, kernel=sigmoid; total time=   0.0s\n",
      "[CV] END .......................C=100, gamma=0.1, kernel=rbf; total time=   0.0s\n",
      "[CV] END .......................C=100, gamma=0.1, kernel=rbf; total time=   0.0s\n",
      "[CV] END .......................C=100, gamma=0.1, kernel=rbf; total time=   0.0s\n",
      "[CV] END .......................C=100, gamma=0.1, kernel=rbf; total time=   0.0s\n",
      "[CV] END .......................C=100, gamma=0.1, kernel=rbf; total time=   0.0s\n",
      "[CV] END ......................C=100, gamma=0.1, kernel=poly; total time=   0.0s\n",
      "[CV] END ......................C=100, gamma=0.1, kernel=poly; total time=   0.0s\n",
      "[CV] END ......................C=100, gamma=0.1, kernel=poly; total time=   0.0s\n",
      "[CV] END ......................C=100, gamma=0.1, kernel=poly; total time=   0.0s\n",
      "[CV] END ......................C=100, gamma=0.1, kernel=poly; total time=   0.0s\n"
     ]
    },
    {
     "name": "stdout",
     "output_type": "stream",
     "text": [
      "[CV] END ....................C=100, gamma=0.1, kernel=linear; total time=   0.0s\n",
      "[CV] END ....................C=100, gamma=0.1, kernel=linear; total time=   0.0s\n",
      "[CV] END ....................C=100, gamma=0.1, kernel=linear; total time=   0.0s\n",
      "[CV] END ....................C=100, gamma=0.1, kernel=linear; total time=   0.0s\n",
      "[CV] END ....................C=100, gamma=0.1, kernel=linear; total time=   0.0s\n",
      "[CV] END ...................C=100, gamma=0.1, kernel=sigmoid; total time=   0.0s\n",
      "[CV] END ...................C=100, gamma=0.1, kernel=sigmoid; total time=   0.0s\n",
      "[CV] END ...................C=100, gamma=0.1, kernel=sigmoid; total time=   0.0s\n",
      "[CV] END ...................C=100, gamma=0.1, kernel=sigmoid; total time=   0.0s\n",
      "[CV] END ...................C=100, gamma=0.1, kernel=sigmoid; total time=   0.0s\n",
      "[CV] END ......................C=100, gamma=0.01, kernel=rbf; total time=   0.0s\n",
      "[CV] END ......................C=100, gamma=0.01, kernel=rbf; total time=   0.0s\n",
      "[CV] END ......................C=100, gamma=0.01, kernel=rbf; total time=   0.0s\n",
      "[CV] END ......................C=100, gamma=0.01, kernel=rbf; total time=   0.0s\n",
      "[CV] END ......................C=100, gamma=0.01, kernel=rbf; total time=   0.0s\n",
      "[CV] END .....................C=100, gamma=0.01, kernel=poly; total time=   0.0s\n",
      "[CV] END .....................C=100, gamma=0.01, kernel=poly; total time=   0.0s\n",
      "[CV] END .....................C=100, gamma=0.01, kernel=poly; total time=   0.0s\n",
      "[CV] END .....................C=100, gamma=0.01, kernel=poly; total time=   0.0s\n",
      "[CV] END .....................C=100, gamma=0.01, kernel=poly; total time=   0.0s\n",
      "[CV] END ...................C=100, gamma=0.01, kernel=linear; total time=   0.0s\n",
      "[CV] END ...................C=100, gamma=0.01, kernel=linear; total time=   0.0s\n",
      "[CV] END ...................C=100, gamma=0.01, kernel=linear; total time=   0.0s\n",
      "[CV] END ...................C=100, gamma=0.01, kernel=linear; total time=   0.0s\n",
      "[CV] END ...................C=100, gamma=0.01, kernel=linear; total time=   0.0s\n",
      "[CV] END ..................C=100, gamma=0.01, kernel=sigmoid; total time=   0.0s\n",
      "[CV] END ..................C=100, gamma=0.01, kernel=sigmoid; total time=   0.0s\n",
      "[CV] END ..................C=100, gamma=0.01, kernel=sigmoid; total time=   0.0s\n",
      "[CV] END ..................C=100, gamma=0.01, kernel=sigmoid; total time=   0.0s\n",
      "[CV] END ..................C=100, gamma=0.01, kernel=sigmoid; total time=   0.0s\n",
      "[CV] END .....................C=100, gamma=0.001, kernel=rbf; total time=   0.0s\n",
      "[CV] END .....................C=100, gamma=0.001, kernel=rbf; total time=   0.0s\n",
      "[CV] END .....................C=100, gamma=0.001, kernel=rbf; total time=   0.0s\n",
      "[CV] END .....................C=100, gamma=0.001, kernel=rbf; total time=   0.0s\n",
      "[CV] END .....................C=100, gamma=0.001, kernel=rbf; total time=   0.0s\n",
      "[CV] END ....................C=100, gamma=0.001, kernel=poly; total time=   0.0s\n",
      "[CV] END ....................C=100, gamma=0.001, kernel=poly; total time=   0.0s\n",
      "[CV] END ....................C=100, gamma=0.001, kernel=poly; total time=   0.0s\n",
      "[CV] END ....................C=100, gamma=0.001, kernel=poly; total time=   0.0s\n",
      "[CV] END ....................C=100, gamma=0.001, kernel=poly; total time=   0.0s\n",
      "[CV] END ..................C=100, gamma=0.001, kernel=linear; total time=   0.0s\n",
      "[CV] END ..................C=100, gamma=0.001, kernel=linear; total time=   0.0s\n",
      "[CV] END ..................C=100, gamma=0.001, kernel=linear; total time=   0.0s\n",
      "[CV] END ..................C=100, gamma=0.001, kernel=linear; total time=   0.0s\n",
      "[CV] END ..................C=100, gamma=0.001, kernel=linear; total time=   0.0s\n",
      "[CV] END .................C=100, gamma=0.001, kernel=sigmoid; total time=   0.0s\n",
      "[CV] END .................C=100, gamma=0.001, kernel=sigmoid; total time=   0.0s\n",
      "[CV] END .................C=100, gamma=0.001, kernel=sigmoid; total time=   0.0s\n",
      "[CV] END .................C=100, gamma=0.001, kernel=sigmoid; total time=   0.0s\n",
      "[CV] END .................C=100, gamma=0.001, kernel=sigmoid; total time=   0.0s\n"
     ]
    },
    {
     "data": {
      "text/plain": [
       "GridSearchCV(estimator=SVC(),\n",
       "             param_grid={'C': [0.1, 1, 10, 100], 'gamma': [1, 0.1, 0.01, 0.001],\n",
       "                         'kernel': ['rbf', 'poly', 'linear', 'sigmoid']},\n",
       "             verbose=2)"
      ]
     },
     "execution_count": 189,
     "metadata": {},
     "output_type": "execute_result"
    }
   ],
   "source": [
    "#finding optimal parameter for smo\n",
    "from sklearn.model_selection import GridSearchCV\n",
    "param_grid = {'C': [0.1,1, 10, 100], 'gamma': [1,0.1,0.01,0.001],'kernel': ['rbf', 'poly', 'linear', 'sigmoid']}\n",
    "grid = GridSearchCV(SVC(),param_grid,refit=True,verbose=2)\n",
    "grid.fit(X_train,Y_train)"
   ]
  },
  {
   "cell_type": "code",
   "execution_count": 190,
   "metadata": {
    "colab": {
     "base_uri": "https://localhost:8080/"
    },
    "executionInfo": {
     "elapsed": 395,
     "status": "ok",
     "timestamp": 1653657708653,
     "user": {
      "displayName": "Aditya Choudhari",
      "userId": "07226314186364651672"
     },
     "user_tz": -330
    },
    "id": "RW-SF0i4KOrm",
    "outputId": "03a03056-4e98-452b-996f-02683fc85cbf"
   },
   "outputs": [
    {
     "name": "stdout",
     "output_type": "stream",
     "text": [
      "SVC(C=100, gamma=0.001)\n"
     ]
    }
   ],
   "source": [
    "print(grid.best_estimator_)"
   ]
  },
  {
   "cell_type": "code",
   "execution_count": 191,
   "metadata": {
    "colab": {
     "base_uri": "https://localhost:8080/"
    },
    "executionInfo": {
     "elapsed": 490,
     "status": "ok",
     "timestamp": 1653659147875,
     "user": {
      "displayName": "Aditya Choudhari",
      "userId": "07226314186364651672"
     },
     "user_tz": -330
    },
    "id": "dHQxiocPLEOn",
    "outputId": "71e19021-1670-430b-b134-0a91c6eff6ef"
   },
   "outputs": [
    {
     "name": "stdout",
     "output_type": "stream",
     "text": [
      "[2]Support Vector Machine (Linear Classifier) Training Accuracy: 0.9882629107981221\n"
     ]
    }
   ],
   "source": [
    "#def svm_model(X_train, Y_train):\n",
    "from sklearn.svm import SVC\n",
    "svc_lin_grid = SVC(C=100, gamma=0.001)\n",
    "svc_lin_grid.fit(X_train, Y_train)\n",
    "\n",
    "\n",
    "print('[2]Support Vector Machine (Linear Classifier) Training Accuracy:', svc_lin.score(X_train, Y_train))"
   ]
  },
  {
   "cell_type": "code",
   "execution_count": 192,
   "metadata": {
    "colab": {
     "base_uri": "https://localhost:8080/"
    },
    "executionInfo": {
     "elapsed": 647,
     "status": "ok",
     "timestamp": 1653659151251,
     "user": {
      "displayName": "Aditya Choudhari",
      "userId": "07226314186364651672"
     },
     "user_tz": -330
    },
    "id": "60tY5s69KYDu",
    "outputId": "069d25ce-88da-4550-fcbe-e948f0594945"
   },
   "outputs": [
    {
     "name": "stdout",
     "output_type": "stream",
     "text": [
      "[[87  3]\n",
      " [ 1 52]]\n",
      "[[87  3]\n",
      " [ 1 52]]\n",
      "0.972027972027972\n"
     ]
    }
   ],
   "source": [
    "grid_predictions = svc_lin_grid.predict(X_test)\n",
    "print(confusion_matrix(Y_test,grid_predictions))\n",
    "\n",
    "cm = confusion_matrix(Y_test, grid_predictions)\n",
    "  \n",
    "TN = cm[0][0]\n",
    "TP = cm[1][1]\n",
    "FN = cm[1][0]\n",
    "FP = cm[0][1]\n",
    "\n",
    "print(cm)\n",
    "print((TP + TN) / (TP + TN + FN + FP))"
   ]
  },
  {
   "cell_type": "code",
   "execution_count": 193,
   "metadata": {},
   "outputs": [],
   "source": [
    "# sourabh asharma content\n",
    "\n",
    "space = {\n",
    "    'C' : hp.uniform(\"C\", 0.001, 100),\n",
    "    'gamma': hp.uniform(\"gamma\", 0.001, 1),\n",
    "    'kernel':hp.choice('kernel', ['poly','rbf','linear', 'sigmoid'])\n",
    "    }\n",
    "\n",
    "kernels = ['poly','rbf','linear','sigmoid']"
   ]
  },
  {
   "cell_type": "code",
   "execution_count": 206,
   "metadata": {},
   "outputs": [],
   "source": [
    "from sklearn.metrics import accuracy_score\n",
    "\n",
    "def objective(space):\n",
    "    \n",
    "    SVC_classifier = SVC(\n",
    "            C = space['C'],\n",
    "            gamma = space['gamma'],\n",
    "            kernel = space['kernel']\n",
    "        )\n",
    "    \n",
    "    SVC_classifier.fit(X_train, Y_train)\n",
    "    \n",
    "    y_pred = SVC_classify.predict(X_test)\n",
    "    \n",
    "    accuracy = accuracy_score(Y_test, y_pred)\n",
    "    \n",
    "    print(accuracy)\n",
    "    \n",
    "#     pred = SVC_classifier.predict(X_test)\n",
    "    print('SCORE:', accuracy)\n",
    "    return {'loss' : accuracy, 'status': STATUS_OK}\n"
   ]
  },
  {
   "cell_type": "code",
   "execution_count": 207,
   "metadata": {},
   "outputs": [
    {
     "name": "stdout",
     "output_type": "stream",
     "text": [
      "0.958041958041958                                                                                                      \n",
      "SCORE:                                                                                                                 \n",
      "0.958041958041958                                                                                                      \n",
      "0.958041958041958                                                                                                      \n",
      "SCORE:                                                                                                                 \n",
      "0.958041958041958                                                                                                      \n",
      "0.958041958041958                                                                                                      \n",
      "SCORE:                                                                                                                 \n",
      "0.958041958041958                                                                                                      \n",
      "0.958041958041958                                                                                                      \n",
      "SCORE:                                                                                                                 \n",
      "0.958041958041958                                                                                                      \n",
      "0.958041958041958                                                                                                      \n",
      "SCORE:                                                                                                                 \n",
      "0.958041958041958                                                                                                      \n",
      "0.958041958041958                                                                                                      \n",
      "SCORE:                                                                                                                 \n",
      "0.958041958041958                                                                                                      \n",
      "0.958041958041958                                                                                                      \n",
      "SCORE:                                                                                                                 \n",
      "0.958041958041958                                                                                                      \n",
      "0.958041958041958                                                                                                      \n",
      "SCORE:                                                                                                                 \n",
      "0.958041958041958                                                                                                      \n",
      "0.958041958041958                                                                                                      \n",
      "SCORE:                                                                                                                 \n",
      "0.958041958041958                                                                                                      \n",
      "0.958041958041958                                                                                                      \n",
      "SCORE:                                                                                                                 \n",
      "0.958041958041958                                                                                                      \n",
      "0.958041958041958                                                                                                      \n",
      "SCORE:                                                                                                                 \n",
      "0.958041958041958                                                                                                      \n",
      "0.958041958041958                                                                                                      \n",
      "SCORE:                                                                                                                 \n",
      "0.958041958041958                                                                                                      \n",
      "0.958041958041958                                                                                                      \n",
      "SCORE:                                                                                                                 \n",
      "0.958041958041958                                                                                                      \n",
      "0.958041958041958                                                                                                      \n",
      "SCORE:                                                                                                                 \n",
      "0.958041958041958                                                                                                      \n",
      "0.958041958041958                                                                                                      \n",
      "SCORE:                                                                                                                 \n",
      "0.958041958041958                                                                                                      \n",
      "0.958041958041958                                                                                                      \n",
      "SCORE:                                                                                                                 \n",
      "0.958041958041958                                                                                                      \n",
      "0.958041958041958                                                                                                      \n",
      "SCORE:                                                                                                                 \n",
      "0.958041958041958                                                                                                      \n",
      "0.958041958041958                                                                                                      \n",
      "SCORE:                                                                                                                 \n",
      "0.958041958041958                                                                                                      \n",
      "0.958041958041958                                                                                                      \n",
      "SCORE:                                                                                                                 \n",
      "0.958041958041958                                                                                                      \n",
      "0.958041958041958                                                                                                      \n",
      "SCORE:                                                                                                                 \n",
      "0.958041958041958                                                                                                      \n",
      "0.958041958041958                                                                                                      \n",
      "SCORE:                                                                                                                 \n",
      "0.958041958041958                                                                                                      \n",
      "0.958041958041958                                                                                                      \n",
      "SCORE:                                                                                                                 \n",
      "0.958041958041958                                                                                                      \n",
      "0.958041958041958                                                                                                      \n",
      "SCORE:                                                                                                                 \n"
     ]
    },
    {
     "name": "stdout",
     "output_type": "stream",
     "text": [
      "0.958041958041958                                                                                                      \n",
      "0.958041958041958                                                                                                      \n",
      "SCORE:                                                                                                                 \n",
      "0.958041958041958                                                                                                      \n",
      "0.958041958041958                                                                                                      \n",
      "SCORE:                                                                                                                 \n",
      "0.958041958041958                                                                                                      \n",
      "0.958041958041958                                                                                                      \n",
      "SCORE:                                                                                                                 \n",
      "0.958041958041958                                                                                                      \n",
      "0.958041958041958                                                                                                      \n",
      "SCORE:                                                                                                                 \n",
      "0.958041958041958                                                                                                      \n",
      "0.958041958041958                                                                                                      \n",
      "SCORE:                                                                                                                 \n",
      "0.958041958041958                                                                                                      \n",
      "0.958041958041958                                                                                                      \n",
      "SCORE:                                                                                                                 \n",
      "0.958041958041958                                                                                                      \n",
      "0.958041958041958                                                                                                      \n",
      "SCORE:                                                                                                                 \n",
      "0.958041958041958                                                                                                      \n",
      "0.958041958041958                                                                                                      \n",
      "SCORE:                                                                                                                 \n",
      "0.958041958041958                                                                                                      \n",
      "0.958041958041958                                                                                                      \n",
      "SCORE:                                                                                                                 \n",
      "0.958041958041958                                                                                                      \n",
      "0.958041958041958                                                                                                      \n",
      "SCORE:                                                                                                                 \n",
      "0.958041958041958                                                                                                      \n",
      "0.958041958041958                                                                                                      \n",
      "SCORE:                                                                                                                 \n",
      "0.958041958041958                                                                                                      \n",
      "0.958041958041958                                                                                                      \n",
      "SCORE:                                                                                                                 \n",
      "0.958041958041958                                                                                                      \n",
      "0.958041958041958                                                                                                      \n",
      "SCORE:                                                                                                                 \n",
      "0.958041958041958                                                                                                      \n",
      "0.958041958041958                                                                                                      \n",
      "SCORE:                                                                                                                 \n",
      "0.958041958041958                                                                                                      \n",
      "0.958041958041958                                                                                                      \n",
      "SCORE:                                                                                                                 \n",
      "0.958041958041958                                                                                                      \n",
      "0.958041958041958                                                                                                      \n",
      "SCORE:                                                                                                                 \n",
      "0.958041958041958                                                                                                      \n",
      "0.958041958041958                                                                                                      \n",
      "SCORE:                                                                                                                 \n",
      "0.958041958041958                                                                                                      \n",
      "0.958041958041958                                                                                                      \n",
      "SCORE:                                                                                                                 \n",
      "0.958041958041958                                                                                                      \n",
      "0.958041958041958                                                                                                      \n",
      "SCORE:                                                                                                                 \n",
      "0.958041958041958                                                                                                      \n",
      "0.958041958041958                                                                                                      \n",
      "SCORE:                                                                                                                 \n",
      "0.958041958041958                                                                                                      \n",
      "0.958041958041958                                                                                                      \n",
      "SCORE:                                                                                                                 \n",
      "0.958041958041958                                                                                                      \n",
      "0.958041958041958                                                                                                      \n",
      "SCORE:                                                                                                                 \n",
      "0.958041958041958                                                                                                      \n",
      "0.958041958041958                                                                                                      \n"
     ]
    },
    {
     "name": "stdout",
     "output_type": "stream",
     "text": [
      "SCORE:                                                                                                                 \n",
      "0.958041958041958                                                                                                      \n",
      "0.958041958041958                                                                                                      \n",
      "SCORE:                                                                                                                 \n",
      "0.958041958041958                                                                                                      \n",
      "0.958041958041958                                                                                                      \n",
      "SCORE:                                                                                                                 \n",
      "0.958041958041958                                                                                                      \n",
      "0.958041958041958                                                                                                      \n",
      "SCORE:                                                                                                                 \n",
      "0.958041958041958                                                                                                      \n",
      "0.958041958041958                                                                                                      \n",
      "SCORE:                                                                                                                 \n",
      "0.958041958041958                                                                                                      \n",
      "0.958041958041958                                                                                                      \n",
      "SCORE:                                                                                                                 \n",
      "0.958041958041958                                                                                                      \n",
      "0.958041958041958                                                                                                      \n",
      "SCORE:                                                                                                                 \n",
      "0.958041958041958                                                                                                      \n",
      "0.958041958041958                                                                                                      \n",
      "SCORE:                                                                                                                 \n",
      "0.958041958041958                                                                                                      \n",
      "0.958041958041958                                                                                                      \n",
      "SCORE:                                                                                                                 \n",
      "0.958041958041958                                                                                                      \n",
      "0.958041958041958                                                                                                      \n",
      "SCORE:                                                                                                                 \n",
      "0.958041958041958                                                                                                      \n",
      "0.958041958041958                                                                                                      \n",
      "SCORE:                                                                                                                 \n",
      "0.958041958041958                                                                                                      \n",
      "0.958041958041958                                                                                                      \n",
      "SCORE:                                                                                                                 \n",
      "0.958041958041958                                                                                                      \n",
      "0.958041958041958                                                                                                      \n",
      "SCORE:                                                                                                                 \n",
      "0.958041958041958                                                                                                      \n",
      "0.958041958041958                                                                                                      \n",
      "SCORE:                                                                                                                 \n",
      "0.958041958041958                                                                                                      \n",
      "0.958041958041958                                                                                                      \n",
      "SCORE:                                                                                                                 \n",
      "0.958041958041958                                                                                                      \n",
      "0.958041958041958                                                                                                      \n",
      "SCORE:                                                                                                                 \n",
      "0.958041958041958                                                                                                      \n",
      "0.958041958041958                                                                                                      \n",
      "SCORE:                                                                                                                 \n",
      "0.958041958041958                                                                                                      \n",
      "0.958041958041958                                                                                                      \n",
      "SCORE:                                                                                                                 \n",
      "0.958041958041958                                                                                                      \n",
      "0.958041958041958                                                                                                      \n",
      "SCORE:                                                                                                                 \n",
      "0.958041958041958                                                                                                      \n",
      "0.958041958041958                                                                                                      \n",
      "SCORE:                                                                                                                 \n",
      "0.958041958041958                                                                                                      \n",
      "0.958041958041958                                                                                                      \n",
      "SCORE:                                                                                                                 \n",
      "0.958041958041958                                                                                                      \n",
      "0.958041958041958                                                                                                      \n",
      "SCORE:                                                                                                                 \n",
      "0.958041958041958                                                                                                      \n",
      "0.958041958041958                                                                                                      \n",
      "SCORE:                                                                                                                 \n",
      "0.958041958041958                                                                                                      \n"
     ]
    },
    {
     "name": "stdout",
     "output_type": "stream",
     "text": [
      "0.958041958041958                                                                                                      \n",
      "SCORE:                                                                                                                 \n",
      "0.958041958041958                                                                                                      \n",
      "0.958041958041958                                                                                                      \n",
      "SCORE:                                                                                                                 \n",
      "0.958041958041958                                                                                                      \n",
      "0.958041958041958                                                                                                      \n",
      "SCORE:                                                                                                                 \n",
      "0.958041958041958                                                                                                      \n",
      "0.958041958041958                                                                                                      \n",
      "SCORE:                                                                                                                 \n",
      "0.958041958041958                                                                                                      \n",
      "0.958041958041958                                                                                                      \n",
      "SCORE:                                                                                                                 \n",
      "0.958041958041958                                                                                                      \n",
      "0.958041958041958                                                                                                      \n",
      "SCORE:                                                                                                                 \n",
      "0.958041958041958                                                                                                      \n",
      "0.958041958041958                                                                                                      \n",
      "SCORE:                                                                                                                 \n",
      "0.958041958041958                                                                                                      \n",
      "0.958041958041958                                                                                                      \n",
      "SCORE:                                                                                                                 \n",
      "0.958041958041958                                                                                                      \n",
      "0.958041958041958                                                                                                      \n",
      "SCORE:                                                                                                                 \n",
      "0.958041958041958                                                                                                      \n",
      "0.958041958041958                                                                                                      \n",
      "SCORE:                                                                                                                 \n",
      "0.958041958041958                                                                                                      \n",
      "0.958041958041958                                                                                                      \n",
      "SCORE:                                                                                                                 \n",
      "0.958041958041958                                                                                                      \n",
      "0.958041958041958                                                                                                      \n",
      "SCORE:                                                                                                                 \n",
      "0.958041958041958                                                                                                      \n",
      "0.958041958041958                                                                                                      \n",
      "SCORE:                                                                                                                 \n",
      "0.958041958041958                                                                                                      \n",
      "0.958041958041958                                                                                                      \n",
      "SCORE:                                                                                                                 \n",
      "0.958041958041958                                                                                                      \n",
      "0.958041958041958                                                                                                      \n",
      "SCORE:                                                                                                                 \n",
      "0.958041958041958                                                                                                      \n",
      "0.958041958041958                                                                                                      \n",
      "SCORE:                                                                                                                 \n",
      "0.958041958041958                                                                                                      \n",
      "0.958041958041958                                                                                                      \n",
      "SCORE:                                                                                                                 \n",
      "0.958041958041958                                                                                                      \n",
      "0.958041958041958                                                                                                      \n",
      "SCORE:                                                                                                                 \n",
      "0.958041958041958                                                                                                      \n",
      "0.958041958041958                                                                                                      \n",
      "SCORE:                                                                                                                 \n",
      "0.958041958041958                                                                                                      \n",
      "0.958041958041958                                                                                                      \n",
      "SCORE:                                                                                                                 \n",
      "0.958041958041958                                                                                                      \n",
      "0.958041958041958                                                                                                      \n",
      "SCORE:                                                                                                                 \n",
      "0.958041958041958                                                                                                      \n",
      "0.958041958041958                                                                                                      \n",
      "SCORE:                                                                                                                 \n",
      "0.958041958041958                                                                                                      \n",
      "0.958041958041958                                                                                                      \n",
      "SCORE:                                                                                                                 \n"
     ]
    },
    {
     "name": "stdout",
     "output_type": "stream",
     "text": [
      "0.958041958041958                                                                                                      \n",
      "0.958041958041958                                                                                                      \n",
      "SCORE:                                                                                                                 \n",
      "0.958041958041958                                                                                                      \n",
      "0.958041958041958                                                                                                      \n",
      "SCORE:                                                                                                                 \n",
      "0.958041958041958                                                                                                      \n",
      "0.958041958041958                                                                                                      \n",
      "SCORE:                                                                                                                 \n",
      "0.958041958041958                                                                                                      \n",
      "0.958041958041958                                                                                                      \n",
      "SCORE:                                                                                                                 \n",
      "0.958041958041958                                                                                                      \n",
      "0.958041958041958                                                                                                      \n",
      "SCORE:                                                                                                                 \n",
      "0.958041958041958                                                                                                      \n",
      "0.958041958041958                                                                                                      \n",
      "SCORE:                                                                                                                 \n",
      "0.958041958041958                                                                                                      \n",
      "0.958041958041958                                                                                                      \n",
      "SCORE:                                                                                                                 \n",
      "0.958041958041958                                                                                                      \n",
      "0.958041958041958                                                                                                      \n",
      "SCORE:                                                                                                                 \n",
      "0.958041958041958                                                                                                      \n",
      "0.958041958041958                                                                                                      \n",
      "SCORE:                                                                                                                 \n",
      "0.958041958041958                                                                                                      \n",
      "0.958041958041958                                                                                                      \n",
      "SCORE:                                                                                                                 \n",
      "0.958041958041958                                                                                                      \n",
      "0.958041958041958                                                                                                      \n",
      "SCORE:                                                                                                                 \n",
      "0.958041958041958                                                                                                      \n",
      "0.958041958041958                                                                                                      \n",
      "SCORE:                                                                                                                 \n",
      "0.958041958041958                                                                                                      \n",
      "0.958041958041958                                                                                                      \n",
      "SCORE:                                                                                                                 \n",
      "0.958041958041958                                                                                                      \n",
      "0.958041958041958                                                                                                      \n",
      "SCORE:                                                                                                                 \n",
      "0.958041958041958                                                                                                      \n",
      "0.958041958041958                                                                                                      \n",
      "SCORE:                                                                                                                 \n",
      "0.958041958041958                                                                                                      \n",
      "0.958041958041958                                                                                                      \n",
      "SCORE:                                                                                                                 \n",
      "0.958041958041958                                                                                                      \n",
      "0.958041958041958                                                                                                      \n",
      "SCORE:                                                                                                                 \n",
      "0.958041958041958                                                                                                      \n",
      "0.958041958041958                                                                                                      \n",
      "SCORE:                                                                                                                 \n",
      "0.958041958041958                                                                                                      \n",
      "0.958041958041958                                                                                                      \n",
      "SCORE:                                                                                                                 \n",
      "0.958041958041958                                                                                                      \n",
      "0.958041958041958                                                                                                      \n",
      "SCORE:                                                                                                                 \n",
      "0.958041958041958                                                                                                      \n",
      "0.958041958041958                                                                                                      \n",
      "SCORE:                                                                                                                 \n",
      "0.958041958041958                                                                                                      \n",
      "0.958041958041958                                                                                                      \n",
      "SCORE:                                                                                                                 \n",
      "0.958041958041958                                                                                                      \n",
      "0.958041958041958                                                                                                      \n"
     ]
    },
    {
     "name": "stdout",
     "output_type": "stream",
     "text": [
      "SCORE:                                                                                                                 \n",
      "0.958041958041958                                                                                                      \n",
      "0.958041958041958                                                                                                      \n",
      "SCORE:                                                                                                                 \n",
      "0.958041958041958                                                                                                      \n",
      "0.958041958041958                                                                                                      \n",
      "SCORE:                                                                                                                 \n",
      "0.958041958041958                                                                                                      \n",
      "0.958041958041958                                                                                                      \n",
      "SCORE:                                                                                                                 \n",
      "0.958041958041958                                                                                                      \n",
      "0.958041958041958                                                                                                      \n",
      "SCORE:                                                                                                                 \n",
      "0.958041958041958                                                                                                      \n",
      "0.958041958041958                                                                                                      \n",
      "SCORE:                                                                                                                 \n",
      "0.958041958041958                                                                                                      \n",
      "0.958041958041958                                                                                                      \n",
      "SCORE:                                                                                                                 \n",
      "0.958041958041958                                                                                                      \n",
      "0.958041958041958                                                                                                      \n",
      "SCORE:                                                                                                                 \n",
      "0.958041958041958                                                                                                      \n",
      "0.958041958041958                                                                                                      \n",
      "SCORE:                                                                                                                 \n",
      "0.958041958041958                                                                                                      \n",
      "0.958041958041958                                                                                                      \n",
      "SCORE:                                                                                                                 \n",
      "0.958041958041958                                                                                                      \n",
      "0.958041958041958                                                                                                      \n",
      "SCORE:                                                                                                                 \n",
      "0.958041958041958                                                                                                      \n",
      "0.958041958041958                                                                                                      \n",
      "SCORE:                                                                                                                 \n",
      "0.958041958041958                                                                                                      \n",
      "0.958041958041958                                                                                                      \n",
      "SCORE:                                                                                                                 \n",
      "0.958041958041958                                                                                                      \n",
      "0.958041958041958                                                                                                      \n",
      "SCORE:                                                                                                                 \n",
      "0.958041958041958                                                                                                      \n",
      "0.958041958041958                                                                                                      \n",
      "SCORE:                                                                                                                 \n",
      "0.958041958041958                                                                                                      \n",
      "0.958041958041958                                                                                                      \n",
      "SCORE:                                                                                                                 \n",
      "0.958041958041958                                                                                                      \n",
      "0.958041958041958                                                                                                      \n",
      "SCORE:                                                                                                                 \n",
      "0.958041958041958                                                                                                      \n",
      "0.958041958041958                                                                                                      \n",
      "SCORE:                                                                                                                 \n",
      "0.958041958041958                                                                                                      \n",
      "0.958041958041958                                                                                                      \n",
      "SCORE:                                                                                                                 \n",
      "0.958041958041958                                                                                                      \n",
      "0.958041958041958                                                                                                      \n",
      "SCORE:                                                                                                                 \n",
      "0.958041958041958                                                                                                      \n",
      "0.958041958041958                                                                                                      \n",
      "SCORE:                                                                                                                 \n",
      "0.958041958041958                                                                                                      \n",
      "0.958041958041958                                                                                                      \n",
      "SCORE:                                                                                                                 \n",
      "0.958041958041958                                                                                                      \n",
      "0.958041958041958                                                                                                      \n",
      "SCORE:                                                                                                                 \n",
      "0.958041958041958                                                                                                      \n"
     ]
    },
    {
     "name": "stdout",
     "output_type": "stream",
     "text": [
      "0.958041958041958                                                                                                      \n",
      "SCORE:                                                                                                                 \n",
      "0.958041958041958                                                                                                      \n",
      "0.958041958041958                                                                                                      \n",
      "SCORE:                                                                                                                 \n",
      "0.958041958041958                                                                                                      \n",
      "0.958041958041958                                                                                                      \n",
      "SCORE:                                                                                                                 \n",
      "0.958041958041958                                                                                                      \n",
      "0.958041958041958                                                                                                      \n",
      "SCORE:                                                                                                                 \n",
      "0.958041958041958                                                                                                      \n",
      "0.958041958041958                                                                                                      \n",
      "SCORE:                                                                                                                 \n",
      "0.958041958041958                                                                                                      \n",
      "0.958041958041958                                                                                                      \n",
      "SCORE:                                                                                                                 \n",
      "0.958041958041958                                                                                                      \n",
      "0.958041958041958                                                                                                      \n",
      "SCORE:                                                                                                                 \n",
      "0.958041958041958                                                                                                      \n",
      "0.958041958041958                                                                                                      \n",
      "SCORE:                                                                                                                 \n",
      "0.958041958041958                                                                                                      \n",
      "0.958041958041958                                                                                                      \n",
      "SCORE:                                                                                                                 \n",
      "0.958041958041958                                                                                                      \n",
      "0.958041958041958                                                                                                      \n",
      "SCORE:                                                                                                                 \n",
      "0.958041958041958                                                                                                      \n",
      "0.958041958041958                                                                                                      \n",
      "SCORE:                                                                                                                 \n",
      "0.958041958041958                                                                                                      \n",
      "0.958041958041958                                                                                                      \n",
      "SCORE:                                                                                                                 \n",
      "0.958041958041958                                                                                                      \n",
      "0.958041958041958                                                                                                      \n",
      "SCORE:                                                                                                                 \n",
      "0.958041958041958                                                                                                      \n",
      "0.958041958041958                                                                                                      \n",
      "SCORE:                                                                                                                 \n",
      "0.958041958041958                                                                                                      \n",
      "0.958041958041958                                                                                                      \n",
      "SCORE:                                                                                                                 \n",
      "0.958041958041958                                                                                                      \n",
      "0.958041958041958                                                                                                      \n",
      "SCORE:                                                                                                                 \n",
      "0.958041958041958                                                                                                      \n",
      "0.958041958041958                                                                                                      \n",
      "SCORE:                                                                                                                 \n",
      "0.958041958041958                                                                                                      \n",
      "0.958041958041958                                                                                                      \n",
      "SCORE:                                                                                                                 \n",
      "0.958041958041958                                                                                                      \n",
      "0.958041958041958                                                                                                      \n",
      "SCORE:                                                                                                                 \n",
      "0.958041958041958                                                                                                      \n",
      "0.958041958041958                                                                                                      \n",
      "SCORE:                                                                                                                 \n",
      "0.958041958041958                                                                                                      \n",
      "0.958041958041958                                                                                                      \n",
      "SCORE:                                                                                                                 \n",
      "0.958041958041958                                                                                                      \n",
      "0.958041958041958                                                                                                      \n",
      "SCORE:                                                                                                                 \n",
      "0.958041958041958                                                                                                      \n",
      "0.958041958041958                                                                                                      \n",
      "SCORE:                                                                                                                 \n"
     ]
    },
    {
     "name": "stdout",
     "output_type": "stream",
     "text": [
      "0.958041958041958                                                                                                      \n",
      "0.958041958041958                                                                                                      \n",
      "SCORE:                                                                                                                 \n",
      "0.958041958041958                                                                                                      \n",
      "0.958041958041958                                                                                                      \n",
      "SCORE:                                                                                                                 \n",
      "0.958041958041958                                                                                                      \n",
      "0.958041958041958                                                                                                      \n",
      "SCORE:                                                                                                                 \n",
      "0.958041958041958                                                                                                      \n",
      "0.958041958041958                                                                                                      \n",
      "SCORE:                                                                                                                 \n",
      "0.958041958041958                                                                                                      \n",
      "0.958041958041958                                                                                                      \n",
      "SCORE:                                                                                                                 \n",
      "0.958041958041958                                                                                                      \n",
      "0.958041958041958                                                                                                      \n",
      "SCORE:                                                                                                                 \n",
      "0.958041958041958                                                                                                      \n",
      "0.958041958041958                                                                                                      \n",
      "SCORE:                                                                                                                 \n",
      "0.958041958041958                                                                                                      \n",
      "0.958041958041958                                                                                                      \n",
      "SCORE:                                                                                                                 \n",
      "0.958041958041958                                                                                                      \n",
      "0.958041958041958                                                                                                      \n",
      "SCORE:                                                                                                                 \n",
      "0.958041958041958                                                                                                      \n",
      "0.958041958041958                                                                                                      \n",
      "SCORE:                                                                                                                 \n",
      "0.958041958041958                                                                                                      \n",
      "0.958041958041958                                                                                                      \n",
      "SCORE:                                                                                                                 \n",
      "0.958041958041958                                                                                                      \n",
      "0.958041958041958                                                                                                      \n",
      "SCORE:                                                                                                                 \n",
      "0.958041958041958                                                                                                      \n",
      "0.958041958041958                                                                                                      \n",
      "SCORE:                                                                                                                 \n",
      "0.958041958041958                                                                                                      \n",
      "0.958041958041958                                                                                                      \n",
      "SCORE:                                                                                                                 \n",
      "0.958041958041958                                                                                                      \n",
      "0.958041958041958                                                                                                      \n",
      "SCORE:                                                                                                                 \n",
      "0.958041958041958                                                                                                      \n",
      "0.958041958041958                                                                                                      \n",
      "SCORE:                                                                                                                 \n",
      "0.958041958041958                                                                                                      \n",
      "0.958041958041958                                                                                                      \n",
      "SCORE:                                                                                                                 \n",
      "0.958041958041958                                                                                                      \n",
      "0.958041958041958                                                                                                      \n",
      "SCORE:                                                                                                                 \n",
      "0.958041958041958                                                                                                      \n",
      "0.958041958041958                                                                                                      \n",
      "SCORE:                                                                                                                 \n",
      "0.958041958041958                                                                                                      \n",
      "0.958041958041958                                                                                                      \n",
      "SCORE:                                                                                                                 \n",
      "0.958041958041958                                                                                                      \n",
      "0.958041958041958                                                                                                      \n",
      "SCORE:                                                                                                                 \n",
      "0.958041958041958                                                                                                      \n",
      "0.958041958041958                                                                                                      \n",
      "SCORE:                                                                                                                 \n",
      "0.958041958041958                                                                                                      \n",
      "0.958041958041958                                                                                                      \n"
     ]
    },
    {
     "name": "stdout",
     "output_type": "stream",
     "text": [
      "SCORE:                                                                                                                 \n",
      "0.958041958041958                                                                                                      \n",
      "0.958041958041958                                                                                                      \n",
      "SCORE:                                                                                                                 \n",
      "0.958041958041958                                                                                                      \n",
      "0.958041958041958                                                                                                      \n",
      "SCORE:                                                                                                                 \n",
      "0.958041958041958                                                                                                      \n",
      "0.958041958041958                                                                                                      \n",
      "SCORE:                                                                                                                 \n",
      "0.958041958041958                                                                                                      \n",
      "0.958041958041958                                                                                                      \n",
      "SCORE:                                                                                                                 \n",
      "0.958041958041958                                                                                                      \n",
      "0.958041958041958                                                                                                      \n",
      "SCORE:                                                                                                                 \n",
      "0.958041958041958                                                                                                      \n",
      "0.958041958041958                                                                                                      \n",
      "SCORE:                                                                                                                 \n",
      "0.958041958041958                                                                                                      \n",
      "0.958041958041958                                                                                                      \n",
      "SCORE:                                                                                                                 \n",
      "0.958041958041958                                                                                                      \n",
      "0.958041958041958                                                                                                      \n",
      "SCORE:                                                                                                                 \n",
      "0.958041958041958                                                                                                      \n",
      "0.958041958041958                                                                                                      \n",
      "SCORE:                                                                                                                 \n",
      "0.958041958041958                                                                                                      \n",
      "0.958041958041958                                                                                                      \n",
      "SCORE:                                                                                                                 \n",
      "0.958041958041958                                                                                                      \n",
      "0.958041958041958                                                                                                      \n",
      "SCORE:                                                                                                                 \n",
      "0.958041958041958                                                                                                      \n",
      "0.958041958041958                                                                                                      \n",
      "SCORE:                                                                                                                 \n",
      "0.958041958041958                                                                                                      \n",
      "0.958041958041958                                                                                                      \n",
      "SCORE:                                                                                                                 \n",
      "0.958041958041958                                                                                                      \n",
      "0.958041958041958                                                                                                      \n",
      "SCORE:                                                                                                                 \n",
      "0.958041958041958                                                                                                      \n",
      "0.958041958041958                                                                                                      \n",
      "SCORE:                                                                                                                 \n",
      "0.958041958041958                                                                                                      \n",
      "0.958041958041958                                                                                                      \n",
      "SCORE:                                                                                                                 \n",
      "0.958041958041958                                                                                                      \n",
      "0.958041958041958                                                                                                      \n",
      "SCORE:                                                                                                                 \n",
      "0.958041958041958                                                                                                      \n",
      "0.958041958041958                                                                                                      \n",
      "SCORE:                                                                                                                 \n",
      "0.958041958041958                                                                                                      \n",
      "0.958041958041958                                                                                                      \n",
      "SCORE:                                                                                                                 \n",
      "0.958041958041958                                                                                                      \n",
      "0.958041958041958                                                                                                      \n",
      "SCORE:                                                                                                                 \n",
      "0.958041958041958                                                                                                      \n",
      "0.958041958041958                                                                                                      \n",
      "SCORE:                                                                                                                 \n",
      "0.958041958041958                                                                                                      \n",
      "0.958041958041958                                                                                                      \n",
      "SCORE:                                                                                                                 \n",
      "0.958041958041958                                                                                                      \n"
     ]
    },
    {
     "name": "stdout",
     "output_type": "stream",
     "text": [
      "0.958041958041958                                                                                                      \n",
      "SCORE:                                                                                                                 \n",
      "0.958041958041958                                                                                                      \n",
      "0.958041958041958                                                                                                      \n",
      "SCORE:                                                                                                                 \n",
      "0.958041958041958                                                                                                      \n",
      "0.958041958041958                                                                                                      \n",
      "SCORE:                                                                                                                 \n",
      "0.958041958041958                                                                                                      \n",
      "0.958041958041958                                                                                                      \n",
      "SCORE:                                                                                                                 \n",
      "0.958041958041958                                                                                                      \n",
      "0.958041958041958                                                                                                      \n",
      "SCORE:                                                                                                                 \n",
      "0.958041958041958                                                                                                      \n",
      "0.958041958041958                                                                                                      \n",
      "SCORE:                                                                                                                 \n",
      "0.958041958041958                                                                                                      \n",
      "0.958041958041958                                                                                                      \n",
      "SCORE:                                                                                                                 \n",
      "0.958041958041958                                                                                                      \n",
      "0.958041958041958                                                                                                      \n",
      "SCORE:                                                                                                                 \n",
      "0.958041958041958                                                                                                      \n",
      "0.958041958041958                                                                                                      \n",
      "SCORE:                                                                                                                 \n",
      "0.958041958041958                                                                                                      \n",
      "0.958041958041958                                                                                                      \n",
      "SCORE:                                                                                                                 \n",
      "0.958041958041958                                                                                                      \n",
      "0.958041958041958                                                                                                      \n",
      "SCORE:                                                                                                                 \n",
      "0.958041958041958                                                                                                      \n",
      "0.958041958041958                                                                                                      \n",
      "SCORE:                                                                                                                 \n",
      "0.958041958041958                                                                                                      \n",
      "0.958041958041958                                                                                                      \n",
      "SCORE:                                                                                                                 \n",
      "0.958041958041958                                                                                                      \n",
      "0.958041958041958                                                                                                      \n",
      "SCORE:                                                                                                                 \n",
      "0.958041958041958                                                                                                      \n",
      "0.958041958041958                                                                                                      \n",
      "SCORE:                                                                                                                 \n",
      "0.958041958041958                                                                                                      \n",
      "0.958041958041958                                                                                                      \n",
      "SCORE:                                                                                                                 \n",
      "0.958041958041958                                                                                                      \n",
      "0.958041958041958                                                                                                      \n",
      "SCORE:                                                                                                                 \n",
      "0.958041958041958                                                                                                      \n",
      "0.958041958041958                                                                                                      \n",
      "SCORE:                                                                                                                 \n",
      "0.958041958041958                                                                                                      \n",
      "0.958041958041958                                                                                                      \n",
      "SCORE:                                                                                                                 \n",
      "0.958041958041958                                                                                                      \n",
      "0.958041958041958                                                                                                      \n",
      "SCORE:                                                                                                                 \n",
      "0.958041958041958                                                                                                      \n",
      "0.958041958041958                                                                                                      \n",
      "SCORE:                                                                                                                 \n",
      "0.958041958041958                                                                                                      \n",
      "0.958041958041958                                                                                                      \n",
      "SCORE:                                                                                                                 \n",
      "0.958041958041958                                                                                                      \n",
      "0.958041958041958                                                                                                      \n",
      "SCORE:                                                                                                                 \n"
     ]
    },
    {
     "name": "stdout",
     "output_type": "stream",
     "text": [
      "0.958041958041958                                                                                                      \n",
      "0.958041958041958                                                                                                      \n",
      "SCORE:                                                                                                                 \n",
      "0.958041958041958                                                                                                      \n",
      "0.958041958041958                                                                                                      \n",
      "SCORE:                                                                                                                 \n",
      "0.958041958041958                                                                                                      \n",
      "0.958041958041958                                                                                                      \n",
      "SCORE:                                                                                                                 \n",
      "0.958041958041958                                                                                                      \n",
      "0.958041958041958                                                                                                      \n",
      "SCORE:                                                                                                                 \n",
      "0.958041958041958                                                                                                      \n",
      "0.958041958041958                                                                                                      \n",
      "SCORE:                                                                                                                 \n",
      "0.958041958041958                                                                                                      \n",
      "0.958041958041958                                                                                                      \n",
      "SCORE:                                                                                                                 \n",
      "0.958041958041958                                                                                                      \n",
      "0.958041958041958                                                                                                      \n",
      "SCORE:                                                                                                                 \n",
      "0.958041958041958                                                                                                      \n",
      "0.958041958041958                                                                                                      \n",
      "SCORE:                                                                                                                 \n",
      "0.958041958041958                                                                                                      \n",
      "0.958041958041958                                                                                                      \n",
      "SCORE:                                                                                                                 \n",
      "0.958041958041958                                                                                                      \n",
      "0.958041958041958                                                                                                      \n",
      "SCORE:                                                                                                                 \n",
      "0.958041958041958                                                                                                      \n",
      "0.958041958041958                                                                                                      \n",
      "SCORE:                                                                                                                 \n",
      "0.958041958041958                                                                                                      \n",
      "0.958041958041958                                                                                                      \n",
      "SCORE:                                                                                                                 \n",
      "0.958041958041958                                                                                                      \n",
      "0.958041958041958                                                                                                      \n",
      "SCORE:                                                                                                                 \n",
      "0.958041958041958                                                                                                      \n",
      "0.958041958041958                                                                                                      \n",
      "SCORE:                                                                                                                 \n",
      "0.958041958041958                                                                                                      \n",
      "0.958041958041958                                                                                                      \n",
      "SCORE:                                                                                                                 \n",
      "0.958041958041958                                                                                                      \n",
      "0.958041958041958                                                                                                      \n",
      "SCORE:                                                                                                                 \n",
      "0.958041958041958                                                                                                      \n",
      "0.958041958041958                                                                                                      \n",
      "SCORE:                                                                                                                 \n",
      "0.958041958041958                                                                                                      \n",
      "0.958041958041958                                                                                                      \n",
      "SCORE:                                                                                                                 \n",
      "0.958041958041958                                                                                                      \n",
      "0.958041958041958                                                                                                      \n",
      "SCORE:                                                                                                                 \n",
      "0.958041958041958                                                                                                      \n",
      "0.958041958041958                                                                                                      \n",
      "SCORE:                                                                                                                 \n",
      "0.958041958041958                                                                                                      \n",
      "0.958041958041958                                                                                                      \n",
      "SCORE:                                                                                                                 \n",
      "0.958041958041958                                                                                                      \n",
      "0.958041958041958                                                                                                      \n",
      "SCORE:                                                                                                                 \n",
      "0.958041958041958                                                                                                      \n",
      "0.958041958041958                                                                                                      \n"
     ]
    },
    {
     "name": "stdout",
     "output_type": "stream",
     "text": [
      "SCORE:                                                                                                                 \n",
      "0.958041958041958                                                                                                      \n",
      "0.958041958041958                                                                                                      \n",
      "SCORE:                                                                                                                 \n",
      "0.958041958041958                                                                                                      \n",
      "0.958041958041958                                                                                                      \n",
      "SCORE:                                                                                                                 \n",
      "0.958041958041958                                                                                                      \n",
      "0.958041958041958                                                                                                      \n",
      "SCORE:                                                                                                                 \n",
      "0.958041958041958                                                                                                      \n",
      "0.958041958041958                                                                                                      \n",
      "SCORE:                                                                                                                 \n",
      "0.958041958041958                                                                                                      \n",
      "0.958041958041958                                                                                                      \n",
      "SCORE:                                                                                                                 \n",
      "0.958041958041958                                                                                                      \n",
      "0.958041958041958                                                                                                      \n",
      "SCORE:                                                                                                                 \n",
      "0.958041958041958                                                                                                      \n",
      "0.958041958041958                                                                                                      \n",
      "SCORE:                                                                                                                 \n",
      "0.958041958041958                                                                                                      \n",
      "0.958041958041958                                                                                                      \n",
      "SCORE:                                                                                                                 \n",
      "0.958041958041958                                                                                                      \n",
      "0.958041958041958                                                                                                      \n",
      "SCORE:                                                                                                                 \n",
      "0.958041958041958                                                                                                      \n",
      "0.958041958041958                                                                                                      \n",
      "SCORE:                                                                                                                 \n",
      "0.958041958041958                                                                                                      \n",
      "0.958041958041958                                                                                                      \n",
      "SCORE:                                                                                                                 \n",
      "0.958041958041958                                                                                                      \n",
      "0.958041958041958                                                                                                      \n",
      "SCORE:                                                                                                                 \n",
      "0.958041958041958                                                                                                      \n",
      "0.958041958041958                                                                                                      \n",
      "SCORE:                                                                                                                 \n",
      "0.958041958041958                                                                                                      \n",
      "0.958041958041958                                                                                                      \n",
      "SCORE:                                                                                                                 \n",
      "0.958041958041958                                                                                                      \n",
      "0.958041958041958                                                                                                      \n",
      "SCORE:                                                                                                                 \n",
      "0.958041958041958                                                                                                      \n",
      "0.958041958041958                                                                                                      \n",
      "SCORE:                                                                                                                 \n",
      "0.958041958041958                                                                                                      \n",
      "0.958041958041958                                                                                                      \n",
      "SCORE:                                                                                                                 \n",
      "0.958041958041958                                                                                                      \n",
      "0.958041958041958                                                                                                      \n",
      "SCORE:                                                                                                                 \n",
      "0.958041958041958                                                                                                      \n",
      "0.958041958041958                                                                                                      \n",
      "SCORE:                                                                                                                 \n",
      "0.958041958041958                                                                                                      \n",
      "0.958041958041958                                                                                                      \n",
      "SCORE:                                                                                                                 \n",
      "0.958041958041958                                                                                                      \n",
      "0.958041958041958                                                                                                      \n",
      "SCORE:                                                                                                                 \n",
      "0.958041958041958                                                                                                      \n",
      "0.958041958041958                                                                                                      \n",
      "SCORE:                                                                                                                 \n",
      "0.958041958041958                                                                                                      \n"
     ]
    },
    {
     "name": "stdout",
     "output_type": "stream",
     "text": [
      "0.958041958041958                                                                                                      \n",
      "SCORE:                                                                                                                 \n",
      "0.958041958041958                                                                                                      \n",
      "0.958041958041958                                                                                                      \n",
      "SCORE:                                                                                                                 \n",
      "0.958041958041958                                                                                                      \n",
      "0.958041958041958                                                                                                      \n",
      "SCORE:                                                                                                                 \n",
      "0.958041958041958                                                                                                      \n",
      "0.958041958041958                                                                                                      \n",
      "SCORE:                                                                                                                 \n",
      "0.958041958041958                                                                                                      \n",
      "0.958041958041958                                                                                                      \n",
      "SCORE:                                                                                                                 \n",
      "0.958041958041958                                                                                                      \n",
      "0.958041958041958                                                                                                      \n",
      "SCORE:                                                                                                                 \n",
      "0.958041958041958                                                                                                      \n",
      "0.958041958041958                                                                                                      \n",
      "SCORE:                                                                                                                 \n",
      "0.958041958041958                                                                                                      \n",
      "0.958041958041958                                                                                                      \n",
      "SCORE:                                                                                                                 \n",
      "0.958041958041958                                                                                                      \n",
      "0.958041958041958                                                                                                      \n",
      "SCORE:                                                                                                                 \n",
      "0.958041958041958                                                                                                      \n",
      "0.958041958041958                                                                                                      \n",
      "SCORE:                                                                                                                 \n",
      "0.958041958041958                                                                                                      \n",
      "0.958041958041958                                                                                                      \n",
      "SCORE:                                                                                                                 \n",
      "0.958041958041958                                                                                                      \n",
      "0.958041958041958                                                                                                      \n",
      "SCORE:                                                                                                                 \n",
      "0.958041958041958                                                                                                      \n",
      "0.958041958041958                                                                                                      \n",
      "SCORE:                                                                                                                 \n",
      "0.958041958041958                                                                                                      \n",
      "0.958041958041958                                                                                                      \n",
      "SCORE:                                                                                                                 \n",
      "0.958041958041958                                                                                                      \n",
      "0.958041958041958                                                                                                      \n",
      "SCORE:                                                                                                                 \n",
      "0.958041958041958                                                                                                      \n",
      "0.958041958041958                                                                                                      \n",
      "SCORE:                                                                                                                 \n",
      "0.958041958041958                                                                                                      \n",
      "0.958041958041958                                                                                                      \n",
      "SCORE:                                                                                                                 \n",
      "0.958041958041958                                                                                                      \n",
      "0.958041958041958                                                                                                      \n",
      "SCORE:                                                                                                                 \n",
      "0.958041958041958                                                                                                      \n",
      "0.958041958041958                                                                                                      \n",
      "SCORE:                                                                                                                 \n",
      "0.958041958041958                                                                                                      \n",
      "0.958041958041958                                                                                                      \n",
      "SCORE:                                                                                                                 \n",
      "0.958041958041958                                                                                                      \n",
      "0.958041958041958                                                                                                      \n",
      "SCORE:                                                                                                                 \n",
      "0.958041958041958                                                                                                      \n",
      "0.958041958041958                                                                                                      \n",
      "SCORE:                                                                                                                 \n",
      "0.958041958041958                                                                                                      \n",
      "0.958041958041958                                                                                                      \n",
      "SCORE:                                                                                                                 \n"
     ]
    },
    {
     "name": "stdout",
     "output_type": "stream",
     "text": [
      "0.958041958041958                                                                                                      \n",
      "0.958041958041958                                                                                                      \n",
      "SCORE:                                                                                                                 \n",
      "0.958041958041958                                                                                                      \n",
      "0.958041958041958                                                                                                      \n",
      "SCORE:                                                                                                                 \n",
      "0.958041958041958                                                                                                      \n",
      "0.958041958041958                                                                                                      \n",
      "SCORE:                                                                                                                 \n",
      "0.958041958041958                                                                                                      \n",
      "0.958041958041958                                                                                                      \n",
      "SCORE:                                                                                                                 \n",
      "0.958041958041958                                                                                                      \n",
      "0.958041958041958                                                                                                      \n",
      "SCORE:                                                                                                                 \n",
      "0.958041958041958                                                                                                      \n",
      "0.958041958041958                                                                                                      \n",
      "SCORE:                                                                                                                 \n",
      "0.958041958041958                                                                                                      \n",
      "0.958041958041958                                                                                                      \n",
      "SCORE:                                                                                                                 \n",
      "0.958041958041958                                                                                                      \n",
      "0.958041958041958                                                                                                      \n",
      "SCORE:                                                                                                                 \n",
      "0.958041958041958                                                                                                      \n",
      "0.958041958041958                                                                                                      \n",
      "SCORE:                                                                                                                 \n",
      "0.958041958041958                                                                                                      \n",
      "0.958041958041958                                                                                                      \n",
      "SCORE:                                                                                                                 \n",
      "0.958041958041958                                                                                                      \n",
      "0.958041958041958                                                                                                      \n",
      "SCORE:                                                                                                                 \n",
      "0.958041958041958                                                                                                      \n",
      "0.958041958041958                                                                                                      \n",
      "SCORE:                                                                                                                 \n",
      "0.958041958041958                                                                                                      \n",
      "0.958041958041958                                                                                                      \n",
      "SCORE:                                                                                                                 \n",
      "0.958041958041958                                                                                                      \n",
      "0.958041958041958                                                                                                      \n",
      "SCORE:                                                                                                                 \n",
      "0.958041958041958                                                                                                      \n",
      "0.958041958041958                                                                                                      \n",
      "SCORE:                                                                                                                 \n",
      "0.958041958041958                                                                                                      \n",
      "0.958041958041958                                                                                                      \n",
      "SCORE:                                                                                                                 \n",
      "0.958041958041958                                                                                                      \n",
      "0.958041958041958                                                                                                      \n",
      "SCORE:                                                                                                                 \n",
      "0.958041958041958                                                                                                      \n",
      "0.958041958041958                                                                                                      \n",
      "SCORE:                                                                                                                 \n",
      "0.958041958041958                                                                                                      \n",
      "0.958041958041958                                                                                                      \n",
      "SCORE:                                                                                                                 \n",
      "0.958041958041958                                                                                                      \n",
      "0.958041958041958                                                                                                      \n",
      "SCORE:                                                                                                                 \n",
      "0.958041958041958                                                                                                      \n",
      "0.958041958041958                                                                                                      \n",
      "SCORE:                                                                                                                 \n",
      "0.958041958041958                                                                                                      \n",
      "0.958041958041958                                                                                                      \n",
      "SCORE:                                                                                                                 \n",
      "0.958041958041958                                                                                                      \n",
      "0.958041958041958                                                                                                      \n"
     ]
    },
    {
     "name": "stdout",
     "output_type": "stream",
     "text": [
      "SCORE:                                                                                                                 \n",
      "0.958041958041958                                                                                                      \n",
      "0.958041958041958                                                                                                      \n",
      "SCORE:                                                                                                                 \n",
      "0.958041958041958                                                                                                      \n",
      "0.958041958041958                                                                                                      \n",
      "SCORE:                                                                                                                 \n",
      "0.958041958041958                                                                                                      \n",
      "0.958041958041958                                                                                                      \n",
      "SCORE:                                                                                                                 \n",
      "0.958041958041958                                                                                                      \n",
      "0.958041958041958                                                                                                      \n",
      "SCORE:                                                                                                                 \n",
      "0.958041958041958                                                                                                      \n",
      "0.958041958041958                                                                                                      \n",
      "SCORE:                                                                                                                 \n",
      "0.958041958041958                                                                                                      \n",
      "0.958041958041958                                                                                                      \n",
      "SCORE:                                                                                                                 \n",
      "0.958041958041958                                                                                                      \n",
      "0.958041958041958                                                                                                      \n",
      "SCORE:                                                                                                                 \n",
      "0.958041958041958                                                                                                      \n",
      "0.958041958041958                                                                                                      \n",
      "SCORE:                                                                                                                 \n",
      "0.958041958041958                                                                                                      \n",
      "0.958041958041958                                                                                                      \n",
      "SCORE:                                                                                                                 \n",
      "0.958041958041958                                                                                                      \n",
      "0.958041958041958                                                                                                      \n",
      "SCORE:                                                                                                                 \n",
      "0.958041958041958                                                                                                      \n",
      "0.958041958041958                                                                                                      \n",
      "SCORE:                                                                                                                 \n",
      "0.958041958041958                                                                                                      \n",
      "0.958041958041958                                                                                                      \n",
      "SCORE:                                                                                                                 \n",
      "0.958041958041958                                                                                                      \n",
      "0.958041958041958                                                                                                      \n",
      "SCORE:                                                                                                                 \n",
      "0.958041958041958                                                                                                      \n",
      "0.958041958041958                                                                                                      \n",
      "SCORE:                                                                                                                 \n",
      "0.958041958041958                                                                                                      \n",
      "0.958041958041958                                                                                                      \n",
      "SCORE:                                                                                                                 \n",
      "0.958041958041958                                                                                                      \n",
      "0.958041958041958                                                                                                      \n",
      "SCORE:                                                                                                                 \n",
      "0.958041958041958                                                                                                      \n",
      "0.958041958041958                                                                                                      \n",
      "SCORE:                                                                                                                 \n",
      "0.958041958041958                                                                                                      \n",
      "0.958041958041958                                                                                                      \n",
      "SCORE:                                                                                                                 \n",
      "0.958041958041958                                                                                                      \n",
      "0.958041958041958                                                                                                      \n",
      "SCORE:                                                                                                                 \n",
      "0.958041958041958                                                                                                      \n",
      "0.958041958041958                                                                                                      \n",
      "SCORE:                                                                                                                 \n",
      "0.958041958041958                                                                                                      \n",
      "0.958041958041958                                                                                                      \n",
      "SCORE:                                                                                                                 \n",
      "0.958041958041958                                                                                                      \n",
      "0.958041958041958                                                                                                      \n",
      "SCORE:                                                                                                                 \n",
      "0.958041958041958                                                                                                      \n"
     ]
    },
    {
     "name": "stdout",
     "output_type": "stream",
     "text": [
      "0.958041958041958                                                                                                      \n",
      "SCORE:                                                                                                                 \n",
      "0.958041958041958                                                                                                      \n",
      "0.958041958041958                                                                                                      \n",
      "SCORE:                                                                                                                 \n",
      "0.958041958041958                                                                                                      \n",
      "0.958041958041958                                                                                                      \n",
      "SCORE:                                                                                                                 \n",
      "0.958041958041958                                                                                                      \n",
      "0.958041958041958                                                                                                      \n",
      "SCORE:                                                                                                                 \n",
      "0.958041958041958                                                                                                      \n",
      "0.958041958041958                                                                                                      \n",
      "SCORE:                                                                                                                 \n",
      "0.958041958041958                                                                                                      \n",
      "0.958041958041958                                                                                                      \n",
      "SCORE:                                                                                                                 \n",
      "0.958041958041958                                                                                                      \n",
      "0.958041958041958                                                                                                      \n",
      "SCORE:                                                                                                                 \n",
      "0.958041958041958                                                                                                      \n",
      "0.958041958041958                                                                                                      \n",
      "SCORE:                                                                                                                 \n",
      "0.958041958041958                                                                                                      \n",
      "0.958041958041958                                                                                                      \n",
      "SCORE:                                                                                                                 \n",
      "0.958041958041958                                                                                                      \n",
      "0.958041958041958                                                                                                      \n",
      "SCORE:                                                                                                                 \n",
      "0.958041958041958                                                                                                      \n",
      "0.958041958041958                                                                                                      \n",
      "SCORE:                                                                                                                 \n",
      "0.958041958041958                                                                                                      \n",
      "0.958041958041958                                                                                                      \n",
      "SCORE:                                                                                                                 \n",
      "0.958041958041958                                                                                                      \n",
      "0.958041958041958                                                                                                      \n",
      "SCORE:                                                                                                                 \n",
      "0.958041958041958                                                                                                      \n",
      "0.958041958041958                                                                                                      \n",
      "SCORE:                                                                                                                 \n",
      "0.958041958041958                                                                                                      \n",
      "0.958041958041958                                                                                                      \n",
      "SCORE:                                                                                                                 \n",
      "0.958041958041958                                                                                                      \n",
      "0.958041958041958                                                                                                      \n",
      "SCORE:                                                                                                                 \n",
      "0.958041958041958                                                                                                      \n",
      "0.958041958041958                                                                                                      \n",
      "SCORE:                                                                                                                 \n",
      "0.958041958041958                                                                                                      \n",
      "0.958041958041958                                                                                                      \n",
      "SCORE:                                                                                                                 \n",
      "0.958041958041958                                                                                                      \n",
      "0.958041958041958                                                                                                      \n",
      "SCORE:                                                                                                                 \n",
      "0.958041958041958                                                                                                      \n",
      "0.958041958041958                                                                                                      \n",
      "SCORE:                                                                                                                 \n",
      "0.958041958041958                                                                                                      \n",
      "0.958041958041958                                                                                                      \n",
      "SCORE:                                                                                                                 \n",
      "0.958041958041958                                                                                                      \n",
      "0.958041958041958                                                                                                      \n",
      "SCORE:                                                                                                                 \n",
      "0.958041958041958                                                                                                      \n",
      "0.958041958041958                                                                                                      \n",
      "SCORE:                                                                                                                 \n"
     ]
    },
    {
     "name": "stdout",
     "output_type": "stream",
     "text": [
      "0.958041958041958                                                                                                      \n",
      "0.958041958041958                                                                                                      \n",
      "SCORE:                                                                                                                 \n",
      "0.958041958041958                                                                                                      \n",
      "0.958041958041958                                                                                                      \n",
      "SCORE:                                                                                                                 \n",
      "0.958041958041958                                                                                                      \n",
      "0.958041958041958                                                                                                      \n",
      "SCORE:                                                                                                                 \n",
      "0.958041958041958                                                                                                      \n",
      "0.958041958041958                                                                                                      \n",
      "SCORE:                                                                                                                 \n",
      "0.958041958041958                                                                                                      \n",
      "0.958041958041958                                                                                                      \n",
      "SCORE:                                                                                                                 \n",
      "0.958041958041958                                                                                                      \n",
      "0.958041958041958                                                                                                      \n",
      "SCORE:                                                                                                                 \n",
      "0.958041958041958                                                                                                      \n",
      "0.958041958041958                                                                                                      \n",
      "SCORE:                                                                                                                 \n",
      "0.958041958041958                                                                                                      \n",
      "0.958041958041958                                                                                                      \n",
      "SCORE:                                                                                                                 \n",
      "0.958041958041958                                                                                                      \n",
      "0.958041958041958                                                                                                      \n",
      "SCORE:                                                                                                                 \n",
      "0.958041958041958                                                                                                      \n",
      "0.958041958041958                                                                                                      \n",
      "SCORE:                                                                                                                 \n",
      "0.958041958041958                                                                                                      \n",
      "0.958041958041958                                                                                                      \n",
      "SCORE:                                                                                                                 \n",
      "0.958041958041958                                                                                                      \n",
      "0.958041958041958                                                                                                      \n",
      "SCORE:                                                                                                                 \n",
      "0.958041958041958                                                                                                      \n",
      "0.958041958041958                                                                                                      \n",
      "SCORE:                                                                                                                 \n",
      "0.958041958041958                                                                                                      \n",
      "0.958041958041958                                                                                                      \n",
      "SCORE:                                                                                                                 \n",
      "0.958041958041958                                                                                                      \n",
      "0.958041958041958                                                                                                      \n",
      "SCORE:                                                                                                                 \n",
      "0.958041958041958                                                                                                      \n",
      "0.958041958041958                                                                                                      \n",
      "SCORE:                                                                                                                 \n",
      "0.958041958041958                                                                                                      \n",
      "0.958041958041958                                                                                                      \n",
      "SCORE:                                                                                                                 \n",
      "0.958041958041958                                                                                                      \n",
      "0.958041958041958                                                                                                      \n",
      "SCORE:                                                                                                                 \n",
      "0.958041958041958                                                                                                      \n",
      "0.958041958041958                                                                                                      \n",
      "SCORE:                                                                                                                 \n",
      "0.958041958041958                                                                                                      \n",
      "0.958041958041958                                                                                                      \n",
      "SCORE:                                                                                                                 \n",
      "0.958041958041958                                                                                                      \n",
      "0.958041958041958                                                                                                      \n",
      "SCORE:                                                                                                                 \n",
      "0.958041958041958                                                                                                      \n",
      "0.958041958041958                                                                                                      \n",
      "SCORE:                                                                                                                 \n",
      "0.958041958041958                                                                                                      \n",
      "0.958041958041958                                                                                                      \n"
     ]
    },
    {
     "name": "stdout",
     "output_type": "stream",
     "text": [
      "SCORE:                                                                                                                 \n",
      "0.958041958041958                                                                                                      \n",
      "0.958041958041958                                                                                                      \n",
      "SCORE:                                                                                                                 \n",
      "0.958041958041958                                                                                                      \n",
      "0.958041958041958                                                                                                      \n",
      "SCORE:                                                                                                                 \n",
      "0.958041958041958                                                                                                      \n",
      "0.958041958041958                                                                                                      \n",
      "SCORE:                                                                                                                 \n",
      "0.958041958041958                                                                                                      \n",
      "0.958041958041958                                                                                                      \n",
      "SCORE:                                                                                                                 \n",
      "0.958041958041958                                                                                                      \n",
      "0.958041958041958                                                                                                      \n",
      "SCORE:                                                                                                                 \n",
      "0.958041958041958                                                                                                      \n",
      "0.958041958041958                                                                                                      \n",
      "SCORE:                                                                                                                 \n",
      "0.958041958041958                                                                                                      \n",
      "0.958041958041958                                                                                                      \n",
      "SCORE:                                                                                                                 \n",
      "0.958041958041958                                                                                                      \n",
      "0.958041958041958                                                                                                      \n",
      "SCORE:                                                                                                                 \n",
      "0.958041958041958                                                                                                      \n",
      "0.958041958041958                                                                                                      \n",
      "SCORE:                                                                                                                 \n",
      "0.958041958041958                                                                                                      \n",
      "0.958041958041958                                                                                                      \n",
      "SCORE:                                                                                                                 \n",
      "0.958041958041958                                                                                                      \n",
      "0.958041958041958                                                                                                      \n",
      "SCORE:                                                                                                                 \n",
      "0.958041958041958                                                                                                      \n",
      "0.958041958041958                                                                                                      \n",
      "SCORE:                                                                                                                 \n",
      "0.958041958041958                                                                                                      \n",
      "0.958041958041958                                                                                                      \n",
      "SCORE:                                                                                                                 \n",
      "0.958041958041958                                                                                                      \n",
      "0.958041958041958                                                                                                      \n",
      "SCORE:                                                                                                                 \n",
      "0.958041958041958                                                                                                      \n",
      "100%|███████████████████████████████████████████████| 400/400 [00:10<00:00, 37.68trial/s, best loss: 0.958041958041958]\n"
     ]
    }
   ],
   "source": [
    "trials = Trials()\n",
    "\n",
    "best_hyperparams = fmin(fn = objective,\n",
    "                       space = space,\n",
    "                       algo = tpe.suggest,\n",
    "                       max_evals = 400,\n",
    "                       trials = trials)\n"
   ]
  },
  {
   "cell_type": "code",
   "execution_count": 196,
   "metadata": {
    "scrolled": false
   },
   "outputs": [
    {
     "name": "stdout",
     "output_type": "stream",
     "text": [
      "The best hyperparameters: \n",
      "\n",
      "{'C': 22.804436543069404, 'gamma': 0.20864310457445956, 'kernel': 2}\n",
      "linear\n"
     ]
    }
   ],
   "source": [
    "print(\"The best hyperparameters:\", \"\\n\")\n",
    "print(best_hyperparams)\n",
    "print(kernels[best_hyperparams['kernel']])"
   ]
  },
  {
   "cell_type": "code",
   "execution_count": 197,
   "metadata": {},
   "outputs": [],
   "source": [
    "SVC_classify = SVC(\n",
    "            C = best_hyperparams['C'],\n",
    "            gamma = best_hyperparams['gamma'],\n",
    "            kernel = kernels[best_hyperparams['kernel']],\n",
    "                \n",
    "                )"
   ]
  },
  {
   "cell_type": "code",
   "execution_count": 198,
   "metadata": {},
   "outputs": [
    {
     "data": {
      "text/plain": [
       "0.9882629107981221"
      ]
     },
     "execution_count": 198,
     "metadata": {},
     "output_type": "execute_result"
    }
   ],
   "source": [
    "SVC_classify.fit(X_train, Y_train)\n",
    "                           \n",
    "SVC_classify.score(X_train, Y_train)"
   ]
  },
  {
   "cell_type": "code",
   "execution_count": 199,
   "metadata": {},
   "outputs": [
    {
     "name": "stdout",
     "output_type": "stream",
     "text": [
      "real value : \n",
      "[1 0 0 0 0 0 0 0 0 0 0 0 0 0 0 1 0 1 1 1 1 1 0 0 1 0 0 1 0 1 0 1 0 1 0 1 0\n",
      " 1 0 1 1 0 1 0 0 1 0 0 0 1 1 1 1 0 0 0 0 0 0 1 1 1 0 0 1 0 1 1 1 0 0 1 0 1\n",
      " 1 0 0 0 0 0 1 1 1 0 1 0 0 0 1 1 0 1 0 1 0 0 1 0 0 0 0 0 0 0 1 0 1 0 1 1 0\n",
      " 1 1 0 0 0 0 0 0 0 0 0 1 0 1 0 0 0 0 0 1 0 0 0 0 0 0 1 1 0 0 0 1]\n",
      "\n",
      "\n",
      "observed value : \n",
      "[1 0 0 0 0 0 0 0 0 0 0 0 0 1 0 1 0 1 1 1 1 1 0 0 1 0 0 1 0 1 0 1 0 1 0 1 0\n",
      " 1 0 1 1 0 1 0 0 1 0 0 0 1 1 1 1 0 0 0 0 0 0 1 1 1 0 0 1 0 1 1 1 0 1 1 0 1\n",
      " 1 0 0 0 0 0 1 1 1 0 1 0 0 0 1 1 0 1 0 1 0 0 1 0 0 0 0 0 0 0 1 0 1 0 1 0 0\n",
      " 1 1 0 0 0 0 0 0 0 1 0 0 0 1 0 1 0 0 0 1 0 0 0 0 0 0 1 1 0 0 0 1]\n",
      "0.958041958041958\n"
     ]
    }
   ],
   "source": [
    "print('real value : ')\n",
    "print(Y_test)\n",
    "print()\n",
    "print()\n",
    "\n",
    "print('observed value : ')\n",
    "\n",
    "y_pred = SVC_classify.predict(X_test)\n",
    "print(y_pred)\n",
    "\n",
    "from sklearn.metrics import accuracy_score\n",
    "print(accuracy_score(Y_test, y_pred))\n",
    "\n"
   ]
  },
  {
   "cell_type": "code",
   "execution_count": 200,
   "metadata": {},
   "outputs": [],
   "source": [
    "from sklearn.metrics import confusion_matrix\n",
    "\n",
    "def Matrix(Y_predict):\n",
    "    cm = confusion_matrix(Y_test, Y_predict)\n",
    "    \n",
    "    TP = cm[0][0]\n",
    "    TN = cm[1][1]\n",
    "    FP = cm[0][1]\n",
    "    FN = cm[1][0]\n",
    "\n",
    "    print(cm)\n",
    "    print()\n",
    "\n",
    "    Accuracy = (TP+TN)/(TP+TN+FP+FN)\n",
    "    Precision = TP/(TP+FP)\n",
    "    Recall = TP/(TP+FN)\n",
    "\n",
    "    F1 = (2*Precision*Recall)/(Precision+Recall)\n",
    "\n",
    "    print('Accuracy of the Classifier = ', Accuracy)\n",
    "    print('Precision = ', Precision)\n",
    "    print('F1 Score = ', F1)"
   ]
  },
  {
   "cell_type": "code",
   "execution_count": 201,
   "metadata": {},
   "outputs": [
    {
     "name": "stdout",
     "output_type": "stream",
     "text": [
      "[[86  4]\n",
      " [ 2 51]]\n",
      "\n",
      "Accuracy of the Classifier =  0.958041958041958\n",
      "Precision =  0.9555555555555556\n",
      "F1 Score =  0.9662921348314608\n"
     ]
    }
   ],
   "source": [
    "Matrix(y_pred)"
   ]
  },
  {
   "cell_type": "code",
   "execution_count": 202,
   "metadata": {
    "id": "xqgfDCC_MsWn"
   },
   "outputs": [
    {
     "name": "stdout",
     "output_type": "stream",
     "text": [
      "Fitting 5 folds for each of 50 candidates, totalling 250 fits\n"
     ]
    },
    {
     "data": {
      "text/plain": [
       "RandomizedSearchCV(cv=5, estimator=SVC(), n_iter=50, n_jobs=-1,\n",
       "                   param_distributions={'C': [0.1, 1, 10, 100],\n",
       "                                        'gamma': [1, 0.1, 0.01, 0.001],\n",
       "                                        'kernel': ['rbf', 'poly', 'linear',\n",
       "                                                   'sigmoid']},\n",
       "                   random_state=0, scoring='r2', verbose=1)"
      ]
     },
     "execution_count": 202,
     "metadata": {},
     "output_type": "execute_result"
    }
   ],
   "source": [
    "from sklearn.model_selection import RandomizedSearchCV\n",
    "from sklearn.model_selection import RepeatedStratifiedKFold\n",
    "from scipy.stats import loguniform\n",
    "from sklearn.ensemble import RandomForestRegressor\n",
    "\n",
    "#param_random = \n",
    "random_search = RandomizedSearchCV(SVC(),param_grid,cv=5, scoring=\"r2\",verbose=1,n_jobs=-1, \n",
    "                             n_iter=50, random_state = 0\n",
    "                           )\n",
    "random_search.fit(X_train,Y_train)\n",
    "\n"
   ]
  },
  {
   "cell_type": "code",
   "execution_count": 203,
   "metadata": {
    "colab": {
     "base_uri": "https://localhost:8080/"
    },
    "executionInfo": {
     "elapsed": 4,
     "status": "ok",
     "timestamp": 1653658907732,
     "user": {
      "displayName": "Aditya Choudhari",
      "userId": "07226314186364651672"
     },
     "user_tz": -330
    },
    "id": "Hd2mbK3JsClJ",
    "outputId": "c38a603c-5b86-4d73-b5ae-ab8985f32414"
   },
   "outputs": [
    {
     "data": {
      "text/plain": [
       "{'kernel': 'rbf', 'gamma': 0.001, 'C': 100}"
      ]
     },
     "execution_count": 203,
     "metadata": {},
     "output_type": "execute_result"
    }
   ],
   "source": [
    "random_search.best_params_\n",
    "#random_search.best_score_"
   ]
  },
  {
   "cell_type": "code",
   "execution_count": 204,
   "metadata": {
    "colab": {
     "base_uri": "https://localhost:8080/"
    },
    "executionInfo": {
     "elapsed": 501,
     "status": "ok",
     "timestamp": 1653659267782,
     "user": {
      "displayName": "Aditya Choudhari",
      "userId": "07226314186364651672"
     },
     "user_tz": -330
    },
    "id": "lxZ1F7s9rxXC",
    "outputId": "7cf1d52a-ed0e-43d1-bd26-b458e923a44e"
   },
   "outputs": [
    {
     "name": "stdout",
     "output_type": "stream",
     "text": [
      "[2]Support Vector Machine (Linear Classifier) Training Accuracy: 0.9882629107981221\n",
      "[3]Support Vector Machine (RBF Classifier) Training Accuracy: 0.9835680751173709\n"
     ]
    }
   ],
   "source": [
    "#def svm_model(X_train, Y_train):\n",
    "from sklearn.svm import SVC\n",
    "svc_lin_random = SVC(C= 100, gamma= 0.001, kernel ='rbf')\n",
    "svc_lin_random.fit(X_train, Y_train)\n",
    "\n",
    "print('[2]Support Vector Machine (Linear Classifier) Training Accuracy:', svc_lin.score(X_train, Y_train))\n",
    "print('[3]Support Vector Machine (RBF Classifier) Training Accuracy:', svc_rbf.score(X_train, Y_train))"
   ]
  },
  {
   "cell_type": "code",
   "execution_count": 205,
   "metadata": {
    "colab": {
     "base_uri": "https://localhost:8080/"
    },
    "executionInfo": {
     "elapsed": 3,
     "status": "ok",
     "timestamp": 1653659275362,
     "user": {
      "displayName": "Aditya Choudhari",
      "userId": "07226314186364651672"
     },
     "user_tz": -330
    },
    "id": "3fQuocH5vyMa",
    "outputId": "a2c99548-c581-4dbe-d873-d16a2125d036"
   },
   "outputs": [
    {
     "name": "stdout",
     "output_type": "stream",
     "text": [
      "[[87  3]\n",
      " [ 1 52]]\n",
      "[[87  3]\n",
      " [ 1 52]]\n",
      "\n",
      "Accuracy of the Classifier =  0.972027972027972\n",
      "Precision =  0.9666666666666667\n",
      "F1 Score =  0.9775280898876404\n",
      "[[87  3]\n",
      " [ 1 52]]\n",
      "0.972027972027972\n"
     ]
    }
   ],
   "source": [
    "random_predictions = svc_lin_random.predict(X_test)\n",
    "\n",
    "\n",
    "print(confusion_matrix(Y_test,random_predictions))\n",
    "\n",
    "Matrix(random_predictions)\n",
    "\n",
    "cm = confusion_matrix(Y_test, random_predictions)\n",
    "  \n",
    "TN = cm[0][0]\n",
    "TP = cm[1][1]\n",
    "FN = cm[1][0]\n",
    "FP = cm[0][1]\n",
    "\n",
    "print(cm)\n",
    "\n",
    "print((TP + TN) / (TP + TN + FN + FP))\n"
   ]
  },
  {
   "cell_type": "code",
   "execution_count": null,
   "metadata": {},
   "outputs": [],
   "source": []
  }
 ],
 "metadata": {
  "colab": {
   "collapsed_sections": [],
   "name": "Breast_Cancer.ipynb",
   "provenance": []
  },
  "kernelspec": {
   "display_name": "Python 3 (ipykernel)",
   "language": "python",
   "name": "python3"
  },
  "language_info": {
   "codemirror_mode": {
    "name": "ipython",
    "version": 3
   },
   "file_extension": ".py",
   "mimetype": "text/x-python",
   "name": "python",
   "nbconvert_exporter": "python",
   "pygments_lexer": "ipython3",
   "version": "3.8.8"
  }
 },
 "nbformat": 4,
 "nbformat_minor": 1
}
